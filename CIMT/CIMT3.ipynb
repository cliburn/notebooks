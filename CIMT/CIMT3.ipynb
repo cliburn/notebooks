{
 "metadata": {
  "name": "CIMT3"
 },
 "nbformat": 3,
 "nbformat_minor": 0,
 "worksheets": [
  {
   "cells": [
    {
     "cell_type": "code",
     "collapsed": false,
     "input": [
      "import os, sys, glob\n",
      "from fcm.graphics import bilinear_interpolate\n",
      "from matplotlib.nxutils import points_inside_poly\n",
      "from matplotlib.patches import Ellipse"
     ],
     "language": "python",
     "metadata": {},
     "outputs": [],
     "prompt_number": 1
    },
    {
     "cell_type": "code",
     "collapsed": false,
     "input": [
      "def pickle(fname, obj):\n",
      "    import cPickle, gzip\n",
      "    cPickle.dump(obj=obj, file=gzip.open(fname, \"wb\", compresslevel=3), protocol=2)\n",
      "\n",
      "def unpickle(fname):\n",
      "    import cPickle, gzip\n",
      "    return cPickle.load(gzip.open(fname, \"rb\"))\n",
      "\n",
      "def mad(xs):\n",
      "    \"\"\"Returns MAD for vector and column MAD for matrices.\"\"\"\n",
      "    median = np.median(xs,0)\n",
      "    absdevs = np.abs(xs - median)\n",
      "    return np.median(absdevs,0)"
     ],
     "language": "python",
     "metadata": {},
     "outputs": [],
     "prompt_number": 2
    },
    {
     "cell_type": "code",
     "collapsed": false,
     "input": [
      "def summarize(xs):\n",
      "    vs = np.concatenate(list(xs))\n",
      "    mus = np.mean(vs, 0)\n",
      "    sds = np.std(vs, 0)\n",
      "    return mus, sds\n",
      "\n",
      "def translate(gates, xs, channels):\n",
      "    mus, sds = summarize(xs)\n",
      "    chs = channels[0][:len(mus)]\n",
      "    gs = {}\n",
      "    for g in gates:\n",
      "        idx = chs == g\n",
      "        gs[g] = mus[idx] + gates[g]*sds[idx]\n",
      "        # gs[g] = gates[g]\n",
      "    return gs\n",
      "\n",
      "def gating(gates, xs, channels, dims):\n",
      "    gs = translate(gates, xs, channels)\n",
      "\n",
      "    boxes = []\n",
      "    channel = channels[0]\n",
      "    for dim in dims:\n",
      "        ch_x = channel[dim[0]]\n",
      "        ch_y = channel[dim[1]]\n",
      "        lx, hx = gs[ch_x]\n",
      "        ly, hy = gs[ch_y]\n",
      "        boxes.append([[lx,lx,hx,hx], [hy,ly,ly,hy]])\n",
      "    return np.array(boxes)"
     ],
     "language": "python",
     "metadata": {},
     "outputs": [],
     "prompt_number": 3
    },
    {
     "cell_type": "code",
     "collapsed": false,
     "input": [
      "axs = {\n",
      "    'default': [\n",
      "        [0,265000,0,265000],\n",
      "        [-10000,100000,-10000,100000],\n",
      "        [-10000,100000,-10000,100000],\n",
      "        ],\n",
      "    'ID02': [\n",
      "        [0,1024,0,1024],\n",
      "        [0,1024,0,1024],\n",
      "        [0,1024,0,1024],\n",
      "        ],\n",
      "    'ID03': [\n",
      "        [0,64000,0,64000],\n",
      "        [0,64000,0,64000],\n",
      "        [0,64000,0,64000],\n",
      "        ],\n",
      "    'ID09': [\n",
      "        [0,256,0,256],\n",
      "        [0,256,0,256],\n",
      "        [0,256,0,256],\n",
      "        ],\n",
      "    'ID15': [\n",
      "        [0,1024,0,1024],\n",
      "        [0,1024,0,1024],\n",
      "        [0,1024,0,1024],\n",
      "        ],\n",
      "    'ID16': [\n",
      "        [0,1024,0,1024],\n",
      "        [0,1024,0,1024],\n",
      "        [0,1024,0,1024],\n",
      "        ],\n",
      "    'ID17a': [\n",
      "        [0,1024,0,1024],\n",
      "        [0,1024,0,1024],\n",
      "        [0,1024,0,1024],\n",
      "        ],\n",
      "    'ID22': [\n",
      "        [0,1024,0,1024],\n",
      "        [0,1024,0,1024],\n",
      "        [0,1024,0,1024],\n",
      "        ],\n",
      "\n",
      "    }"
     ],
     "language": "python",
     "metadata": {},
     "outputs": [],
     "prompt_number": 4
    },
    {
     "cell_type": "code",
     "collapsed": false,
     "input": [
      "gates = {\n",
      "    # 'common': {'cd8': (1, 3), 'fsc': (-0.75, 1.25), 'ssc': (-1.5, 0.5), 'cd3': (0, 2)},\n",
      "    'common': {'cd8': (0.5, 3), 'fsc': (-0.75, 1.25), 'tet': (3, 10), 'ssc': (-1.5, 0.5), 'cd3': (0, 2)},\n",
      "    # 'original common': {'cd8': (1, 3), 'fsc': (-0.75, 1.25), 'tet': (2.5, 10), 'ssc': (-1.5, 0.5), 'cd3': (0, 2)},\n",
      "    'ID01': {'cd8': (1, 3), 'fsc': (-1, 1.25), 'tet': (2.5, 10), 'ssc': (-1.5, 0.25), 'cd3': (0, 2)},\n",
      "    'ID02': {'cd8': (1, 3), 'fsc': (-1, 1.25), 'tet': (2.5, 10), 'ssc': (-1.5, 0.25), 'cd3': (0, 2)},\n",
      "    'ID03': {'cd8': (1, 3), 'fsc': (-0.75, 1.25), 'tet': (2.5, 10), 'ssc': (-1.5, 0.5), 'cd3': (0, 2)},\n",
      "    'ID07': {'cd8': (1, 3), 'fsc': (-0.75, 1.25), 'tet': (2.5, 10), 'ssc': (-1.5, 0.5), 'cd3': (0, 2)},\n",
      "    'ID08': {'cd8': (1, 3), 'fsc': (-1, 1), 'tet': (2.5, 10), 'ssc': (-1.5, 0.5), 'cd3': (0, 2)},\n",
      "    'ID09': {'cd8': (1, 3), 'fsc': (-0.75, 1.25), 'tet': (2.5, 10), 'ssc': (-1.5, 0.25), 'cd3': (0, 2)},\n",
      "    'ID10': {'cd8': (1, 3), 'fsc': (-0.75, 1.25), 'tet': (2.5, 10), 'ssc': (-1.5, 0.5), 'cd3': (0, 2)},\n",
      "    'ID11': {'cd8': (1, 3), 'fsc': (-0.75, 1.25), 'tet': (2.5, 10), 'ssc': (-1.5, 0.5), 'cd3': (0, 2)},\n",
      "    'ID14': {'cd8': (1.5, 3), 'fsc': (-0.75, 1.25), 'tet': (2.5, 10), 'ssc': (-1.5, 0.25), 'cd3': (0, 2)},\n",
      "    'ID15': {'cd8': (1, 3), 'fsc': (-0.75, 1.25), 'tet': (2.5, 10), 'ssc': (-1.5, 0.5), 'cd3': (0, 2)},\n",
      "    'ID16': {'cd8': (1, 3), 'fsc': (-0.75, 1.25), 'tet': (2.5, 10), 'ssc': (-1.5, 0.5), 'cd3': (0, 2)},\n",
      "    'ID17': {'cd8': (1.5, 3), 'fsc': (-0.75, 1.25), 'tet': (2.5, 10), 'ssc': (-1.5, 0.5), 'cd3': (0, 2)},\n",
      "    'ID17a': {'cd8': (1.5, 3), 'fsc': (-0.75, 1.25), 'tet': (2.5, 10), 'ssc': (-1.5, 0.5), 'cd3': (0, 2)},\n",
      "    'ID22': {'cd8': (1, 3), 'fsc': (-0.75, 1), 'tet': (2.5, 10), 'ssc': (-1.5, 0.5), 'cd3': (0, 2)},\n",
      "    'ID25': {'cd8': (1.5, 3), 'fsc': (-1, 1), 'tet': (2.5, 10), 'ssc': (-1.5, 0.5), 'cd3': (0, 2)},\n",
      "    # 'ID09': {'cd8': (0.5, 3), 'fsc': (-0.75, 1), 'tet': (2.5, 10), 'ssc': (-1.5, 0.5), 'cd3': (0, 2), 'via': (-2,1)},\n",
      "}\n"
     ],
     "language": "python",
     "metadata": {},
     "outputs": [],
     "prompt_number": 5
    },
    {
     "cell_type": "code",
     "collapsed": false,
     "input": [
      "data_dir = '/data/cliburn/CIMT3/data'\n",
      "\n",
      "fs = glob.glob(os.path.join(data_dir, '????_data.npy'))\n",
      "for f in fs:\n",
      "    path, filename = os.path.split(f)\n",
      "    lab = filename.split('_')[0]\n",
      "    fn = os.path.join(data_dir, '%s_basic_data.npy' % lab)\n",
      "    if not os.path.exists(fn):\n",
      "        xss = np.load(f)\n",
      "        yss = [xs[:,:-1] for xs in xss]\n",
      "        np.save(fn, yss)"
     ],
     "language": "python",
     "metadata": {},
     "outputs": [],
     "prompt_number": 6
    },
    {
     "cell_type": "code",
     "collapsed": false,
     "input": [
      "nclusts = 320\n",
      "niter = 100\n",
      "burnin = 20000\n",
      "verbose = 10\n",
      "delta = 0.1\n",
      "seed = 1\n",
      "\n",
      "lab = 'ID15'\n",
      "# ident = 'basic_%s_k%d_i%d_b%d_d%d_s%d' % (lab, nclusts, niter, burnin, delta, seed)\n",
      "ident = '%s_k%d_i%d_b%d_d%d_s%d' % (lab, nclusts, niter, burnin, delta, seed)\n",
      "\n",
      "# original data set \n",
      "data_files = sorted(glob.glob(os.path.join(data_dir, '%s_data.npy' % lab)))\n",
      "ys = np.load(data_files[0])\n",
      "\n",
      "# CD8 gated data set\n",
      "# data_files = sorted(glob.glob(os.path.join(data_dir, '%s_cd8_data.npy' % lab)))\n",
      "name_files = sorted(glob.glob(os.path.join(data_dir, '%s_names.npy' % lab)))\n",
      "channel_files = sorted(glob.glob(os.path.join(data_dir, '%s_channels.npy' % lab)))"
     ],
     "language": "python",
     "metadata": {},
     "outputs": [],
     "prompt_number": 19
    },
    {
     "cell_type": "code",
     "collapsed": false,
     "input": [
      "xs = np.load(data_files[0])\n",
      "names = np.load(name_files[0])\n",
      "channels = np.load(channel_files[0])\n",
      "\n",
      "print ident\n",
      "\n",
      "cs = unpickle(os.path.join(data_dir, '%s_cs.pic.gz' % ident))\n",
      "try:\n",
      "    zs = unpickle(os.path.join(data_dir, '%s_zs.pic.gz' % ident))\n",
      "except:\n",
      "    zs = [c.classify(y, use_gpu=False) for (c, y) in zip(cs, ys)]\n",
      "    pickle(os.path.join(data_dir, '%s_zs.pic.gz' % ident), zs)\n",
      "    \n",
      "print \"=\"*40\n",
      "    \n",
      "rs = unpickle(os.path.join(data_dir, '%s_rs.pic.gz' % ident))\n",
      "try:\n",
      "    zsrs = unpickle(os.path.join(data_dir, '%s_zsrs.pic.gz' % ident))\n",
      "except:\n",
      "    zsrs = []\n",
      "    for i, (r, y) in enumerate(zip(rs, ys)):\n",
      "        print \">>>\", i\n",
      "        zsrs.append(r.classify(y, use_gpu=False))\n",
      "    pickle(os.path.join(data_dir, '%s_zsrs.pic.gz' % ident), zsrs)"
     ],
     "language": "python",
     "metadata": {},
     "outputs": [
      {
       "output_type": "stream",
       "stream": "stdout",
       "text": [
        "ID15_k320_i100_b20000_d0_s1\n",
        "========================================"
       ]
      },
      {
       "output_type": "stream",
       "stream": "stdout",
       "text": [
        "\n"
       ]
      }
     ],
     "prompt_number": 197
    },
    {
     "cell_type": "code",
     "collapsed": false,
     "input": [
      "for i, z in enumerate(zsrs):\n",
      "    for j in range(512):\n",
      "        if np.sum(z == j) ==44:\n",
      "            print names[i], i, j, '\\t', np.sum(z == j)"
     ],
     "language": "python",
     "metadata": {},
     "outputs": [
      {
       "output_type": "stream",
       "stream": "stdout",
       "text": [
        "['ID15' 'donor5' 'CMV'] 12 45 \t44\n"
       ]
      }
     ],
     "prompt_number": 196
    },
    {
     "cell_type": "code",
     "collapsed": false,
     "input": [
      "k, t = 3, 36\n",
      "print \">>>\", t, np.sum(zsrs[k]==t)\n",
      "data = ys[k]\n",
      "dims = [(0,1), (2,3), (3,4)]\n",
      "figure(figsize=(12,4))\n",
      "for j, dim in enumerate(dims):\n",
      "    subplot(1, 3, j+1)\n",
      "    scatter(data[::100,dim[0]], data[::100, dim[1]], s=1, edgecolors='none')\n",
      "    scatter(data[zsrs[k]==t,dim[0]], data[zsrs[k]==t,dim[1]], s=10, edgecolors='none', c='red')\n",
      "    axis([0,1024,0,1024])\n",
      "    xticks([])\n",
      "    yticks([])"
     ],
     "language": "python",
     "metadata": {},
     "outputs": [
      {
       "output_type": "stream",
       "stream": "stdout",
       "text": [
        ">>> 36 1335\n"
       ]
      },
      {
       "output_type": "display_data",
       "png": "[encoded data removed]"
      }
     ],
     "prompt_number": 198
    },
    {
     "cell_type": "code",
     "collapsed": false,
     "input": [
      "dims = [(0,1), (2,3), (3,4)]\n",
      "# dims = dims[:-1]\n",
      "gate = gates['common']\n",
      "boxes = gating(gate, ys, channels, dims)\n",
      "c = cs[-1]\n",
      "centroids = c.modes\n",
      "\n",
      "t0 = points_inside_poly(centroids[:, dims[0]], boxes[0].T)\n",
      "t1 = points_inside_poly(centroids[:, dims[1]], boxes[1].T)\n",
      "try:\n",
      "    t2 = points_inside_poly(centroids[:, dims[2]], boxes[2].T)\n",
      "    tets = np.nonzero(t0 & t1 & t2)[0]\n",
      "except Exception, e:\n",
      "    print e\n",
      "    pass\n",
      "lymphs = np.nonzero(t0)[0]\n",
      "cd8s = np.nonzero(t0 & t1)[0]\n"
     ],
     "language": "python",
     "metadata": {},
     "outputs": [
      {
       "output_type": "stream",
       "stream": "stdout",
       "text": [
        "[[  8.14481378e+02   4.48843900e+02   2.40541888e+02   2.95800547e+02]\n",
        " [  5.00730958e+02   2.26436247e+02   4.46923772e+02   2.28468446e+02]\n",
        " [  3.42594018e+02   6.25906905e+02   2.46955898e+02   2.55307104e+02]\n",
        " [  4.88062464e+02   2.09534190e+02   1.77474367e+02   2.11522422e+02]\n",
        " [  4.79819600e+02   2.19294476e+02   4.38859767e+02   6.32065124e+02]\n",
        " [  2.34668951e+02   1.68509734e+02   4.69029170e+02   6.17761536e+02]\n",
        " [  2.22685334e+02   1.51315773e+02   5.22602258e+02   2.27464062e+02]\n",
        " [  2.49030289e+02   1.90396478e+02   1.81186135e+02   1.97113361e+02]\n",
        " [  5.47205678e+02   2.96801234e+02   2.30062683e-02   2.17093194e+02]\n",
        " [  4.67500582e+02   1.84705203e+02   1.86422881e+02   2.06132355e+02]\n",
        " [  9.50377947e+02   4.48021662e+02   4.79837523e+02   6.29897653e+02]\n",
        " [  1.86209684e+02   1.87547273e+02   6.09065926e+02   5.24142313e+02]\n",
        " [  1.42394887e+02   1.53123916e+02   3.36618848e-01   9.32775883e-01]\n",
        " [  6.10616125e+02   6.42633121e+02   9.67474137e+02   8.21862536e+02]\n",
        " [  1.02292599e+03   7.76280980e+02   4.33149015e+02   6.37482066e+02]\n",
        " [  9.49813151e+02   4.44307781e+02   4.88422910e+02   2.79484230e+02]\n",
        " [  1.02298299e+03   1.02290549e+03   5.14824527e+02   7.14395807e+02]\n",
        " [  1.45266527e+02   1.45377020e+02   1.45540711e+02   1.89546943e+00]\n",
        " [  1.02248131e+03   7.55081425e+02   3.82992563e+02   3.67409043e+02]\n",
        " [  3.16555206e+02   9.06249067e+02   7.82656339e+02   6.21489093e+02]\n",
        " [  8.77977234e+02   7.95218239e+02   4.52299758e+02   6.46789768e+02]\n",
        " [  3.74748077e+02   6.62147581e+02   6.69385819e-01   2.44921443e+02]\n",
        " [  3.16652460e+02   4.36159764e+02   2.11749455e+02   1.70034523e+01]\n",
        " [  4.32914270e+02   1.95267362e+02   3.57540926e+02   1.45328504e-01]\n",
        " [  7.61691581e+02   4.30335184e+02   9.62280716e+02   6.58865870e+02]]\n",
        "index 4 is out of bounds for axis 1 with size 4\n"
       ]
      }
     ],
     "prompt_number": 14
    },
    {
     "cell_type": "code",
     "collapsed": false,
     "input": [
      "stride = 10\n",
      "nrows = len(xs)\n",
      "ncols = len(dims)\n",
      "panel_size = 2\n",
      "pylab.figure(figsize=(panel_size*ncols, panel_size*nrows))\n",
      "\n",
      "try:\n",
      "    ax = axs[lab]\n",
      "except KeyError:\n",
      "    ax = axs['default']\n",
      "    \n",
      "yss = []\n",
      "for i, (x, name, hs, z) in enumerate(zip(xs, names, channels, zs)):\n",
      "       \n",
      "    lymph_idx = np.zeros(len(z), 'bool')\n",
      "    for t in lymphs:\n",
      "        lymph_idx |= z==t\n",
      "    cd8_idx = np.zeros(len(z), 'bool')\n",
      "    for t in cd8s:\n",
      "        cd8_idx |= z==t\n",
      "    tet_idx = np.zeros(len(z), 'bool')\n",
      "    for t in tets:\n",
      "        tet_idx |= z==t\n",
      "    \n",
      "    print x.shape, np.sum(cd8_idx)\n",
      "    \n",
      "    yss.append(x[cd8_idx, :])\n",
      "   \n",
      "    for j, dim in enumerate(dims):\n",
      "        pylab.subplot(nrows, ncols, i*ncols+j+1)\n",
      "        for k, m in enumerate(centroids):\n",
      "            if k in tets:\n",
      "               try:\n",
      "                   pylab.text(m[dim[0]], m[dim[1]], str(k), va='center', ha='center', \n",
      "                              bbox=dict(facecolor='yellow', alpha=0.5), visible=False)\n",
      "               except:\n",
      "                   pass\n",
      "        pylab.xlabel(hs[dim[0]].upper(), fontsize=14)\n",
      "        pylab.ylabel(hs[dim[1]].upper(), fontsize=14)\n",
      "        try:\n",
      "            pylab.fill(boxes[j][0], boxes[j][1], ec='red', fc='none')\n",
      "        except IndexError:\n",
      "            pass\n",
      "        pylab.scatter(x[::stride, dim[0]], x[::stride, dim[1]], s=1, c='grey',\n",
      "                      edgecolors='none', alpha=0.3)\n",
      "        # pylab.scatter(x[lymph_idx, dim[0]][::stride], x[lymph_idx, dim[1]][::stride], s=1, \n",
      "        #                 c='grey',\n",
      "        #                 edgecolors='none')\n",
      "        pylab.scatter(x[cd8_idx, dim[0]][::stride], x[cd8_idx, dim[1]][::stride], s=1, c='blue',\n",
      "                      edgecolors='none', alpha=0.3)\n",
      "        pylab.scatter(x[tet_idx, dim[0]][::stride], x[tet_idx, dim[1]][::stride], s=3, \n",
      "                        c='red',\n",
      "                        edgecolors='none')\n",
      "        if j==0:\n",
      "            pylab.axis(ax[0])\n",
      "        else:\n",
      "            pylab.axis(ax[1])\n",
      "        pylab.xticks([])\n",
      "        pylab.yticks([])\n",
      "\n",
      "pylab.tight_layout()\n",
      "pylab.savefig(os.path.join(data_dir, '%s_cd8.png' % ident))\n",
      "\n",
      "# cd8_data = os.path.join(data_dir, '%s_cd8_data.npy' % lab)\n",
      "# if not os.path.exists(cd8_data):\n",
      "#     np.save(cd8_data, yss)"
     ],
     "language": "python",
     "metadata": {},
     "outputs": [
      {
       "ename": "NameError",
       "evalue": "name 'tets' is not defined",
       "output_type": "pyerr",
       "traceback": [
        "\u001b[1;31m---------------------------------------------------------------------------\u001b[0m\n\u001b[1;31mNameError\u001b[0m                                 Traceback (most recent call last)",
        "\u001b[1;32m<ipython-input-12-4351d89d4d41>\u001b[0m in \u001b[0;36m<module>\u001b[1;34m()\u001b[0m\n\u001b[0;32m     20\u001b[0m         \u001b[0mcd8_idx\u001b[0m \u001b[1;33m|=\u001b[0m \u001b[0mz\u001b[0m\u001b[1;33m==\u001b[0m\u001b[0mt\u001b[0m\u001b[1;33m\u001b[0m\u001b[0m\n\u001b[0;32m     21\u001b[0m     \u001b[0mtet_idx\u001b[0m \u001b[1;33m=\u001b[0m \u001b[0mnp\u001b[0m\u001b[1;33m.\u001b[0m\u001b[0mzeros\u001b[0m\u001b[1;33m(\u001b[0m\u001b[0mlen\u001b[0m\u001b[1;33m(\u001b[0m\u001b[0mz\u001b[0m\u001b[1;33m)\u001b[0m\u001b[1;33m,\u001b[0m \u001b[1;34m'bool'\u001b[0m\u001b[1;33m)\u001b[0m\u001b[1;33m\u001b[0m\u001b[0m\n\u001b[1;32m---> 22\u001b[1;33m     \u001b[1;32mfor\u001b[0m \u001b[0mt\u001b[0m \u001b[1;32min\u001b[0m \u001b[0mtets\u001b[0m\u001b[1;33m:\u001b[0m\u001b[1;33m\u001b[0m\u001b[0m\n\u001b[0m\u001b[0;32m     23\u001b[0m         \u001b[0mtet_idx\u001b[0m \u001b[1;33m|=\u001b[0m \u001b[0mz\u001b[0m\u001b[1;33m==\u001b[0m\u001b[0mt\u001b[0m\u001b[1;33m\u001b[0m\u001b[0m\n\u001b[0;32m     24\u001b[0m \u001b[1;33m\u001b[0m\u001b[0m\n",
        "\u001b[1;31mNameError\u001b[0m: name 'tets' is not defined"
       ]
      }
     ],
     "prompt_number": 12
    },
    {
     "cell_type": "code",
     "collapsed": false,
     "input": [
      "# Make full plots\n",
      "\n",
      "from fcm.graphics import bilinear_interpolate\n",
      "\n",
      "nclusts = 128\n",
      "niter = 100\n",
      "burnin = 10000\n",
      "verbose = 10\n",
      "delta = 0.1\n",
      "seed = 1\n",
      "\n",
      "pts = 10000\n",
      "\n",
      "dims = [(0,1), (2,3), (3,4)]\n",
      "countss = []\n",
      "    \n",
      "labs = ['ID%s' % i for i in ['01','02','03','07','08','09','10','11','14','15','16','17','17a','22','25']]\n",
      "# labs = ['ID17a']\n",
      "for lab in labs:\n",
      "    print lab\n",
      "    \n",
      "    xs0 = np.load(sorted(glob.glob(os.path.join(data_dir, '%s_data.npy' % lab)))[0]) # full data\n",
      "    xs = np.load(sorted(glob.glob(os.path.join(data_dir, '%s_cd8_data.npy' % lab)))[0]) # CD8 gated data\n",
      "    \n",
      "    if lab == 'ID17':\n",
      "        xs0 = xs0[:-3]\n",
      "    # else:\n",
      "        continue\n",
      "        \n",
      "    # print len(xs0), len(xs)\n",
      "    \n",
      "    names = np.load(sorted(glob.glob(os.path.join(data_dir, '%s_names.npy' % lab)))[0])\n",
      "    channels = np.load(sorted(glob.glob(os.path.join(data_dir, '%s_channels.npy' % lab)))[0])\n",
      "    \n",
      "    ident0 = 'basic_%s_k%d_i%d_b%d_d%d_s%d' % (lab, nclusts, niter, burnin/2, delta, seed)\n",
      "    ident = 'cd8_%s_k%d_i%d_b%d_d%d_s%d' % (lab, nclusts, niter, burnin, delta, seed)    \n",
      "    \n",
      "    cs0 = unpickle(os.path.join(data_dir, '%s_cs.pic.gz' % ident0))\n",
      "    cs = unpickle(os.path.join(data_dir, '%s_cs.pic.gz' % ident))\n",
      "    zs0 = np.load(os.path.join(data_dir, '%s_zs.npy' % ident0))\n",
      "    zs = np.load(os.path.join(data_dir, '%s_zs.npy' % ident))\n",
      "    rs = unpickle(os.path.join(data_dir, '%s_rs.pic.gz' % ident))    \n",
      "    \n",
      "    try:\n",
      "        rzs = np.load(os.path.join(data_dir, '%s_rzs.npy' % ident))\n",
      "    except:\n",
      "        rzs = []\n",
      "        for (x, r) in zip(xs, rs):\n",
      "            rz = r.classify(x)\n",
      "            rzs.append(rz)\n",
      "        np.save(os.path.join(data_dir, '%s_rzs.npy' % ident), rzs)\n",
      "    \n",
      "    # try:\n",
      "    #     gate = gates[lab]\n",
      "    # except:\n",
      "    gate = gates['common']\n",
      "    boxes = gating(gate, xs0, channels, dims)\n",
      "\n",
      "    # c0 = cs0[-1]\n",
      "    # centroids0 = c0.modes\n",
      "    \n",
      "    # c = cs[-1]\n",
      "    # centroids = c.modes\n",
      "   \n",
      "    # s0 = points_inside_poly(centroids0[:, dims[0]], boxes[0].T)\n",
      "    # lymphs0 = np.nonzero(s0)[0]\n",
      "    # s1 = points_inside_poly(centroids0[:, dims[1]], boxes[1].T)\n",
      "    # cd8s0 = np.nonzero(s0 & s1)[0]\n",
      "\n",
      "    # t0 = points_inside_poly(centroids[:, dims[0]], boxes[0].T)\n",
      "    # lymphs = np.nonzero(t0)[0]\n",
      "    # t1 = points_inside_poly(centroids[:, dims[1]], boxes[1].T)\n",
      "    # cd8s = np.nonzero(t0 & t1)[0]\n",
      "    # t2 = points_inside_poly(centroids[:, dims[2]], boxes[2].T)\n",
      "    # tets = np.nonzero(t0 & t1 & t2)[0]\n",
      "\n",
      "    nrows = len(xs)\n",
      "    ncols = len(dims)\n",
      "    panel_size = 3\n",
      "    pylab.figure(figsize=(panel_size*ncols, panel_size*nrows))\n",
      "\n",
      "    # try:\n",
      "    #     ax = axs[lab]\n",
      "    # except KeyError:\n",
      "    #     ax = axs['default']\n",
      "    axs = []\n",
      "    for i, (x, x0, name, hs, z, z0) in enumerate(zip(xs, xs0, names, channels, rzs, zs0)):\n",
      "        if i==7:\n",
      "            t0 = points_inside_poly(centroids[:, dims[0]], boxes[0].T)\n",
      "            lymphs = np.nonzero(t0)[0]\n",
      "            t1 = points_inside_poly(centroids[:, dims[1]], boxes[1].T)\n",
      "            cd8s = np.nonzero(t0 & t1)[0]\n",
      "              \n",
      "            lymph_idx = np.zeros(len(z0), 'bool')\n",
      "            for t in lymphs0:\n",
      "                lymph_idx |= z0==t\n",
      "                \n",
      "            cd8_idx = np.zeros(len(z), 'bool')\n",
      "            for t in cd8s:\n",
      "                cd8_idx |= z==t            \n",
      "            \n",
      "            for j, dim in enumerate(dims):\n",
      "                pylab.scatter(x[cd8_idx, dim[0]][:1000], x[cd8_idx, dim[1]][:1000], s=1, c='blue',\n",
      "                              edgecolors='none', alpha=0.6, visible=False)\n",
      "                axs.append(pylab.axis)    \n",
      "\n",
      "    for i, (x, x0, name, hs, z, z0) in enumerate(zip(xs, xs0, names, channels, rzs, zs0)):\n",
      "        \n",
      "        c0 = cs0[-1]\n",
      "        centroids0 = c0.modes\n",
      "        \n",
      "        c = cs[i]\n",
      "        centroids = c.modes\n",
      "        \n",
      "        r = rs[i]\n",
      "        centroids = r.mus\n",
      "        \n",
      "        s0 = points_inside_poly(centroids0[:, dims[0]], boxes[0].T)\n",
      "        lymphs0 = np.nonzero(s0)[0]\n",
      "        s1 = points_inside_poly(centroids0[:, dims[1]], boxes[1].T)\n",
      "        cd8s0 = np.nonzero(s0 & s1)[0]\n",
      "    \n",
      "        t0 = points_inside_poly(centroids[:, dims[0]], boxes[0].T)\n",
      "        lymphs = np.nonzero(t0)[0]\n",
      "        t1 = points_inside_poly(centroids[:, dims[1]], boxes[1].T)\n",
      "        cd8s = np.nonzero(t0 & t1)[0]\n",
      "        t2 = points_inside_poly(centroids[:, dims[2]], boxes[2].T)\n",
      "        tets = np.nonzero(t0 & t1 & t2)[0]\n",
      "        \n",
      "        if lab == 'ID17a':\n",
      "            name[1] = 'donor5'\n",
      "           \n",
      "        lymph_idx = np.zeros(len(z0), 'bool')\n",
      "        for t in lymphs0:\n",
      "            lymph_idx |= z0==t\n",
      "        cd8_idx = np.zeros(len(z), 'bool')\n",
      "        for t in cd8s:\n",
      "            cd8_idx |= z==t\n",
      "        \n",
      "        # medians and mads\n",
      "        medians = np.median(x[cd8_idx, :], 0)\n",
      "        mads = mad(x[cd8_idx, :])\n",
      "                \n",
      "        upper = medians + 4*mads\n",
      "        lower = medians - 4*mads\n",
      "        xbox = np.array([lower[dims[0][0]], lower[dims[0][0]], upper[dims[0][0]], upper[dims[0][0]]])\n",
      "        ybox = np.array([upper[dims[0][1]], lower[dims[0][1]], lower[dims[0][1]], upper[dims[0][1]]])\n",
      "            \n",
      "        centers = centroids[:, dims[0]]\n",
      "        centers = centers[tets, :]\n",
      "        tets = tets[points_inside_poly(centers, np.array([xbox, ybox]).T)]      \n",
      "        \n",
      "        # tets = []\n",
      "        # for k, m in enumerate(r.mus):\n",
      "        #     if m[-1] > (medians + 4*mads)[-1]:\n",
      "        #         tets.append(k)\n",
      "            \n",
      "        tet_idx = np.zeros(len(z), 'bool')\n",
      "        for t in tets:\n",
      "            tet_idx |= z==t\n",
      "        \n",
      "        ntotal = len(lymph_idx)\n",
      "        nlymphs = np.sum(lymph_idx)\n",
      "        ncd8s = np.sum(cd8_idx)\n",
      "        ntets = np.sum(tet_idx)\n",
      "       \n",
      "        ptet = 100.0*ntets/ncd8s\n",
      "        if name[2] == 'FMO':\n",
      "            tc = 'YES' if ptet < 0.01 else 'NO'\n",
      "        elif name[1] == 'donor1' and name[2] == 'CMV':\n",
      "            tc = 'YES' if ptet < 0.01 else 'NO'\n",
      "        elif name[1] == 'donor1' and name[2] == 'FLU':\n",
      "            tc = 'YES' if ptet > 0.01 else 'NO'\n",
      "        elif name[1] == 'donor2' and name[2] == 'CMV':\n",
      "            tc = 'YES' if ptet > 0.01 else 'NO'\n",
      "        elif name[1] == 'donor2' and name[2] == 'FLU':\n",
      "            tc = 'YES' if ptet > 0.01 else 'NO'\n",
      "        elif name[1] == 'donor3' and name[2] == 'CMV':\n",
      "            tc = 'YES' if ptet > 0.01 else 'NO'            \n",
      "        elif name[1] == 'donor3' and name[2] == 'FLU':\n",
      "            tc = 'YES' if ptet > 0.01 else 'NO'\n",
      "        elif name[1] == 'donor4' and name[2] == 'CMV':\n",
      "            tc = 'YES' if ptet > 0.01 else 'NO'            \n",
      "        elif name[1] == 'donor4' and name[2] == 'FLU':\n",
      "            tc = 'YES' if ptet > 0.01 else 'NO'\n",
      "        elif name[1] == 'donor5' and name[2] == 'CMV':\n",
      "            tc = 'YES' if ptet < 0.01 else 'NO'            \n",
      "        elif name[1] == 'donor5' and name[2] == 'FLU':\n",
      "            tc = 'YES' if ptet < 0.01 else 'NO'            \n",
      "        \n",
      "        counts = np.concatenate([name, [ntotal, nlymphs, ncd8s, ntets, ptet, tc]])\n",
      "        countss.append(counts)\n",
      "        line = counts[[0,1,2,7,8]].tolist()\n",
      "        line[3] = float(line[3])\n",
      "        print line[0], line[1], line[2], '%.3f' % line[3], line[4]\n",
      "\n",
      "        \n",
      "        for j, dim in enumerate(dims):\n",
      "            pylab.subplot(nrows, ncols, i*ncols+j+1)\n",
      "            pylab.xlabel(hs[dim[0]].upper(), fontsize=14)\n",
      "            pylab.ylabel(hs[dim[1]].upper(), fontsize=14)\n",
      "            # pylab.scatter(x0[:1000, dim[0]], x0[:1000, dim[1]], s=1, c='grey',\n",
      "            #               edgecolors='none', alpha=0.3)\n",
      "            try:\n",
      "                color = bilinear_interpolate(x[cd8_idx, dim[0]][:pts], x[cd8_idx, dim[1]][:pts])\n",
      "            except:\n",
      "                color = 'blue'\n",
      "            pylab.scatter(x[cd8_idx, dim[0]][:pts], x[cd8_idx, dim[1]][:pts], s=1, c=color,\n",
      "                          edgecolors='none', alpha=0.6)\n",
      "       \n",
      "            size = 5\n",
      "            pylab.scatter(x[tet_idx, dim[0]][:], x[tet_idx, dim[1]][:], s=size, \n",
      "                            c='red',\n",
      "                            edgecolors='none')\n",
      "            # if j==0:\n",
      "            #     pylab.axis(ax[0])\n",
      "            # else:\n",
      "            #     pylab.axis(ax[1])\n",
      "            \n",
      "            pylab.axis(ax[j])\n",
      "            \n",
      "            pylab.xticks([])\n",
      "            pylab.yticks([])\n",
      "\n",
      "            for factor in range(-4, 5, 2):\n",
      "                vlevel = medians[dim[0]] + factor*mads[dim[0]]\n",
      "                hlevel = medians[dim[1]] + factor*mads[dim[1]]\n",
      "                if factor == 0:\n",
      "                    pylab.axvline(vlevel, c='red')\n",
      "                    pylab.axhline(hlevel, c='red')\n",
      "                else:\n",
      "                    pylab.axvline(vlevel, c='orange', linestyle='dashed')\n",
      "                    pylab.axhline(hlevel, c='orange', linestyle='dashed')\n",
      "                    \n",
      "            upper = medians - 4*mads\n",
      "            lower = medians + 4*mads\n",
      "            xbox = [lower[dim[0]], lower[dim[0]], upper[dim[0]], upper[dim[0]]]\n",
      "            ybox = [upper[dim[1]], lower[dim[1]], lower[dim[1]], upper[dim[1]]]\n",
      "                    \n",
      "                    \n",
      "            xlim = pylab.xlim()\n",
      "            ylim = pylab.ylim()\n",
      "            xpos = xlim[0] + 0.05 * (xlim[1] - xlim[0])\n",
      "            ypos = ylim[0] + 0.92 * (ylim[1] - ylim[0])\n",
      "            yoffset = 0.1*(ylim[1]- ylim[0])\n",
      "\n",
      "            if j == 0:\n",
      "                pylab.text(xpos, ypos, '%s-D%s-%s' % (name[0], name[1][-1], name[2]), va='center', ha='left',\n",
      "                    bbox=dict(facecolor='yellow', alpha=0.5), fontsize=14)\n",
      "            if j == 2:\n",
      "                pylab.text(xpos, ypos, 'n=%d' % (ntets, ), va='center', ha='left',\n",
      "                    bbox=dict(facecolor='yellow', alpha=0.5), fontsize=14)\n",
      "                pylab.text(xpos, ypos-yoffset, 'p=%.3f%%' % (100.0*ntets/ncd8s, ), va='center', ha='left',\n",
      "                    bbox=dict(facecolor='yellow', alpha=0.5), fontsize=14)\n",
      "                \n",
      "            for k, m in enumerate(r.mus):\n",
      "                if k in tets: # m[-1] > (medians + 4*mads)[-1]:\n",
      "                    pylab.text(m[dim[0]], m[dim[1]], str(k), va='center', ha='center', color='black', fontsize=14,\n",
      "                        bbox=dict(facecolor='yellow', alpha=0.5))\n",
      "            #         else:\n",
      "            #             pylab.text(m[dim[0]], m[dim[1]], str(k), va='center', ha='center', color='black')\n",
      "            # pylab.fill(boxes[j][0], boxes[j][1], ec='red', fc='none')\n",
      "            pylab.fill(boxes[j][0], boxes[j][1], ec='red', fc='none', linewidth=1)\n",
      "        \n",
      "    pylab.tight_layout()\n",
      "    pylab.savefig(os.path.join(data_dir, '%s_tet.png' % ident))\n",
      "    pylab.close()\n",
      "    \n",
      "    # sys.exit()\n",
      "np.savetxt(os.path.join(data_dir, 'counts.txt'), countss, fmt='%s')"
     ],
     "language": "python",
     "metadata": {},
     "outputs": [
      {
       "output_type": "stream",
       "stream": "stdout",
       "text": [
        "ID01\n",
        "ID01"
       ]
      },
      {
       "output_type": "stream",
       "stream": "stdout",
       "text": [
        " donor1 CMV 0.002 YES\n",
        "ID01"
       ]
      },
      {
       "ename": "KeyboardInterrupt",
       "evalue": "",
       "output_type": "pyerr",
       "traceback": [
        "\u001b[1;31m---------------------------------------------------------------------------\u001b[0m\n\u001b[1;31mKeyboardInterrupt\u001b[0m                         Traceback (most recent call last)",
        "\u001b[1;32m<ipython-input-175-5b3060469245>\u001b[0m in \u001b[0;36m<module>\u001b[1;34m()\u001b[0m\n\u001b[0;32m    136\u001b[0m         \u001b[0mcd8_idx\u001b[0m \u001b[1;33m=\u001b[0m \u001b[0mnp\u001b[0m\u001b[1;33m.\u001b[0m\u001b[0mzeros\u001b[0m\u001b[1;33m(\u001b[0m\u001b[0mlen\u001b[0m\u001b[1;33m(\u001b[0m\u001b[0mz\u001b[0m\u001b[1;33m)\u001b[0m\u001b[1;33m,\u001b[0m \u001b[1;34m'bool'\u001b[0m\u001b[1;33m)\u001b[0m\u001b[1;33m\u001b[0m\u001b[0m\n\u001b[0;32m    137\u001b[0m         \u001b[1;32mfor\u001b[0m \u001b[0mt\u001b[0m \u001b[1;32min\u001b[0m \u001b[0mcd8s\u001b[0m\u001b[1;33m:\u001b[0m\u001b[1;33m\u001b[0m\u001b[0m\n\u001b[1;32m--> 138\u001b[1;33m             \u001b[0mcd8_idx\u001b[0m \u001b[1;33m|=\u001b[0m \u001b[0mz\u001b[0m\u001b[1;33m==\u001b[0m\u001b[0mt\u001b[0m\u001b[1;33m\u001b[0m\u001b[0m\n\u001b[0m\u001b[0;32m    139\u001b[0m \u001b[1;33m\u001b[0m\u001b[0m\n\u001b[0;32m    140\u001b[0m         \u001b[1;31m# medians and mads\u001b[0m\u001b[1;33m\u001b[0m\u001b[1;33m\u001b[0m\u001b[0m\n",
        "\u001b[1;31mKeyboardInterrupt\u001b[0m: "
       ]
      },
      {
       "ename": "ValueError",
       "evalue": "width and height must each be below 32768",
       "output_type": "pyerr",
       "traceback": [
        "\u001b[1;31m---------------------------------------------------------------------------\u001b[0m\n\u001b[1;31mValueError\u001b[0m                                Traceback (most recent call last)",
        "\u001b[1;32m/usr/local/lib/python2.7/dist-packages/IPython/zmq/pylab/backend_inline.pyc\u001b[0m in \u001b[0;36mshow\u001b[1;34m(close)\u001b[0m\n\u001b[0;32m    100\u001b[0m     \u001b[1;32mtry\u001b[0m\u001b[1;33m:\u001b[0m\u001b[1;33m\u001b[0m\u001b[0m\n\u001b[0;32m    101\u001b[0m         \u001b[1;32mfor\u001b[0m \u001b[0mfigure_manager\u001b[0m \u001b[1;32min\u001b[0m \u001b[0mGcf\u001b[0m\u001b[1;33m.\u001b[0m\u001b[0mget_all_fig_managers\u001b[0m\u001b[1;33m(\u001b[0m\u001b[1;33m)\u001b[0m\u001b[1;33m:\u001b[0m\u001b[1;33m\u001b[0m\u001b[0m\n\u001b[1;32m--> 102\u001b[1;33m             \u001b[0msend_figure\u001b[0m\u001b[1;33m(\u001b[0m\u001b[0mfigure_manager\u001b[0m\u001b[1;33m.\u001b[0m\u001b[0mcanvas\u001b[0m\u001b[1;33m.\u001b[0m\u001b[0mfigure\u001b[0m\u001b[1;33m)\u001b[0m\u001b[1;33m\u001b[0m\u001b[0m\n\u001b[0m\u001b[0;32m    103\u001b[0m     \u001b[1;32mfinally\u001b[0m\u001b[1;33m:\u001b[0m\u001b[1;33m\u001b[0m\u001b[0m\n\u001b[0;32m    104\u001b[0m         \u001b[0mshow\u001b[0m\u001b[1;33m.\u001b[0m\u001b[0m_to_draw\u001b[0m \u001b[1;33m=\u001b[0m \u001b[1;33m[\u001b[0m\u001b[1;33m]\u001b[0m\u001b[1;33m\u001b[0m\u001b[0m\n",
        "\u001b[1;32m/usr/local/lib/python2.7/dist-packages/IPython/zmq/pylab/backend_inline.pyc\u001b[0m in \u001b[0;36msend_figure\u001b[1;34m(fig)\u001b[0m\n\u001b[0;32m    209\u001b[0m     \"\"\"\n\u001b[0;32m    210\u001b[0m     \u001b[0mfmt\u001b[0m \u001b[1;33m=\u001b[0m \u001b[0mInlineBackend\u001b[0m\u001b[1;33m.\u001b[0m\u001b[0minstance\u001b[0m\u001b[1;33m(\u001b[0m\u001b[1;33m)\u001b[0m\u001b[1;33m.\u001b[0m\u001b[0mfigure_format\u001b[0m\u001b[1;33m\u001b[0m\u001b[0m\n\u001b[1;32m--> 211\u001b[1;33m     \u001b[0mdata\u001b[0m \u001b[1;33m=\u001b[0m \u001b[0mprint_figure\u001b[0m\u001b[1;33m(\u001b[0m\u001b[0mfig\u001b[0m\u001b[1;33m,\u001b[0m \u001b[0mfmt\u001b[0m\u001b[1;33m)\u001b[0m\u001b[1;33m\u001b[0m\u001b[0m\n\u001b[0m\u001b[0;32m    212\u001b[0m     \u001b[1;31m# print_figure will return None if there's nothing to draw:\u001b[0m\u001b[1;33m\u001b[0m\u001b[1;33m\u001b[0m\u001b[0m\n\u001b[0;32m    213\u001b[0m     \u001b[1;32mif\u001b[0m \u001b[0mdata\u001b[0m \u001b[1;32mis\u001b[0m \u001b[0mNone\u001b[0m\u001b[1;33m:\u001b[0m\u001b[1;33m\u001b[0m\u001b[0m\n",
        "\u001b[1;32m/usr/local/lib/python2.7/dist-packages/IPython/core/pylabtools.pyc\u001b[0m in \u001b[0;36mprint_figure\u001b[1;34m(fig, fmt)\u001b[0m\n\u001b[0;32m    102\u001b[0m     \u001b[1;32mtry\u001b[0m\u001b[1;33m:\u001b[0m\u001b[1;33m\u001b[0m\u001b[0m\n\u001b[0;32m    103\u001b[0m         \u001b[0mbytes_io\u001b[0m \u001b[1;33m=\u001b[0m \u001b[0mBytesIO\u001b[0m\u001b[1;33m(\u001b[0m\u001b[1;33m)\u001b[0m\u001b[1;33m\u001b[0m\u001b[0m\n\u001b[1;32m--> 104\u001b[1;33m         \u001b[0mfig\u001b[0m\u001b[1;33m.\u001b[0m\u001b[0mcanvas\u001b[0m\u001b[1;33m.\u001b[0m\u001b[0mprint_figure\u001b[0m\u001b[1;33m(\u001b[0m\u001b[0mbytes_io\u001b[0m\u001b[1;33m,\u001b[0m \u001b[0mformat\u001b[0m\u001b[1;33m=\u001b[0m\u001b[0mfmt\u001b[0m\u001b[1;33m,\u001b[0m \u001b[0mbbox_inches\u001b[0m\u001b[1;33m=\u001b[0m\u001b[1;34m'tight'\u001b[0m\u001b[1;33m)\u001b[0m\u001b[1;33m\u001b[0m\u001b[0m\n\u001b[0m\u001b[0;32m    105\u001b[0m         \u001b[0mdata\u001b[0m \u001b[1;33m=\u001b[0m \u001b[0mbytes_io\u001b[0m\u001b[1;33m.\u001b[0m\u001b[0mgetvalue\u001b[0m\u001b[1;33m(\u001b[0m\u001b[1;33m)\u001b[0m\u001b[1;33m\u001b[0m\u001b[0m\n\u001b[0;32m    106\u001b[0m     \u001b[1;32mfinally\u001b[0m\u001b[1;33m:\u001b[0m\u001b[1;33m\u001b[0m\u001b[0m\n",
        "\u001b[1;32m/usr/lib/pymodules/python2.7/matplotlib/backend_bases.pyc\u001b[0m in \u001b[0;36mprint_figure\u001b[1;34m(self, filename, dpi, facecolor, edgecolor, orientation, format, **kwargs)\u001b[0m\n\u001b[0;32m   2019\u001b[0m                 \u001b[0morientation\u001b[0m\u001b[1;33m=\u001b[0m\u001b[0morientation\u001b[0m\u001b[1;33m,\u001b[0m\u001b[1;33m\u001b[0m\u001b[0m\n\u001b[0;32m   2020\u001b[0m                 \u001b[0mbbox_inches_restore\u001b[0m\u001b[1;33m=\u001b[0m\u001b[0m_bbox_inches_restore\u001b[0m\u001b[1;33m,\u001b[0m\u001b[1;33m\u001b[0m\u001b[0m\n\u001b[1;32m-> 2021\u001b[1;33m                 **kwargs)\n\u001b[0m\u001b[0;32m   2022\u001b[0m         \u001b[1;32mfinally\u001b[0m\u001b[1;33m:\u001b[0m\u001b[1;33m\u001b[0m\u001b[0m\n\u001b[0;32m   2023\u001b[0m             \u001b[1;32mif\u001b[0m \u001b[0mbbox_inches\u001b[0m \u001b[1;32mand\u001b[0m \u001b[0mrestore_bbox\u001b[0m\u001b[1;33m:\u001b[0m\u001b[1;33m\u001b[0m\u001b[0m\n",
        "\u001b[1;32m/usr/lib/pymodules/python2.7/matplotlib/backends/backend_agg.pyc\u001b[0m in \u001b[0;36mprint_png\u001b[1;34m(self, filename_or_obj, *args, **kwargs)\u001b[0m\n\u001b[0;32m    467\u001b[0m \u001b[1;33m\u001b[0m\u001b[0m\n\u001b[0;32m    468\u001b[0m     \u001b[1;32mdef\u001b[0m \u001b[0mprint_png\u001b[0m\u001b[1;33m(\u001b[0m\u001b[0mself\u001b[0m\u001b[1;33m,\u001b[0m \u001b[0mfilename_or_obj\u001b[0m\u001b[1;33m,\u001b[0m \u001b[1;33m*\u001b[0m\u001b[0margs\u001b[0m\u001b[1;33m,\u001b[0m \u001b[1;33m**\u001b[0m\u001b[0mkwargs\u001b[0m\u001b[1;33m)\u001b[0m\u001b[1;33m:\u001b[0m\u001b[1;33m\u001b[0m\u001b[0m\n\u001b[1;32m--> 469\u001b[1;33m         \u001b[0mFigureCanvasAgg\u001b[0m\u001b[1;33m.\u001b[0m\u001b[0mdraw\u001b[0m\u001b[1;33m(\u001b[0m\u001b[0mself\u001b[0m\u001b[1;33m)\u001b[0m\u001b[1;33m\u001b[0m\u001b[0m\n\u001b[0m\u001b[0;32m    470\u001b[0m         \u001b[0mrenderer\u001b[0m \u001b[1;33m=\u001b[0m \u001b[0mself\u001b[0m\u001b[1;33m.\u001b[0m\u001b[0mget_renderer\u001b[0m\u001b[1;33m(\u001b[0m\u001b[1;33m)\u001b[0m\u001b[1;33m\u001b[0m\u001b[0m\n\u001b[0;32m    471\u001b[0m         \u001b[0moriginal_dpi\u001b[0m \u001b[1;33m=\u001b[0m \u001b[0mrenderer\u001b[0m\u001b[1;33m.\u001b[0m\u001b[0mdpi\u001b[0m\u001b[1;33m\u001b[0m\u001b[0m\n",
        "\u001b[1;32m/usr/lib/pymodules/python2.7/matplotlib/backends/backend_agg.pyc\u001b[0m in \u001b[0;36mdraw\u001b[1;34m(self)\u001b[0m\n\u001b[0;32m    414\u001b[0m         \u001b[1;32mif\u001b[0m \u001b[0m__debug__\u001b[0m\u001b[1;33m:\u001b[0m \u001b[0mverbose\u001b[0m\u001b[1;33m.\u001b[0m\u001b[0mreport\u001b[0m\u001b[1;33m(\u001b[0m\u001b[1;34m'FigureCanvasAgg.draw'\u001b[0m\u001b[1;33m,\u001b[0m \u001b[1;34m'debug-annoying'\u001b[0m\u001b[1;33m)\u001b[0m\u001b[1;33m\u001b[0m\u001b[0m\n\u001b[0;32m    415\u001b[0m \u001b[1;33m\u001b[0m\u001b[0m\n\u001b[1;32m--> 416\u001b[1;33m         \u001b[0mself\u001b[0m\u001b[1;33m.\u001b[0m\u001b[0mrenderer\u001b[0m \u001b[1;33m=\u001b[0m \u001b[0mself\u001b[0m\u001b[1;33m.\u001b[0m\u001b[0mget_renderer\u001b[0m\u001b[1;33m(\u001b[0m\u001b[1;33m)\u001b[0m\u001b[1;33m\u001b[0m\u001b[0m\n\u001b[0m\u001b[0;32m    417\u001b[0m         \u001b[1;31m# acquire a lock on the shared font cache\u001b[0m\u001b[1;33m\u001b[0m\u001b[1;33m\u001b[0m\u001b[0m\n\u001b[0;32m    418\u001b[0m         \u001b[0mRendererAgg\u001b[0m\u001b[1;33m.\u001b[0m\u001b[0mlock\u001b[0m\u001b[1;33m.\u001b[0m\u001b[0macquire\u001b[0m\u001b[1;33m(\u001b[0m\u001b[1;33m)\u001b[0m\u001b[1;33m\u001b[0m\u001b[0m\n",
        "\u001b[1;32m/usr/lib/pymodules/python2.7/matplotlib/backends/backend_agg.pyc\u001b[0m in \u001b[0;36mget_renderer\u001b[1;34m(self)\u001b[0m\n\u001b[0;32m    433\u001b[0m \u001b[1;33m\u001b[0m\u001b[0m\n\u001b[0;32m    434\u001b[0m         \u001b[1;32mif\u001b[0m \u001b[0mneed_new_renderer\u001b[0m\u001b[1;33m:\u001b[0m\u001b[1;33m\u001b[0m\u001b[0m\n\u001b[1;32m--> 435\u001b[1;33m             \u001b[0mself\u001b[0m\u001b[1;33m.\u001b[0m\u001b[0mrenderer\u001b[0m \u001b[1;33m=\u001b[0m \u001b[0mRendererAgg\u001b[0m\u001b[1;33m(\u001b[0m\u001b[0mw\u001b[0m\u001b[1;33m,\u001b[0m \u001b[0mh\u001b[0m\u001b[1;33m,\u001b[0m \u001b[0mself\u001b[0m\u001b[1;33m.\u001b[0m\u001b[0mfigure\u001b[0m\u001b[1;33m.\u001b[0m\u001b[0mdpi\u001b[0m\u001b[1;33m)\u001b[0m\u001b[1;33m\u001b[0m\u001b[0m\n\u001b[0m\u001b[0;32m    436\u001b[0m             \u001b[0mself\u001b[0m\u001b[1;33m.\u001b[0m\u001b[0m_lastKey\u001b[0m \u001b[1;33m=\u001b[0m \u001b[0mkey\u001b[0m\u001b[1;33m\u001b[0m\u001b[0m\n\u001b[0;32m    437\u001b[0m         \u001b[1;32mreturn\u001b[0m \u001b[0mself\u001b[0m\u001b[1;33m.\u001b[0m\u001b[0mrenderer\u001b[0m\u001b[1;33m\u001b[0m\u001b[0m\n",
        "\u001b[1;32m/usr/lib/pymodules/python2.7/matplotlib/backends/backend_agg.pyc\u001b[0m in \u001b[0;36m__init__\u001b[1;34m(self, width, height, dpi)\u001b[0m\n\u001b[0;32m     70\u001b[0m         \u001b[0mself\u001b[0m\u001b[1;33m.\u001b[0m\u001b[0mheight\u001b[0m \u001b[1;33m=\u001b[0m \u001b[0mheight\u001b[0m\u001b[1;33m\u001b[0m\u001b[0m\n\u001b[0;32m     71\u001b[0m         \u001b[1;32mif\u001b[0m \u001b[0m__debug__\u001b[0m\u001b[1;33m:\u001b[0m \u001b[0mverbose\u001b[0m\u001b[1;33m.\u001b[0m\u001b[0mreport\u001b[0m\u001b[1;33m(\u001b[0m\u001b[1;34m'RendererAgg.__init__ width=%s, height=%s'\u001b[0m\u001b[1;33m%\u001b[0m\u001b[1;33m(\u001b[0m\u001b[0mwidth\u001b[0m\u001b[1;33m,\u001b[0m \u001b[0mheight\u001b[0m\u001b[1;33m)\u001b[0m\u001b[1;33m,\u001b[0m \u001b[1;34m'debug-annoying'\u001b[0m\u001b[1;33m)\u001b[0m\u001b[1;33m\u001b[0m\u001b[0m\n\u001b[1;32m---> 72\u001b[1;33m         \u001b[0mself\u001b[0m\u001b[1;33m.\u001b[0m\u001b[0m_renderer\u001b[0m \u001b[1;33m=\u001b[0m \u001b[0m_RendererAgg\u001b[0m\u001b[1;33m(\u001b[0m\u001b[0mint\u001b[0m\u001b[1;33m(\u001b[0m\u001b[0mwidth\u001b[0m\u001b[1;33m)\u001b[0m\u001b[1;33m,\u001b[0m \u001b[0mint\u001b[0m\u001b[1;33m(\u001b[0m\u001b[0mheight\u001b[0m\u001b[1;33m)\u001b[0m\u001b[1;33m,\u001b[0m \u001b[0mdpi\u001b[0m\u001b[1;33m,\u001b[0m \u001b[0mdebug\u001b[0m\u001b[1;33m=\u001b[0m\u001b[0mFalse\u001b[0m\u001b[1;33m)\u001b[0m\u001b[1;33m\u001b[0m\u001b[0m\n\u001b[0m\u001b[0;32m     73\u001b[0m         \u001b[0mself\u001b[0m\u001b[1;33m.\u001b[0m\u001b[0m_filter_renderers\u001b[0m \u001b[1;33m=\u001b[0m \u001b[1;33m[\u001b[0m\u001b[1;33m]\u001b[0m\u001b[1;33m\u001b[0m\u001b[0m\n\u001b[0;32m     74\u001b[0m \u001b[1;33m\u001b[0m\u001b[0m\n",
        "\u001b[1;31mValueError\u001b[0m: width and height must each be below 32768"
       ]
      },
      {
       "output_type": "stream",
       "stream": "stdout",
       "text": [
        " donor1 FLU 0.052 YES\n"
       ]
      }
     ],
     "prompt_number": 175
    },
    {
     "cell_type": "markdown",
     "metadata": {},
     "source": [
      "* D1 CMV No\n",
      "* D1 FLU Yes intermediate freq\n",
      "\n",
      "* D2 CMV Yes low freq\n",
      "* D2 FLU Yes intermediate freq\n",
      "\n",
      "* D3 CMV Yes high freq\n",
      "* D3 FLU Yes low freq\n",
      "\n",
      "* D4 CMV Yes high freq\n",
      "* D4 FLU Yes intermediate freq\n",
      "\n",
      "* D5 CMV No\n",
      "* D5 FLU No\n",
      "\n",
      " \n"
     ]
    },
    {
     "cell_type": "markdown",
     "metadata": {},
     "source": [
      "Rules for classifying clusters\n",
      "----\n",
      "\n",
      "* True positive cluster\n",
      "    * Cluster mode is close to CD8 median for FSC/SSC\n",
      "    * "
     ]
    },
    {
     "cell_type": "code",
     "collapsed": false,
     "input": [
      "\n",
      "\n",
      "xs = np.array(np.array([1, 1, 2, 2, 4, 6, 9]))\n",
      "print mad(x[cd8_idx, :])"
     ],
     "language": "python",
     "metadata": {},
     "outputs": [
      {
       "output_type": "stream",
       "stream": "stdout",
       "text": [
        "[ 11101.73828125   9626.44140625   2776.97845061   4917.35522735\n",
        "   4362.48287012]\n"
       ]
      }
     ],
     "prompt_number": 82
    },
    {
     "cell_type": "markdown",
     "metadata": {},
     "source": [
      "Donor specific HDP\n",
      "----"
     ]
    },
    {
     "cell_type": "code",
     "collapsed": false,
     "input": [
      "def calculate_ellipse(center_x, center_y, covariance_matrix, n_std_dev=3):\n",
      "    values, vectors = np.linalg.eigh(covariance_matrix)\n",
      "    order = values.argsort()[::-1]\n",
      "    values = values[order]\n",
      "    vectors = vectors[:, order]\n",
      "\n",
      "    theta = np.degrees(np.arctan2(*vectors[:, 0][::-1]))\n",
      "\n",
      "    # make all angles positive\n",
      "    if theta < 0:\n",
      "        theta += 360\n",
      "\n",
      "    # Width and height are \"full\" widths, not radius\n",
      "    width, height = 2 * n_std_dev * np.sqrt(values)\n",
      "\n",
      "    ellipse = Ellipse(\n",
      "        xy=[center_x, center_y],\n",
      "        width=width,\n",
      "        height=height,\n",
      "        angle=theta\n",
      "    )\n",
      "\n",
      "    ellipse.set_alpha(0.3)\n",
      "    ellipse.set_facecolor((1, 0, 0))\n",
      "\n",
      "    return ellipse\n",
      "\n"
     ],
     "language": "python",
     "metadata": {},
     "outputs": [],
     "prompt_number": 159
    },
    {
     "cell_type": "code",
     "collapsed": false,
     "input": [
      "# Make full plots\n",
      "\n",
      "from fcm.graphics import bilinear_interpolate\n",
      "\n",
      "nclusts = 128\n",
      "niter = 100\n",
      "burnin = 10000\n",
      "verbose = 10\n",
      "delta = 0.1\n",
      "seed = 1\n",
      "\n",
      "pts = 10000\n",
      "\n",
      "dims = [(0,1), (2,3), (3,4)]\n",
      "countss = []\n",
      "    \n",
      "labs = ['ID%s' % i for i in ['01','02','03','07','08','09','10','11','14','15','16','17','17a','22','25']]\n",
      "donors = ['donor%d' % i for i in range(1, 6)]\n",
      "# labs = ['ID17a']\n",
      "for lab in labs[:]:\n",
      "    for donor in donors:\n",
      "        print lab, donor\n",
      "        \n",
      "        xs0 = np.load(sorted(glob.glob(os.path.join(data_dir, '%s_data.npy' % lab)))[0]) # full data\n",
      "        xs = np.load(sorted(glob.glob(os.path.join(data_dir, '%s_%s_cd8_data.npy' % (lab, donor))))[0]) # CD8 gated data\n",
      "            \n",
      "        names = np.load(sorted(glob.glob(os.path.join(data_dir, '%s_%s_cd8_names.npy' % (lab, donor))))[0])\n",
      "        channels = np.load(sorted(glob.glob(os.path.join(data_dir, '%s_channels.npy' % lab)))[0])\n",
      "        \n",
      "        ident0 = 'basic_%s_k%d_i%d_b%d_d%d_s%d' % (lab, nclusts, niter, burnin/2, delta, seed)\n",
      "        ident = '%s_cd8_%s_k%d_i%d_b%d_d%d_s%d' % (donor, lab, nclusts, niter, burnin, delta, seed)    \n",
      "        \n",
      "        try:\n",
      "            cs0 = unpickle(os.path.join(data_dir, '%s_cs.pic.gz' % ident0))\n",
      "            cs = unpickle(os.path.join(data_dir, '%s_cs.pic.gz' % ident))\n",
      "            rs = unpickle(os.path.join(data_dir, '%s_cs.pic.gz' % ident))\n",
      "            zs = np.load(os.path.join(data_dir, '%s_zs.npy' % ident))\n",
      "            rzs = np.load(os.path.join(data_dir, '%s_rzs.npy' % ident))\n",
      "        except Exception, e:\n",
      "            print e\n",
      "            \n",
      "        gate = gates['common']\n",
      "        boxes = gating(gate, xs0, channels, dims)\n",
      "    \n",
      "        nrows = len(xs)\n",
      "        ncols = len(dims)\n",
      "        panel_size = 3\n",
      "        pylab.figure(figsize=(panel_size*ncols, panel_size*nrows))\n",
      "        \n",
      "        try:\n",
      "            ax = axs[lab]\n",
      "        except KeyError:\n",
      "            ax = axs['default']\n",
      "            \n",
      "        for i, (x, x0, name, hs, z, z0) in enumerate(zip(xs, xs0, names, channels, rzs, zs0)):\n",
      "            \n",
      "            c0 = cs0[-1]\n",
      "            centroids0 = c0.modes\n",
      "            \n",
      "            # c = cs[i]\n",
      "            # centroids = c.modes\n",
      "            \n",
      "            r = rs[i]\n",
      "            centroids = r.mus\n",
      "            \n",
      "            s0 = points_inside_poly(centroids0[:, dims[0]], boxes[0].T)\n",
      "            lymphs0 = np.nonzero(s0)[0]\n",
      "            s1 = points_inside_poly(centroids0[:, dims[1]], boxes[1].T)\n",
      "            cd8s0 = np.nonzero(s0 & s1)[0]\n",
      "        \n",
      "            t0 = points_inside_poly(centroids[:, dims[0]], boxes[0].T)\n",
      "            lymphs = np.nonzero(t0)[0]\n",
      "            t1 = points_inside_poly(centroids[:, dims[1]], boxes[1].T)\n",
      "            cd8s = np.nonzero(t0 & t1)[0]\n",
      "            t2 = points_inside_poly(centroids[:, dims[2]], boxes[2].T)\n",
      "            tets = np.nonzero(t0 & t1 & t2)[0]\n",
      "               \n",
      "            lymph_idx = np.zeros(len(z0), 'bool')\n",
      "            for t in lymphs0:\n",
      "                lymph_idx |= z0==t\n",
      "            cd8_idx = np.zeros(len(z), 'bool')\n",
      "            for t in cd8s:\n",
      "                cd8_idx |= z==t\n",
      "            \n",
      "            # medians and mads\n",
      "            medians = np.median(x[cd8_idx, :], 0)\n",
      "            mads = mad(x[cd8_idx, :])\n",
      "                    \n",
      "            upper = medians + 4*mads\n",
      "            lower = medians - 4*mads\n",
      "            xbox = np.array([lower[dims[0][0]], lower[dims[0][0]], upper[dims[0][0]], upper[dims[0][0]]])\n",
      "            ybox = np.array([upper[dims[0][1]], lower[dims[0][1]], lower[dims[0][1]], upper[dims[0][1]]])\n",
      "                \n",
      "            # centers = centroids[:, dims[0]]\n",
      "            # centers = centers[tets, :]\n",
      "            # tets = tets[points_inside_poly(centers, np.array([xbox, ybox]).T)]      \n",
      "        \n",
      "            tet_idx = np.zeros(len(z), 'bool')\n",
      "            for t in tets:\n",
      "                tet_idx |= z==t\n",
      "            \n",
      "            ntotal = len(lymph_idx)\n",
      "            nlymphs = np.sum(lymph_idx)\n",
      "            ncd8s = np.sum(cd8_idx)\n",
      "            ntets = np.sum(tet_idx)\n",
      "            \n",
      "            print name[2], ntotal, nlymphs, ncd8s, ntets\n",
      "            \n",
      "            for j, dim in enumerate(dims):\n",
      "                pylab.subplot(nrows, ncols, i*ncols+j+1)\n",
      "                pylab.xlabel(hs[dim[0]].upper(), fontsize=14)\n",
      "                pylab.ylabel(hs[dim[1]].upper(), fontsize=14)\n",
      "                # pylab.scatter(x0[:1000, dim[0]], x0[:1000, dim[1]], s=1, c='grey',\n",
      "                #               edgecolors='none', alpha=0.3)\n",
      "                try:\n",
      "                    color = bilinear_interpolate(x[cd8_idx, dim[0]][:pts], x[cd8_idx, dim[1]][:pts])\n",
      "                except:\n",
      "                    color = 'blue'\n",
      "                pylab.scatter(x[cd8_idx, dim[0]][:pts], x[cd8_idx, dim[1]][:pts], s=1, c=color,\n",
      "                              edgecolors='none', alpha=0.6)\n",
      "           \n",
      "                size = 5\n",
      "                pylab.scatter(x[tet_idx, dim[0]][:], x[tet_idx, dim[1]][:], s=size, \n",
      "                                c='red',\n",
      "                                edgecolors='none')\n",
      "                \n",
      "                pylab.axis(ax[j])\n",
      "                \n",
      "                pylab.xticks([])\n",
      "                pylab.yticks([])\n",
      "    \n",
      "                # for factor in range(-4, 5, 2):\n",
      "                #     vlevel = medians[dim[0]] + factor*mads[dim[0]]\n",
      "                #     hlevel = medians[dim[1]] + factor*mads[dim[1]]\n",
      "                #     if factor == 0:\n",
      "                #         pylab.axvline(vlevel, c='red')\n",
      "                #         pylab.axhline(hlevel, c='red')\n",
      "                #     else:\n",
      "                #         pylab.axvline(vlevel, c='orange', linestyle='dashed')\n",
      "                #         pylab.axhline(hlevel, c='orange', linestyle='dashed')\n",
      "                        \n",
      "                # upper = medians - 4*mads\n",
      "                # lower = medians + 4*mads\n",
      "                # xbox = [lower[dim[0]], lower[dim[0]], upper[dim[0]], upper[dim[0]]]\n",
      "                # ybox = [upper[dim[1]], lower[dim[1]], lower[dim[1]], upper[dim[1]]]\n",
      "\n",
      "                xlim = pylab.xlim()\n",
      "                ylim = pylab.ylim()\n",
      "                xpos = xlim[0] + 0.05 * (xlim[1] - xlim[0])\n",
      "                ypos = ylim[0] + 0.92 * (ylim[1] - ylim[0])\n",
      "                yoffset = 0.1*(ylim[1]- ylim[0])\n",
      "    \n",
      "                if j == 0:\n",
      "                    pylab.text(xpos, ypos, '%s-D%s-%s' % (name[0], name[1][-1], name[2]), va='center', ha='left',\n",
      "                        bbox=dict(facecolor='yellow', alpha=0.5), fontsize=14)\n",
      "                if j == 2:\n",
      "                    pylab.text(xpos, ypos, 'n=%d' % (ntets, ), va='center', ha='left',\n",
      "                        bbox=dict(facecolor='yellow', alpha=0.5), fontsize=14)\n",
      "                    pylab.text(xpos, ypos-yoffset, 'p=%.3f%%' % (100.0*ntets/ncd8s, ), va='center', ha='left',\n",
      "                        bbox=dict(facecolor='yellow', alpha=0.5), fontsize=14)\n",
      "                    \n",
      "                for k, (m, sigma) in enumerate(zip(r.mus, r.sigmas)):\n",
      "                    if k in tets:\n",
      "                        centerx = m[dim[0]]\n",
      "                        centery = m[dim[1]]\n",
      "                        cov = sigma[:, dim]\n",
      "                        cov = cov[dim, :]\n",
      "                        ellipse = calculate_ellipse(centerx, centery, cov, n_std_dev=2)\n",
      "                        gca().add_artist(ellipse)\n",
      "                        \n",
      "                        pylab.text(m[dim[0]], m[dim[1]], str(k), va='center', ha='center', color='black', fontsize=14,\n",
      "                            bbox=dict(facecolor='yellow', alpha=0.5))       \n",
      "                    \n",
      "                # pylab.fill(xbox, ybox, ec='black', fc='none', linewidth=3)\n",
      "                pylab.fill(boxes[j][0], boxes[j][1], ec='red', fc='none', linewidth=1)\n",
      "        \n",
      "        pylab.tight_layout()\n",
      "        pylab.savefig(os.path.join(data_dir, '%s_tet.png' % ident))\n",
      "        # pylab.close()\n",
      "    "
     ],
     "language": "python",
     "metadata": {},
     "outputs": [
      {
       "output_type": "stream",
       "stream": "stdout",
       "text": [
        "ID01 donor1\n",
        "CMV"
       ]
      },
      {
       "output_type": "stream",
       "stream": "stdout",
       "text": [
        " 1091618 794529 138927 5\n",
        "FLU"
       ]
      },
      {
       "output_type": "stream",
       "stream": "stdout",
       "text": [
        " 1169378 859629 153363 148\n",
        "FMO"
       ]
      },
      {
       "output_type": "stream",
       "stream": "stdout",
       "text": [
        " 1238952 902719 158778 0\n",
        "ID01"
       ]
      },
      {
       "output_type": "stream",
       "stream": "stdout",
       "text": [
        " donor2\n",
        "CMV"
       ]
      },
      {
       "output_type": "stream",
       "stream": "stdout",
       "text": [
        " 1091618 794529 125806 29\n",
        "FLU"
       ]
      },
      {
       "output_type": "stream",
       "stream": "stdout",
       "text": [
        " 1169378 859629 131095 259\n",
        "FMO"
       ]
      },
      {
       "output_type": "stream",
       "stream": "stdout",
       "text": [
        " 1238952 902719 138449 1\n",
        "ID01"
       ]
      },
      {
       "output_type": "stream",
       "stream": "stdout",
       "text": [
        " donor3\n",
        "CMV"
       ]
      },
      {
       "output_type": "stream",
       "stream": "stdout",
       "text": [
        " 1091618 794529 102129 3388\n",
        "FLU"
       ]
      },
      {
       "output_type": "stream",
       "stream": "stdout",
       "text": [
        " 1169378 859629 96980 7\n",
        "FMO"
       ]
      },
      {
       "output_type": "stream",
       "stream": "stdout",
       "text": [
        " 1238952 902719 110218 0\n",
        "ID01"
       ]
      },
      {
       "output_type": "stream",
       "stream": "stdout",
       "text": [
        " donor4\n",
        "CMV"
       ]
      },
      {
       "output_type": "stream",
       "stream": "stdout",
       "text": [
        " 1091618 794529 88032 1877\n",
        "FLU"
       ]
      },
      {
       "output_type": "stream",
       "stream": "stdout",
       "text": [
        " 1169378 859629 81747 64\n",
        "FMO"
       ]
      },
      {
       "output_type": "stream",
       "stream": "stdout",
       "text": [
        " 1238952 902719 73466 0\n",
        "ID01"
       ]
      },
      {
       "output_type": "stream",
       "stream": "stdout",
       "text": [
        " donor5\n",
        "CMV"
       ]
      },
      {
       "output_type": "stream",
       "stream": "stdout",
       "text": [
        " 1091618 794529 219446 0\n",
        "FLU"
       ]
      },
      {
       "output_type": "stream",
       "stream": "stdout",
       "text": [
        " 1169378 859629 207713 0\n",
        "FMO"
       ]
      },
      {
       "output_type": "stream",
       "stream": "stdout",
       "text": [
        " 1238952 902719 229023 0\n",
        "ID02"
       ]
      },
      {
       "output_type": "stream",
       "stream": "stdout",
       "text": [
        " donor1\n",
        "CMV"
       ]
      },
      {
       "output_type": "stream",
       "stream": "stdout",
       "text": [
        " 1091618 643958 40204 10\n",
        "FLU"
       ]
      },
      {
       "output_type": "stream",
       "stream": "stdout",
       "text": [
        " 1169378 697179 66721 0\n",
        "FMO"
       ]
      },
      {
       "output_type": "stream",
       "stream": "stdout",
       "text": [
        " 1238952 732749 54000 2\n",
        "ID02"
       ]
      },
      {
       "output_type": "stream",
       "stream": "stdout",
       "text": [
        " donor2\n",
        "CMV"
       ]
      },
      {
       "output_type": "stream",
       "stream": "stdout",
       "text": [
        " 1091618 643958 95843 16\n",
        "FLU"
       ]
      },
      {
       "output_type": "stream",
       "stream": "stdout",
       "text": [
        " 1169378 697179 105530 9\n",
        "FMO"
       ]
      },
      {
       "output_type": "stream",
       "stream": "stdout",
       "text": [
        " 1238952 732749 95468 0\n",
        "ID02"
       ]
      },
      {
       "output_type": "stream",
       "stream": "stdout",
       "text": [
        " donor3\n",
        "CMV"
       ]
      },
      {
       "output_type": "stream",
       "stream": "stdout",
       "text": [
        " 1091618 643958 70270 2775\n",
        "FLU"
       ]
      },
      {
       "output_type": "stream",
       "stream": "stdout",
       "text": [
        " 1169378 697179 53427 2116\n",
        "FMO"
       ]
      }
     ],
     "prompt_number": "*"
    },
    {
     "cell_type": "code",
     "collapsed": false,
     "input": [],
     "language": "python",
     "metadata": {},
     "outputs": []
    }
   ],
   "metadata": {}
  }
 ]
}