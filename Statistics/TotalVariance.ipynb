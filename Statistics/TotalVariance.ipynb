{
 "metadata": {
  "name": ""
 },
 "nbformat": 3,
 "nbformat_minor": 0,
 "worksheets": [
  {
   "cells": [
    {
     "cell_type": "markdown",
     "metadata": {},
     "source": [
      "To show that total variacne consists of within and between components\n",
      "----\n",
      "\n",
      "$\\text{Var}(X) =  E[\\text{Var}(X | Y)] + \\text{Var}(E[X | Y])$"
     ]
    },
    {
     "cell_type": "code",
     "collapsed": false,
     "input": [
      "x1 = np.random.normal(-3, 1, 10)\n",
      "x2 = np.random.normal(0, 2, 20)\n",
      "x3 = np.random.normal(50, 2, 70)\n",
      "xs = np.concatenate([x1, x2, x3])"
     ],
     "language": "python",
     "metadata": {},
     "outputs": [],
     "prompt_number": 14
    },
    {
     "cell_type": "code",
     "collapsed": false,
     "input": [
      "var(xs)"
     ],
     "language": "python",
     "metadata": {},
     "outputs": [
      {
       "metadata": {},
       "output_type": "pyout",
       "prompt_number": 15,
       "text": [
        "553.83203007846168"
       ]
      }
     ],
     "prompt_number": 15
    },
    {
     "cell_type": "code",
     "collapsed": false,
     "input": [
      "# calculate E[Var(X|Y))] - this is the expected variance of X given Y\n",
      "\n",
      "within = 0.1*var(x1) + 0.2*var(x2) + 0.7*var(x3)\n",
      "print within"
     ],
     "language": "python",
     "metadata": {},
     "outputs": [
      {
       "output_type": "stream",
       "stream": "stdout",
       "text": [
        "3.01641888022\n"
       ]
      }
     ],
     "prompt_number": 16
    },
    {
     "cell_type": "code",
     "collapsed": false,
     "input": [
      "# calculate Var(E[X|Y]) - this is the variance of the expectation of X given Y\n",
      "\n",
      "between = (np.sum(0.1*(x1.mean() - xs.mean())**2) + \n",
      "           np.sum(0.2*(x2.mean() - xs.mean())**2) + \n",
      "           np.sum(0.7*(x3.mean() - xs.mean())**2))\n",
      "print between"
     ],
     "language": "python",
     "metadata": {},
     "outputs": [
      {
       "output_type": "stream",
       "stream": "stdout",
       "text": [
        "550.815611198\n"
       ]
      }
     ],
     "prompt_number": 19
    },
    {
     "cell_type": "code",
     "collapsed": false,
     "input": [
      "var(xs) - (within + between) < 1e-12"
     ],
     "language": "python",
     "metadata": {},
     "outputs": [
      {
       "metadata": {},
       "output_type": "pyout",
       "prompt_number": 24,
       "text": [
        "True"
       ]
      }
     ],
     "prompt_number": 24
    },
    {
     "cell_type": "code",
     "collapsed": false,
     "input": [
      "# Note that the total expectation is the same as the iterated expectation\n",
      "# that is E[E[X | Y]] = E[X]\n",
      "\n",
      "print xs.mean()\n",
      "print 0.1*x1.mean() + 0.2*x2.mean() + 0.7*x3.mean()"
     ],
     "language": "python",
     "metadata": {},
     "outputs": [
      {
       "output_type": "stream",
       "stream": "stdout",
       "text": [
        "34.5147063473\n",
        "34.5147063473\n"
       ]
      }
     ],
     "prompt_number": 27
    },
    {
     "cell_type": "code",
     "collapsed": false,
     "input": [],
     "language": "python",
     "metadata": {},
     "outputs": []
    }
   ],
   "metadata": {}
  }
 ]
}