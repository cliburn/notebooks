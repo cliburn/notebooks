{
 "metadata": {
  "name": "",
  "signature": "sha256:2cdabd33d0f955b21c615aa9b0a8004de3be275c0f7b7c54fef2d09ddd1cfc44"
 },
 "nbformat": 3,
 "nbformat_minor": 0,
 "worksheets": [
  {
   "cells": [
    {
     "cell_type": "code",
     "collapsed": false,
     "input": [
      "from functools import partial"
     ],
     "language": "python",
     "metadata": {},
     "outputs": [],
     "prompt_number": 1
    },
    {
     "cell_type": "code",
     "collapsed": false,
     "input": [
      "def step(x, f, fprime):\n",
      "    \"\"\"Newton's method.\"\"\"\n",
      "    return x - f(x)/fprime(x)"
     ],
     "language": "python",
     "metadata": {},
     "outputs": [],
     "prompt_number": 2
    },
    {
     "cell_type": "code",
     "collapsed": false,
     "input": [
      "def f(x, n):\n",
      "    \"\"\"Zero function to find square root of n.\"\"\"\n",
      "    return x**2 - n\n",
      "\n",
      "def fprime(x):\n",
      "    \"\"\"Derivative to use in Newton's method.\"\"\"\n",
      "    return 2*x"
     ],
     "language": "python",
     "metadata": {},
     "outputs": [],
     "prompt_number": 3
    },
    {
     "cell_type": "code",
     "collapsed": false,
     "input": [
      "# Find square root of 2\n",
      "g = partial(f, n=2)"
     ],
     "language": "python",
     "metadata": {},
     "outputs": [],
     "prompt_number": 4
    },
    {
     "cell_type": "code",
     "collapsed": false,
     "input": [
      "h = partial(step, f=g, fprime=fprime)"
     ],
     "language": "python",
     "metadata": {},
     "outputs": [],
     "prompt_number": 5
    },
    {
     "cell_type": "code",
     "collapsed": false,
     "input": [
      "n = 2.0\n",
      "s = 1.0\n",
      "tol = 1e-6\n",
      "while abs(s**2 - n) > tol:\n",
      "    s = h(s)\n",
      "    print s\n",
      "print \">>>\", np.sqrt(2)- s"
     ],
     "language": "python",
     "metadata": {},
     "outputs": [
      {
       "output_type": "stream",
       "stream": "stdout",
       "text": [
        "1.5\n",
        "1.41666666667\n",
        "1.41421568627\n",
        "1.41421356237\n",
        ">>> -1.59472435257e-12\n"
       ]
      }
     ],
     "prompt_number": 7
    },
    {
     "cell_type": "code",
     "collapsed": false,
     "input": [],
     "language": "python",
     "metadata": {},
     "outputs": []
    }
   ],
   "metadata": {}
  }
 ]
}