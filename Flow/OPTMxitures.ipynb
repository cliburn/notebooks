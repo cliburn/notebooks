{
 "metadata": {
  "name": "",
  "signature": "sha256:d52fc1c93cd3e0c579eda36396fde875021714e3a0fc6ed1a64389078496d9ed"
 },
 "nbformat": 3,
 "nbformat_minor": 0,
 "worksheets": [
  {
   "cells": [
    {
     "cell_type": "code",
     "collapsed": false,
     "input": [
      "import os, sys, glob\n",
      "import fcm\n",
      "import fcm.statistics as stats"
     ],
     "language": "python",
     "metadata": {},
     "outputs": [],
     "prompt_number": 2
    },
    {
     "cell_type": "code",
     "collapsed": false,
     "input": [
      "base_dir = '/Volumes/HD3/hg/analysis/cimt_rs'"
     ],
     "language": "python",
     "metadata": {},
     "outputs": []
    }
   ],
   "metadata": {}
  }
 ]
}