{
 "metadata": {
  "name": "Permutation Resampling"
 },
 "nbformat": 3,
 "nbformat_minor": 0,
 "worksheets": [
  {
   "cells": [
    {
     "cell_type": "code",
     "collapsed": false,
     "input": [
      "# case data\n",
      "hits = [10,30,50,70,90]\n",
      "snps1 = np.random.randint(0,2,(100, 100)).astype('bool')\n",
      "snps2 = snps1 & np.random.choice([0,1], size=(100,100), p=[0.1, 0.9])\n",
      "case_snps = np.hstack([snps1, snps2])\n",
      "case_snps[:, hits] = np.random.choice([0,1], size=(100,len(hits)), p=[0.2, 0.8])\n",
      "\n",
      "# oontrol data\n",
      "snps1 = np.random.randint(0,2,(100, 100)).astype('bool')\n",
      "snps2 = snps1 & np.random.choice([0,1], size=(100,100), p=[0.1, 0.9])\n",
      "control_snps = np.hstack([snps1, snps2])\n",
      "control_snps[:, hits] = np.random.choice([0,1], size=(100,len(hits)), p=[0.3, 0.7])"
     ],
     "language": "python",
     "metadata": {},
     "outputs": [],
     "prompt_number": 28
    },
    {
     "cell_type": "code",
     "collapsed": false,
     "input": [
      "case_snps.shape"
     ],
     "language": "python",
     "metadata": {},
     "outputs": [
      {
       "output_type": "pyout",
       "prompt_number": 31,
       "text": [
        "(100, 200)"
       ]
      }
     ],
     "prompt_number": 31
    },
    {
     "cell_type": "code",
     "collapsed": false,
     "input": [
      "case0 = case_snps.sum(0)\n",
      "case1 = 100 - case0"
     ],
     "language": "python",
     "metadata": {},
     "outputs": [],
     "prompt_number": 29
    },
    {
     "cell_type": "code",
     "collapsed": false,
     "input": [
      "control0 = control_snps.sum(0)\n",
      "control1 = 100 - control0"
     ],
     "language": "python",
     "metadata": {},
     "outputs": [],
     "prompt_number": 30
    },
    {
     "cell_type": "code",
     "collapsed": false,
     "input": [
      "tables = array([np.reshape(i, (2,2)) for i in zip(case0, control0, case1, control1)])"
     ],
     "language": "python",
     "metadata": {},
     "outputs": [],
     "prompt_number": 32
    },
    {
     "cell_type": "code",
     "collapsed": false,
     "input": [
      "from scipy.stats import chi2_contingency"
     ],
     "language": "python",
     "metadata": {},
     "outputs": [],
     "prompt_number": 33
    },
    {
     "cell_type": "code",
     "collapsed": false,
     "input": [
      "# Bonferroni correction\n",
      "threshold = 0.05/200\n",
      "print \"Bonferroni p-vlaue = %f\" % threshold\n",
      "pvals = array([chi2_contingency(t, correction=True)[1] for t in tables])\n",
      "candidates = np.nonzero(pvals < threshold)[0]\n",
      "for candidate in candidates:\n",
      "    print candidate, tables[candidate].ravel(), '%.5f' % pvals[candidate]"
     ],
     "language": "python",
     "metadata": {},
     "outputs": [
      {
       "output_type": "stream",
       "stream": "stdout",
       "text": [
        "Bonferroni p-vlaue = 0.000250\n"
       ]
      }
     ],
     "prompt_number": 34
    },
    {
     "cell_type": "code",
     "collapsed": false,
     "input": [
      "for candidate in hits:\n",
      "    print candidate, tables[candidate].ravel(), '%.5f' % pvals[candidate]"
     ],
     "language": "python",
     "metadata": {},
     "outputs": [
      {
       "output_type": "stream",
       "stream": "stdout",
       "text": [
        "10 [77 73 23 27] 0.62421\n",
        "30 [81 66 19 34] 0.02489\n",
        "50 [75 74 25 26] 1.00000\n",
        "70 [86 63 14 37] 0.00036\n",
        "90 [81 64 19 36] 0.01128\n"
       ]
      }
     ],
     "prompt_number": 35
    },
    {
     "cell_type": "code",
     "collapsed": false,
     "input": [
      "# permutation resampling \n",
      "combined = np.vstack([case_snps, control_snps])\n",
      "\n",
      "p_pvalss = []\n",
      "\n",
      "nperms = 1000\n",
      "for i in range(nperms):\n",
      "    p = np.random.permutation(range(len(combined)))\n",
      "    p_combined = combined[p, :]\n",
      "    p_case = p_combined[:100, :]\n",
      "    p_control = p_combined[100:, :]\n",
      "    p_case0 = p_case.sum(0)\n",
      "    p_case1 = 100 - p_case0\n",
      "    p_control0 = p_control.sum(0)\n",
      "    p_control1 = 100 - p_control0\n",
      "    p_tables = array([np.reshape(i, (2,2)) for i in zip(p_case0, p_control0, p_case1, p_control1)])\n",
      "    p_pvals = array([chi2_contingency(t, correction=True)[1] for t in p_tables])\n",
      "    p_pvalss.append(p_pvals)"
     ],
     "language": "python",
     "metadata": {},
     "outputs": [],
     "prompt_number": 37
    },
    {
     "cell_type": "code",
     "collapsed": false,
     "input": [
      "p_pvalss = array(p_pvalss)\n",
      "sidx = pvals.argsort()\n",
      "\n",
      "for i in range(200):\n",
      "    if pvals[sidx][i] < sorted(p_pvalss[:, i])[int(0.05*nperms)]:\n",
      "        print sidx[i], '%5f' % sorted(p_pvalss[:, i])[int(0.05*nperms)], '%5f' % pvals[sidx][i], pvals[sidx][i] < sorted(p_pvalss[:, i])[int(0.05*nperms)]"
     ],
     "language": "python",
     "metadata": {},
     "outputs": [
      {
       "output_type": "stream",
       "stream": "stdout",
       "text": [
        "70 0.047170 0.000358 True\n",
        "90 0.065992 0.011284 True\n",
        "184 0.065992 0.015680 True\n",
        "30 0.089285 0.024891 True\n",
        "151 0.065126 0.042862 True\n",
        "56 0.047704 0.047615 True\n",
        "84 0.065126 0.047704 True\n",
        "135 0.089285 0.047704 True\n",
        "157 0.065992 0.065126 True\n",
        "34 0.072448 0.065776 True\n",
        "51 0.089670 0.089542 True\n"
       ]
      }
     ],
     "prompt_number": 39
    },
    {
     "cell_type": "code",
     "collapsed": false,
     "input": [
      "pvals[[10,30,50,70,90]]"
     ],
     "language": "python",
     "metadata": {},
     "outputs": [
      {
       "output_type": "pyout",
       "prompt_number": 11,
       "text": [
        "array([ 0.01463184,  0.15550086,  0.2126822 ,  0.00313082,  0.49534697])"
       ]
      }
     ],
     "prompt_number": 11
    },
    {
     "cell_type": "code",
     "collapsed": false,
     "input": [],
     "language": "python",
     "metadata": {},
     "outputs": []
    }
   ],
   "metadata": {}
  }
 ]
}