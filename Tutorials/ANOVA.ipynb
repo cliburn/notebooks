{
 "metadata": {
  "name": "ANOVA"
 },
 "nbformat": 3,
 "nbformat_minor": 0,
 "worksheets": [
  {
   "cells": [
    {
     "cell_type": "code",
     "collapsed": false,
     "input": [
      "from __future__ import division\n",
      "from scipy.stats import f, f_oneway\n",
      "from scipy.special import binom\n",
      "from scipy.stats import t"
     ],
     "language": "python",
     "metadata": {},
     "outputs": [],
     "prompt_number": 55
    },
    {
     "cell_type": "code",
     "collapsed": false,
     "input": [
      "# data set from http://college.cengage.com/mathematics/brase/understandable_statistics/7e/students/datasets/owan/frames/frame.html\n",
      "\n",
      "x1 = [93,120,65,105,115,82,99,87,100,90,78,95,93,88,110]\n",
      "x2 = [85,45,80,28,75,70,65,55,50,40]\n",
      "x3 = [100,75,65,40,73,65,50,30,45,50,45,55]\n",
      "x4 = [96,58,95,90,65,80,85,95,82]\n",
      "xs = [x1, x2, x3, x4]"
     ],
     "language": "python",
     "metadata": {},
     "outputs": [],
     "prompt_number": 4
    },
    {
     "cell_type": "code",
     "collapsed": false,
     "input": [
      "boxplot(xs);"
     ],
     "language": "python",
     "metadata": {},
     "outputs": [
      {
       "output_type": "display_data",
       "png": "[encoded data removed]"
      }
     ],
     "prompt_number": 5
    },
    {
     "cell_type": "code",
     "collapsed": false,
     "input": [
      "ys = np.concatenate(xs)"
     ],
     "language": "python",
     "metadata": {},
     "outputs": [],
     "prompt_number": 10
    },
    {
     "cell_type": "code",
     "collapsed": false,
     "input": [
      "ybar = ys.mean()\n",
      "SST = sum((ys - ybar)**2)\n",
      "gbar = array([mean(x) for x in xs])\n",
      "SSG = sum((array(map(len, xs))*(gbar-ybar)**2))\n",
      "SSE = SST - SSG"
     ],
     "language": "python",
     "metadata": {},
     "outputs": [],
     "prompt_number": 35
    },
    {
     "cell_type": "code",
     "collapsed": false,
     "input": [
      "dfT = len(ys) - 1\n",
      "dfG = len(xs) - 1\n",
      "dfE = dfT - dfG"
     ],
     "language": "python",
     "metadata": {},
     "outputs": [],
     "prompt_number": 36
    },
    {
     "cell_type": "code",
     "collapsed": false,
     "input": [
      "MSG = SSG/dfG\n",
      "MSE = SSE/dfE\n",
      "fstat = MSG/MSE\n",
      "fstat"
     ],
     "language": "python",
     "metadata": {},
     "outputs": [
      {
       "output_type": "pyout",
       "prompt_number": 42,
       "text": [
        "15.139053436390862"
       ]
      }
     ],
     "prompt_number": 42
    },
    {
     "cell_type": "code",
     "collapsed": false,
     "input": [
      "f.sf(fstat, dfG, dfE)"
     ],
     "language": "python",
     "metadata": {},
     "outputs": [
      {
       "output_type": "pyout",
       "prompt_number": 45,
       "text": [
        "7.9905753936734308e-07"
       ]
      }
     ],
     "prompt_number": 45
    },
    {
     "cell_type": "code",
     "collapsed": false,
     "input": [
      "# check with one-way test results\n",
      "f_oneway(x1, x2, x3, x4)"
     ],
     "language": "python",
     "metadata": {},
     "outputs": [
      {
       "output_type": "pyout",
       "prompt_number": 48,
       "text": [
        "(15.139053436390867, 7.9905753936734117e-07)"
       ]
      }
     ],
     "prompt_number": 48
    },
    {
     "cell_type": "code",
     "collapsed": false,
     "input": [
      "# now find which groups are different\n",
      "\n",
      "alpha = 0.05 / binom(4, 2)"
     ],
     "language": "python",
     "metadata": {},
     "outputs": [],
     "prompt_number": 50
    },
    {
     "cell_type": "code",
     "collapsed": false,
     "input": [
      "# compare x1 and x2\n",
      "se = sqrt(MSE/len(x1) + MSE/len(x2))\n",
      "tstat = (mean(x1) - mean(x2))/se\n",
      "tstat"
     ],
     "language": "python",
     "metadata": {},
     "outputs": [
      {
       "output_type": "pyout",
       "prompt_number": 54,
       "text": [
        "5.2434299731561653"
       ]
      }
     ],
     "prompt_number": 54
    },
    {
     "cell_type": "code",
     "collapsed": false,
     "input": [
      "2*t.sf(tstat, dfE)"
     ],
     "language": "python",
     "metadata": {},
     "outputs": [
      {
       "output_type": "pyout",
       "prompt_number": 56,
       "text": [
        "4.8138162425724518e-06"
       ]
      }
     ],
     "prompt_number": 56
    },
    {
     "cell_type": "code",
     "collapsed": false,
     "input": [
      "2*t.sf(5.365, 791)"
     ],
     "language": "python",
     "metadata": {},
     "outputs": [
      {
       "output_type": "pyout",
       "prompt_number": 58,
       "text": [
        "1.0638946663263261e-07"
       ]
      }
     ],
     "prompt_number": 58
    },
    {
     "cell_type": "code",
     "collapsed": false,
     "input": [],
     "language": "python",
     "metadata": {},
     "outputs": []
    }
   ],
   "metadata": {}
  }
 ]
}