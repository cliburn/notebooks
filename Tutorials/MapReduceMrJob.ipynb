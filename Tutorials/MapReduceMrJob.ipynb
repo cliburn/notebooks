{
 "metadata": {
  "name": "MapReduceMrJob"
 },
 "nbformat": 3,
 "nbformat_minor": 0,
 "worksheets": [
  {
   "cells": [
    {
     "cell_type": "markdown",
     "metadata": {},
     "source": [
      "### How to run a Hadoop job on AWS EMR\n",
      "\n",
      "```\n",
      "python word_count.py -r emr s3://emr-experimental/romeo_and_juliet.txt --output-dir=s3://emr-experimental/wc_out --no-output\n",
      "```\n",
      "\n",
      "uses configuration options in ~/.mrjob.conf\n",
      "and takes input and output from my S3 bucket emr-experimental\n",
      "\n",
      "For details of setting up SSH access and EMR, see\n",
      "\n",
      "* [https://pythonhosted.org/mrjob/guides/emr-quickstart.html](Elastic MapReduce Quickstart)\n",
      "* [https://pythonhosted.org/mrjob/guides/emr.html](EMR)"
     ]
    },
    {
     "cell_type": "code",
     "collapsed": false,
     "input": [],
     "language": "python",
     "metadata": {},
     "outputs": []
    }
   ],
   "metadata": {}
  }
 ]
}