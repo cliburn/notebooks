{
 "metadata": {
  "name": ""
 },
 "nbformat": 3,
 "nbformat_minor": 0,
 "worksheets": [
  {
   "cells": [
    {
     "cell_type": "code",
     "collapsed": false,
     "input": [
      "import statsmodels.formula.api as sm\n",
      "import pandas as pd\n",
      "from patsy import dmatrices"
     ],
     "language": "python",
     "metadata": {},
     "outputs": [],
     "prompt_number": 35
    },
    {
     "cell_type": "code",
     "collapsed": false,
     "input": [
      "url = \"http://vincentarelbundock.github.com/Rdatasets/csv/HistData/Guerry.csv\"\n",
      "df = pd.read_csv(url)"
     ],
     "language": "python",
     "metadata": {},
     "outputs": [],
     "prompt_number": 36
    },
    {
     "cell_type": "code",
     "collapsed": false,
     "input": [
      "df.head()"
     ],
     "language": "python",
     "metadata": {},
     "outputs": [
      {
       "html": [
        "<pre>\n",
        "&lt;class 'pandas.core.frame.DataFrame'&gt;\n",
        "Int64Index: 5 entries, 0 to 4\n",
        "Data columns (total 24 columns):\n",
        "Unnamed: 0         5  non-null values\n",
        "dept               5  non-null values\n",
        "Region             5  non-null values\n",
        "Department         5  non-null values\n",
        "Crime_pers         5  non-null values\n",
        "Crime_prop         5  non-null values\n",
        "Literacy           5  non-null values\n",
        "Donations          5  non-null values\n",
        "Infants            5  non-null values\n",
        "Suicides           5  non-null values\n",
        "MainCity           5  non-null values\n",
        "Wealth             5  non-null values\n",
        "Commerce           5  non-null values\n",
        "Clergy             5  non-null values\n",
        "Crime_parents      5  non-null values\n",
        "Infanticide        5  non-null values\n",
        "Donation_clergy    5  non-null values\n",
        "Lottery            5  non-null values\n",
        "Desertion          5  non-null values\n",
        "Instruction        5  non-null values\n",
        "Prostitutes        5  non-null values\n",
        "Distance           5  non-null values\n",
        "Area               5  non-null values\n",
        "Pop1831            5  non-null values\n",
        "dtypes: float64(2), int64(19), object(3)\n",
        "</pre>"
       ],
       "metadata": {},
       "output_type": "pyout",
       "prompt_number": 37,
       "text": [
        "<class 'pandas.core.frame.DataFrame'>\n",
        "Int64Index: 5 entries, 0 to 4\n",
        "Data columns (total 24 columns):\n",
        "Unnamed: 0         5  non-null values\n",
        "dept               5  non-null values\n",
        "Region             5  non-null values\n",
        "Department         5  non-null values\n",
        "Crime_pers         5  non-null values\n",
        "Crime_prop         5  non-null values\n",
        "Literacy           5  non-null values\n",
        "Donations          5  non-null values\n",
        "Infants            5  non-null values\n",
        "Suicides           5  non-null values\n",
        "MainCity           5  non-null values\n",
        "Wealth             5  non-null values\n",
        "Commerce           5  non-null values\n",
        "Clergy             5  non-null values\n",
        "Crime_parents      5  non-null values\n",
        "Infanticide        5  non-null values\n",
        "Donation_clergy    5  non-null values\n",
        "Lottery            5  non-null values\n",
        "Desertion          5  non-null values\n",
        "Instruction        5  non-null values\n",
        "Prostitutes        5  non-null values\n",
        "Distance           5  non-null values\n",
        "Area               5  non-null values\n",
        "Pop1831            5  non-null values\n",
        "dtypes: float64(2), int64(19), object(3)"
       ]
      }
     ],
     "prompt_number": 37
    },
    {
     "cell_type": "code",
     "collapsed": false,
     "input": [
      "vars = ['Department', 'Lottery', 'Literacy', 'Wealth', 'Region']\n",
      "df = df[vars]\n",
      "df[-5:]"
     ],
     "language": "python",
     "metadata": {},
     "outputs": [
      {
       "html": [
        "<div style=\"max-height:1000px;max-width:1500px;overflow:auto;\">\n",
        "<table border=\"1\" class=\"dataframe\">\n",
        "  <thead>\n",
        "    <tr style=\"text-align: right;\">\n",
        "      <th></th>\n",
        "      <th>Department</th>\n",
        "      <th>Lottery</th>\n",
        "      <th>Literacy</th>\n",
        "      <th>Wealth</th>\n",
        "      <th>Region</th>\n",
        "    </tr>\n",
        "  </thead>\n",
        "  <tbody>\n",
        "    <tr>\n",
        "      <th>81</th>\n",
        "      <td>       Vienne</td>\n",
        "      <td> 40</td>\n",
        "      <td> 25</td>\n",
        "      <td> 68</td>\n",
        "      <td>   W</td>\n",
        "    </tr>\n",
        "    <tr>\n",
        "      <th>82</th>\n",
        "      <td> Haute-Vienne</td>\n",
        "      <td> 55</td>\n",
        "      <td> 13</td>\n",
        "      <td> 67</td>\n",
        "      <td>   C</td>\n",
        "    </tr>\n",
        "    <tr>\n",
        "      <th>83</th>\n",
        "      <td>       Vosges</td>\n",
        "      <td> 14</td>\n",
        "      <td> 62</td>\n",
        "      <td> 82</td>\n",
        "      <td>   E</td>\n",
        "    </tr>\n",
        "    <tr>\n",
        "      <th>84</th>\n",
        "      <td>        Yonne</td>\n",
        "      <td> 51</td>\n",
        "      <td> 47</td>\n",
        "      <td> 30</td>\n",
        "      <td>   C</td>\n",
        "    </tr>\n",
        "    <tr>\n",
        "      <th>85</th>\n",
        "      <td>        Corse</td>\n",
        "      <td> 83</td>\n",
        "      <td> 49</td>\n",
        "      <td> 37</td>\n",
        "      <td> NaN</td>\n",
        "    </tr>\n",
        "  </tbody>\n",
        "</table>\n",
        "</div>"
       ],
       "metadata": {},
       "output_type": "pyout",
       "prompt_number": 38,
       "text": [
        "      Department  Lottery  Literacy  Wealth Region\n",
        "81        Vienne       40        25      68      W\n",
        "82  Haute-Vienne       55        13      67      C\n",
        "83        Vosges       14        62      82      E\n",
        "84         Yonne       51        47      30      C\n",
        "85         Corse       83        49      37    NaN"
       ]
      }
     ],
     "prompt_number": 38
    },
    {
     "cell_type": "code",
     "collapsed": false,
     "input": [
      "df = df.dropna()\n",
      "df[-5:]"
     ],
     "language": "python",
     "metadata": {},
     "outputs": [
      {
       "html": [
        "<div style=\"max-height:1000px;max-width:1500px;overflow:auto;\">\n",
        "<table border=\"1\" class=\"dataframe\">\n",
        "  <thead>\n",
        "    <tr style=\"text-align: right;\">\n",
        "      <th></th>\n",
        "      <th>Department</th>\n",
        "      <th>Lottery</th>\n",
        "      <th>Literacy</th>\n",
        "      <th>Wealth</th>\n",
        "      <th>Region</th>\n",
        "    </tr>\n",
        "  </thead>\n",
        "  <tbody>\n",
        "    <tr>\n",
        "      <th>80</th>\n",
        "      <td>       Vendee</td>\n",
        "      <td> 68</td>\n",
        "      <td> 28</td>\n",
        "      <td> 56</td>\n",
        "      <td> W</td>\n",
        "    </tr>\n",
        "    <tr>\n",
        "      <th>81</th>\n",
        "      <td>       Vienne</td>\n",
        "      <td> 40</td>\n",
        "      <td> 25</td>\n",
        "      <td> 68</td>\n",
        "      <td> W</td>\n",
        "    </tr>\n",
        "    <tr>\n",
        "      <th>82</th>\n",
        "      <td> Haute-Vienne</td>\n",
        "      <td> 55</td>\n",
        "      <td> 13</td>\n",
        "      <td> 67</td>\n",
        "      <td> C</td>\n",
        "    </tr>\n",
        "    <tr>\n",
        "      <th>83</th>\n",
        "      <td>       Vosges</td>\n",
        "      <td> 14</td>\n",
        "      <td> 62</td>\n",
        "      <td> 82</td>\n",
        "      <td> E</td>\n",
        "    </tr>\n",
        "    <tr>\n",
        "      <th>84</th>\n",
        "      <td>        Yonne</td>\n",
        "      <td> 51</td>\n",
        "      <td> 47</td>\n",
        "      <td> 30</td>\n",
        "      <td> C</td>\n",
        "    </tr>\n",
        "  </tbody>\n",
        "</table>\n",
        "</div>"
       ],
       "metadata": {},
       "output_type": "pyout",
       "prompt_number": 39,
       "text": [
        "      Department  Lottery  Literacy  Wealth Region\n",
        "80        Vendee       68        28      56      W\n",
        "81        Vienne       40        25      68      W\n",
        "82  Haute-Vienne       55        13      67      C\n",
        "83        Vosges       14        62      82      E\n",
        "84         Yonne       51        47      30      C"
       ]
      }
     ],
     "prompt_number": 39
    },
    {
     "cell_type": "code",
     "collapsed": false,
     "input": [
      "mod = sm.ols('Lottery ~ Literacy + Wealth + Region', data=df)\n",
      "res = mod.fit()\n",
      "print res.summary()"
     ],
     "language": "python",
     "metadata": {},
     "outputs": [
      {
       "output_type": "stream",
       "stream": "stdout",
       "text": [
        "                            OLS Regression Results                            \n",
        "==============================================================================\n",
        "Dep. Variable:                Lottery   R-squared:                       0.338\n",
        "Model:                            OLS   Adj. R-squared:                  0.287\n",
        "Method:                 Least Squares   F-statistic:                     6.636\n",
        "Date:                Wed, 15 Jan 2014   Prob (F-statistic):           1.07e-05\n",
        "Time:                        20:29:33   Log-Likelihood:                -375.30\n",
        "No. Observations:                  85   AIC:                             764.6\n",
        "Df Residuals:                      78   BIC:                             781.7\n",
        "Df Model:                           6                                         \n",
        "===============================================================================\n",
        "                  coef    std err          t      P>|t|      [95.0% Conf. Int.]\n",
        "-------------------------------------------------------------------------------\n",
        "Intercept      38.6517      9.456      4.087      0.000        19.826    57.478\n",
        "Region[T.E]   -15.4278      9.727     -1.586      0.117       -34.793     3.938\n",
        "Region[T.N]   -10.0170      9.260     -1.082      0.283       -28.453     8.419\n",
        "Region[T.S]    -4.5483      7.279     -0.625      0.534       -19.039     9.943\n",
        "Region[T.W]   -10.0913      7.196     -1.402      0.165       -24.418     4.235\n",
        "Literacy       -0.1858      0.210     -0.886      0.378        -0.603     0.232\n",
        "Wealth          0.4515      0.103      4.390      0.000         0.247     0.656\n",
        "==============================================================================\n",
        "Omnibus:                        3.049   Durbin-Watson:                   1.785\n",
        "Prob(Omnibus):                  0.218   Jarque-Bera (JB):                2.694\n",
        "Skew:                          -0.340   Prob(JB):                        0.260\n",
        "Kurtosis:                       2.454   Cond. No.                         371.\n",
        "==============================================================================\n"
       ]
      }
     ],
     "prompt_number": 40
    },
    {
     "cell_type": "code",
     "collapsed": false,
     "input": [
      "res.params"
     ],
     "language": "python",
     "metadata": {},
     "outputs": [
      {
       "metadata": {},
       "output_type": "pyout",
       "prompt_number": 41,
       "text": [
        "Intercept      38.651655\n",
        "Region[T.E]   -15.427785\n",
        "Region[T.N]   -10.016961\n",
        "Region[T.S]    -4.548257\n",
        "Region[T.W]   -10.091276\n",
        "Literacy       -0.185819\n",
        "Wealth          0.451475\n",
        "dtype: float64"
       ]
      }
     ],
     "prompt_number": 41
    },
    {
     "cell_type": "code",
     "collapsed": false,
     "input": [
      "res.rsquared"
     ],
     "language": "python",
     "metadata": {},
     "outputs": [
      {
       "metadata": {},
       "output_type": "pyout",
       "prompt_number": 42,
       "text": [
        "0.33795086919288186"
       ]
      }
     ],
     "prompt_number": 42
    },
    {
     "cell_type": "code",
     "collapsed": false,
     "input": [
      "from statsmodels.graphics import regressionplots"
     ],
     "language": "python",
     "metadata": {},
     "outputs": [],
     "prompt_number": 20
    },
    {
     "cell_type": "code",
     "collapsed": false,
     "input": [
      "regressionplots.plot_fit(res, 'Wealth');"
     ],
     "language": "python",
     "metadata": {},
     "outputs": [
      {
       "metadata": {},
       "output_type": "display_data",
       "png": "[encoded data removed]",
       "text": [
        "<matplotlib.figure.Figure at 0x10a550510>"
       ]
      }
     ],
     "prompt_number": 53
    },
    {
     "cell_type": "code",
     "collapsed": false,
     "input": [],
     "language": "python",
     "metadata": {},
     "outputs": []
    }
   ],
   "metadata": {}
  }
 ]
}