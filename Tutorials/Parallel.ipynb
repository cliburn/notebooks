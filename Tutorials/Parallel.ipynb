{
 "metadata": {
  "name": "Parallel"
 },
 "nbformat": 3,
 "nbformat_minor": 0,
 "worksheets": [
  {
   "cells": [
    {
     "cell_type": "markdown",
     "metadata": {},
     "source": [
      "We have prepared local host with\n",
      "```\n",
      "ipcluster start -n <number of engines>\n",
      "```\n",
      "\n",
      "Alternativley, use the IPython notebook interface to start ```<number of engines>```"
     ]
    },
    {
     "cell_type": "code",
     "collapsed": false,
     "input": [
      "from IPython.parallel import Client"
     ],
     "language": "python",
     "metadata": {},
     "outputs": [],
     "prompt_number": 1
    },
    {
     "cell_type": "code",
     "collapsed": false,
     "input": [
      "c = Client()"
     ],
     "language": "python",
     "metadata": {},
     "outputs": [],
     "prompt_number": 2
    },
    {
     "cell_type": "code",
     "collapsed": false,
     "input": [
      "c.ids"
     ],
     "language": "python",
     "metadata": {},
     "outputs": [
      {
       "output_type": "pyout",
       "prompt_number": 3,
       "text": [
        "[0, 1, 2, 3, 4, 5, 6, 7]"
       ]
      }
     ],
     "prompt_number": 3
    },
    {
     "cell_type": "code",
     "collapsed": false,
     "input": [
      "c[:].apply_sync(lambda: 'Hello world')"
     ],
     "language": "python",
     "metadata": {},
     "outputs": [
      {
       "output_type": "pyout",
       "prompt_number": 4,
       "text": [
        "['Hello world',\n",
        " 'Hello world',\n",
        " 'Hello world',\n",
        " 'Hello world',\n",
        " 'Hello world',\n",
        " 'Hello world',\n",
        " 'Hello world',\n",
        " 'Hello world']"
       ]
      }
     ],
     "prompt_number": 4
    },
    {
     "cell_type": "code",
     "collapsed": false,
     "input": [
      "dview = c[:]"
     ],
     "language": "python",
     "metadata": {},
     "outputs": [],
     "prompt_number": 5
    },
    {
     "cell_type": "code",
     "collapsed": false,
     "input": [
      "dview.map_sync(lambda x: x**10, range(32))"
     ],
     "language": "python",
     "metadata": {},
     "outputs": [
      {
       "output_type": "pyout",
       "prompt_number": 6,
       "text": [
        "[0,\n",
        " 1,\n",
        " 1024,\n",
        " 59049,\n",
        " 1048576,\n",
        " 9765625,\n",
        " 60466176,\n",
        " 282475249,\n",
        " 1073741824,\n",
        " 3486784401,\n",
        " 10000000000,\n",
        " 25937424601,\n",
        " 61917364224,\n",
        " 137858491849,\n",
        " 289254654976,\n",
        " 576650390625,\n",
        " 1099511627776,\n",
        " 2015993900449,\n",
        " 3570467226624,\n",
        " 6131066257801,\n",
        " 10240000000000,\n",
        " 16679880978201,\n",
        " 26559922791424,\n",
        " 41426511213649,\n",
        " 63403380965376,\n",
        " 95367431640625,\n",
        " 141167095653376,\n",
        " 205891132094649,\n",
        " 296196766695424,\n",
        " 420707233300201,\n",
        " 590490000000000,\n",
        " 819628286980801]"
       ]
      }
     ],
     "prompt_number": 6
    },
    {
     "cell_type": "code",
     "collapsed": false,
     "input": [
      "@dview.remote(block=True)\n",
      "def getpid():\n",
      "    import os\n",
      "    return os.getpid()\n",
      "    \n",
      "getpid()"
     ],
     "language": "python",
     "metadata": {},
     "outputs": [
      {
       "output_type": "pyout",
       "prompt_number": 7,
       "text": [
        "[3396, 3397, 3402, 3418, 3434, 3450, 3466, 3482]"
       ]
      }
     ],
     "prompt_number": 7
    },
    {
     "cell_type": "code",
     "collapsed": true,
     "input": [
      "import numpy as np\n",
      "\n",
      "A = np.random.random((64,48))\n",
      "@dview.parallel(block=True)\n",
      "def pmul(A, B):\n",
      "    return A*B\n",
      "\n",
      "C_serial = A*A\n",
      "C_parallel = pmul(A, A)\n",
      "(C_serial == C_parallel).all()"
     ],
     "language": "python",
     "metadata": {},
     "outputs": [
      {
       "output_type": "pyout",
       "prompt_number": 8,
       "text": [
        "True"
       ]
      }
     ],
     "prompt_number": 8
    },
    {
     "cell_type": "code",
     "collapsed": false,
     "input": [
      "dview['a'] = 7\n",
      "dview['b'] = 6\n",
      "dview.apply_sync(lambda x: a + b + x, 25)"
     ],
     "language": "python",
     "metadata": {},
     "outputs": [
      {
       "output_type": "pyout",
       "prompt_number": 9,
       "text": [
        "[38, 38, 38, 38, 38, 38, 38, 38]"
       ]
      }
     ],
     "prompt_number": 9
    },
    {
     "cell_type": "code",
     "collapsed": false,
     "input": [
      "c[::2].execute('c = a + b')\n",
      "c[1::2].execute('c = a - b')\n",
      "dview['c']"
     ],
     "language": "python",
     "metadata": {},
     "outputs": [
      {
       "output_type": "pyout",
       "prompt_number": 10,
       "text": [
        "[13, 1, 13, 1, 13, 1, 13, 1]"
       ]
      }
     ],
     "prompt_number": 10
    },
    {
     "cell_type": "code",
     "collapsed": false,
     "input": [
      "def wait(t):\n",
      "    import time\n",
      "    tic = time.time()\n",
      "    time.sleep(t)\n",
      "    return time.time() - tic\n",
      "\n",
      "ar = dview.apply_async(wait, 2)"
     ],
     "language": "python",
     "metadata": {},
     "outputs": [],
     "prompt_number": 11
    },
    {
     "cell_type": "code",
     "collapsed": false,
     "input": [
      "ar.get()"
     ],
     "language": "python",
     "metadata": {},
     "outputs": [
      {
       "output_type": "pyout",
       "prompt_number": 12,
       "text": [
        "[2.0021250247955322,\n",
        " 2.0020511150360107,\n",
        " 2.001070022583008,\n",
        " 2.002067804336548,\n",
        " 2.002067804336548,\n",
        " 2.0020229816436768,\n",
        " 2.002026081085205,\n",
        " 2.0012319087982178]"
       ]
      }
     ],
     "prompt_number": 12
    },
    {
     "cell_type": "code",
     "collapsed": false,
     "input": [
      "dview.apply_sync(wait, 2)"
     ],
     "language": "python",
     "metadata": {},
     "outputs": [
      {
       "output_type": "pyout",
       "prompt_number": 13,
       "text": [
        "[2.000903844833374,\n",
        " 2.0020439624786377,\n",
        " 2.0020508766174316,\n",
        " 2.0020320415496826,\n",
        " 2.001523971557617,\n",
        " 2.001282215118408,\n",
        " 2.0010390281677246,\n",
        " 2.0011470317840576]"
       ]
      }
     ],
     "prompt_number": 13
    },
    {
     "cell_type": "code",
     "collapsed": false,
     "input": [
      "pr_list = [dview.apply_async(wait, 3) for i in range(10)]\n",
      "dview.wait(pr_list)\n",
      "pr_list[0].get()\n",
      "pr_list[9].get()"
     ],
     "language": "python",
     "metadata": {},
     "outputs": [
      {
       "output_type": "pyout",
       "prompt_number": 14,
       "text": [
        "[3.003056049346924,\n",
        " 3.000602960586548,\n",
        " 3.0029561519622803,\n",
        " 3.0031001567840576,\n",
        " 3.0003890991210938,\n",
        " 3.0017571449279785,\n",
        " 3.0031089782714844,\n",
        " 3.000994920730591]"
       ]
      }
     ],
     "prompt_number": 14
    },
    {
     "cell_type": "code",
     "collapsed": false,
     "input": [
      "dview.targets = [0,2]\n",
      "dview.apply_sync(lambda:  10)"
     ],
     "language": "python",
     "metadata": {},
     "outputs": [
      {
       "output_type": "pyout",
       "prompt_number": 15,
       "text": [
        "[10, 10]"
       ]
      }
     ],
     "prompt_number": 15
    },
    {
     "cell_type": "code",
     "collapsed": false,
     "input": [
      "dview['a']=['foo', 'bar']\n",
      "dview['a']"
     ],
     "language": "python",
     "metadata": {},
     "outputs": [
      {
       "output_type": "pyout",
       "prompt_number": 16,
       "text": [
        "[['foo', 'bar'], ['foo', 'bar']]"
       ]
      }
     ],
     "prompt_number": 16
    },
    {
     "cell_type": "code",
     "collapsed": false,
     "input": [
      "dview.scatter('a', range(16))\n",
      "print dview['a']\n",
      "ar = dview.gather('a')\n",
      "ar.get()"
     ],
     "language": "python",
     "metadata": {},
     "outputs": [
      {
       "output_type": "stream",
       "stream": "stdout",
       "text": [
        "[[0, 1, 2, 3, 4, 5, 6, 7], [8, 9, 10, 11, 12, 13, 14, 15]]\n"
       ]
      },
      {
       "output_type": "pyout",
       "prompt_number": 17,
       "text": [
        "[0, 1, 2, 3, 4, 5, 6, 7, 8, 9, 10, 11, 12, 13, 14, 15]"
       ]
      }
     ],
     "prompt_number": 17
    },
    {
     "cell_type": "code",
     "collapsed": false,
     "input": [
      "dview.targets = dview.client.ids\n",
      "dview.block = True\n",
      "dview.scatter('x', range(8))"
     ],
     "language": "python",
     "metadata": {},
     "outputs": [],
     "prompt_number": 18
    },
    {
     "cell_type": "code",
     "collapsed": false,
     "input": [
      "%px y = [i**10 for i in x]"
     ],
     "language": "python",
     "metadata": {},
     "outputs": [],
     "prompt_number": 19
    },
    {
     "cell_type": "code",
     "collapsed": false,
     "input": [
      "dview['y']"
     ],
     "language": "python",
     "metadata": {},
     "outputs": [
      {
       "output_type": "pyout",
       "prompt_number": 20,
       "text": [
        "[[0], [1], [1024], [59049], [1048576], [9765625], [60466176], [282475249]]"
       ]
      }
     ],
     "prompt_number": 20
    },
    {
     "cell_type": "code",
     "collapsed": false,
     "input": [
      "dview.gather('y')"
     ],
     "language": "python",
     "metadata": {},
     "outputs": [
      {
       "output_type": "pyout",
       "prompt_number": 21,
       "text": [
        "[0, 1, 1024, 59049, 1048576, 9765625, 60466176, 282475249]"
       ]
      }
     ],
     "prompt_number": 21
    },
    {
     "cell_type": "code",
     "collapsed": false,
     "input": [
      "from IPython.parallel import require\n",
      "\n",
      "@require('re')\n",
      "def findall(pat, x):\n",
      "    return re.findall(pat, x)\n",
      "\n",
      "dview.apply(findall, 'on', 'song')\n",
      "\n",
      "ss = ['song', 'fun', 'bonk bonk', 'runt', 'ronnie']\n",
      "dview['findall'] = findall # namespace is not passed to engine\n",
      "dview.map_sync(lambda x: findall('on', x), ss)"
     ],
     "language": "python",
     "metadata": {},
     "outputs": [
      {
       "output_type": "pyout",
       "prompt_number": 22,
       "text": [
        "[['on'], [], ['on', 'on'], [], ['on']]"
       ]
      }
     ],
     "prompt_number": 22
    },
    {
     "cell_type": "code",
     "collapsed": false,
     "input": [
      "from IPython.parallel import error\n",
      "\n",
      "try:\n",
      "    dview.execute('1/0', block=True)\n",
      "except error.CompositeError, e:\n",
      "    e.raise_exception()"
     ],
     "language": "python",
     "metadata": {},
     "outputs": [
      {
       "ename": "RemoteError",
       "evalue": "ZeroDivisionError(integer division or modulo by zero)",
       "output_type": "pyerr",
       "traceback": [
        "\u001b[1;31m---------------------------------------------------------------------------\u001b[0m",
        "\u001b[1;31mZeroDivisionError\u001b[0m                         Traceback (most recent call last)\u001b[1;32m<ipython-input-2-05c9758a9c21>\u001b[0m in \u001b[0;36m<module>\u001b[1;34m()\u001b[0m",
        "\u001b[1;32m----> 1\u001b[1;33m \u001b[1;36m1\u001b[0m\u001b[1;33m/\u001b[0m\u001b[1;36m0\u001b[0m\u001b[1;33m\u001b[0m\u001b[0m",
        "\u001b[0m\u001b[1;31mZeroDivisionError\u001b[0m: integer division or modulo by zero"
       ]
      }
     ],
     "prompt_number": 23
    },
    {
     "cell_type": "code",
     "collapsed": false,
     "input": [],
     "language": "python",
     "metadata": {},
     "outputs": []
    }
   ],
   "metadata": {}
  }
 ]
}