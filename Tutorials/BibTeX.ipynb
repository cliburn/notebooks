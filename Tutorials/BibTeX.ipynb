{
 "metadata": {
  "name": ""
 },
 "nbformat": 3,
 "nbformat_minor": 0,
 "worksheets": [
  {
   "cells": [
    {
     "cell_type": "code",
     "collapsed": false,
     "input": [
      "%install_ext https://gist.github.com/z-m-k/6080008/raw/ipyBibtex.py"
     ],
     "language": "python",
     "metadata": {},
     "outputs": [
      {
       "output_type": "stream",
       "stream": "stdout",
       "text": [
        "Installed ipyBibtex.py. To use it, type:\n",
        "  %load_ext ipyBibtex\n"
       ]
      }
     ],
     "prompt_number": 2
    },
    {
     "cell_type": "code",
     "collapsed": false,
     "input": [
      "%load_ext ipyBibtex"
     ],
     "language": "python",
     "metadata": {},
     "outputs": [],
     "prompt_number": 3
    },
    {
     "cell_type": "code",
     "collapsed": false,
     "input": [
      "%etal 4"
     ],
     "language": "python",
     "metadata": {},
     "outputs": [],
     "prompt_number": 4
    },
    {
     "cell_type": "code",
     "collapsed": false,
     "input": [
      "%bibFile mybib.bib"
     ],
     "language": "python",
     "metadata": {},
     "outputs": [],
     "prompt_number": 7
    },
    {
     "cell_type": "code",
     "collapsed": false,
     "input": [
      "%%cite\n",
      "Here is a reference to Paper 1 __\\citep{small}__ and Paper 2 __\\cite{big}__."
     ],
     "language": "python",
     "metadata": {},
     "outputs": [
      {
       "html": [
        "<p>Here is a reference to Paper 1 <strong>(Freely, 1997)</strong> and Paper 2 <strong>Jass (7991)</strong>.</p>"
       ],
       "metadata": {},
       "output_type": "display_data",
       "text": [
        "Here is a reference to Paper 1 __(Freely, 1997)__ and Paper 2 __Jass (7991)__."
       ]
      }
     ],
     "prompt_number": 11
    },
    {
     "cell_type": "code",
     "collapsed": false,
     "input": [],
     "language": "python",
     "metadata": {},
     "outputs": []
    }
   ],
   "metadata": {}
  }
 ]
}