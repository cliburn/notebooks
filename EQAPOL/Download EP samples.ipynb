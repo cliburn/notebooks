{
 "metadata": {
  "name": "Download EP samples"
 },
 "nbformat": 3,
 "nbformat_minor": 0,
 "worksheets": [
  {
   "cells": [
    {
     "cell_type": "markdown",
     "metadata": {},
     "source": [
      "### Download FCS files for analysis"
     ]
    },
    {
     "cell_type": "code",
     "collapsed": false,
     "input": [
      "import os, sys, glob\n",
      "import fcm\n",
      "from fcm.graphics import bilinear_interpolate\n",
      "import fcm.statistics as stats\n",
      "import utils\n",
      "from matplotlib.path import Path\n",
      "import reflowrestclient.utils as rest\n",
      "import flowutils"
     ],
     "language": "python",
     "metadata": {},
     "outputs": [],
     "prompt_number": 10
    },
    {
     "cell_type": "code",
     "collapsed": false,
     "input": [
      "host = '54.225.76.82'\n",
      "token = u'4fc9c7b56c195325e6488225e93aff777383d672'"
     ],
     "language": "python",
     "metadata": {},
     "outputs": [],
     "prompt_number": 11
    },
    {
     "cell_type": "code",
     "collapsed": false,
     "input": [
      "project = 'EQAPOL'\n",
      "visit = 'EP4'\n",
      "project_panel = '%s %s' % (project, visit)"
     ],
     "language": "python",
     "metadata": {},
     "outputs": [],
     "prompt_number": 27
    },
    {
     "cell_type": "code",
     "collapsed": false,
     "input": [
      "base_dir = '/home/cliburn/Dropbox/Inbox/Data/%s' % visit"
     ],
     "language": "python",
     "metadata": {},
     "outputs": [],
     "prompt_number": 28
    },
    {
     "cell_type": "code",
     "collapsed": false,
     "input": [
      "project_id = rest.get_projects(host, token, project)['data'][0]['id']\n",
      "visit_id = rest.get_visit_types(host, token, visit_type_name=visit, project_pk=project_id)['data'][0]['id']\n",
      "project_panel_id = rest.get_project_panels(host, token, project_pk=project_id, panel_name=project_panel)['data'][0]['id']\n",
      "samples = rest.get_samples(host, token, project_panel_pk=project_panel_id, visit_pk=visit_id)"
     ],
     "language": "python",
     "metadata": {},
     "outputs": [],
     "prompt_number": 29
    },
    {
     "cell_type": "code",
     "collapsed": false,
     "input": [
      "for sample in samples['data']:\n",
      "    print sample['id'],\n",
      "    if not os.path.exists(os.path.join(base_dir, 'samples', '%s.fcs' % sample['id'])):\n",
      "        rest.download_sample(host, token, sample['id'], data_format='fcs', directory=os.path.join(base_dir, 'samples'))\n",
      "print"
     ],
     "language": "python",
     "metadata": {},
     "outputs": [
      {
       "output_type": "stream",
       "stream": "stdout",
       "text": [
        "1779 "
       ]
      },
      {
       "output_type": "stream",
       "stream": "stdout",
       "text": [
        "2049 "
       ]
      },
      {
       "output_type": "stream",
       "stream": "stdout",
       "text": [
        "2027 "
       ]
      },
      {
       "output_type": "stream",
       "stream": "stdout",
       "text": [
        "1709 "
       ]
      },
      {
       "output_type": "stream",
       "stream": "stdout",
       "text": [
        "1742 "
       ]
      },
      {
       "output_type": "stream",
       "stream": "stdout",
       "text": [
        "1831 "
       ]
      },
      {
       "output_type": "stream",
       "stream": "stdout",
       "text": [
        "1855 "
       ]
      },
      {
       "output_type": "stream",
       "stream": "stdout",
       "text": [
        "1852 "
       ]
      },
      {
       "output_type": "stream",
       "stream": "stdout",
       "text": [
        "1876 "
       ]
      },
      {
       "output_type": "stream",
       "stream": "stdout",
       "text": [
        "1729 "
       ]
      },
      {
       "output_type": "stream",
       "stream": "stdout",
       "text": [
        "1822 "
       ]
      },
      {
       "output_type": "stream",
       "stream": "stdout",
       "text": [
        "2022 "
       ]
      },
      {
       "output_type": "stream",
       "stream": "stdout",
       "text": [
        "2038 "
       ]
      },
      {
       "output_type": "stream",
       "stream": "stdout",
       "text": [
        "1983 "
       ]
      },
      {
       "output_type": "stream",
       "stream": "stdout",
       "text": [
        "2007 "
       ]
      },
      {
       "output_type": "stream",
       "stream": "stdout",
       "text": [
        "1740 "
       ]
      },
      {
       "output_type": "stream",
       "stream": "stdout",
       "text": [
        "1756 "
       ]
      },
      {
       "output_type": "stream",
       "stream": "stdout",
       "text": [
        "1816 "
       ]
      },
      {
       "output_type": "stream",
       "stream": "stdout",
       "text": [
        "1968 "
       ]
      },
      {
       "output_type": "stream",
       "stream": "stdout",
       "text": [
        "1969 "
       ]
      },
      {
       "output_type": "stream",
       "stream": "stdout",
       "text": [
        "2050 "
       ]
      },
      {
       "output_type": "stream",
       "stream": "stdout",
       "text": [
        "2031 "
       ]
      },
      {
       "output_type": "stream",
       "stream": "stdout",
       "text": [
        "1858 "
       ]
      },
      {
       "output_type": "stream",
       "stream": "stdout",
       "text": [
        "1836 "
       ]
      },
      {
       "output_type": "stream",
       "stream": "stdout",
       "text": [
        "1869 "
       ]
      },
      {
       "output_type": "stream",
       "stream": "stdout",
       "text": [
        "2003 "
       ]
      },
      {
       "output_type": "stream",
       "stream": "stdout",
       "text": [
        "2014 "
       ]
      },
      {
       "output_type": "stream",
       "stream": "stdout",
       "text": [
        "2057 "
       ]
      },
      {
       "output_type": "stream",
       "stream": "stdout",
       "text": [
        "1795 "
       ]
      },
      {
       "output_type": "stream",
       "stream": "stdout",
       "text": [
        "1907 "
       ]
      },
      {
       "output_type": "stream",
       "stream": "stdout",
       "text": [
        "1886 "
       ]
      },
      {
       "output_type": "stream",
       "stream": "stdout",
       "text": [
        "1938 "
       ]
      },
      {
       "output_type": "stream",
       "stream": "stdout",
       "text": [
        "1745 "
       ]
      },
      {
       "output_type": "stream",
       "stream": "stdout",
       "text": [
        "2062 "
       ]
      },
      {
       "output_type": "stream",
       "stream": "stdout",
       "text": [
        "1753 "
       ]
      },
      {
       "output_type": "stream",
       "stream": "stdout",
       "text": [
        "2060 "
       ]
      },
      {
       "output_type": "stream",
       "stream": "stdout",
       "text": [
        "1738 "
       ]
      },
      {
       "output_type": "stream",
       "stream": "stdout",
       "text": [
        "1865 "
       ]
      },
      {
       "output_type": "stream",
       "stream": "stdout",
       "text": [
        "1719 "
       ]
      },
      {
       "output_type": "stream",
       "stream": "stdout",
       "text": [
        "2036 "
       ]
      },
      {
       "output_type": "stream",
       "stream": "stdout",
       "text": [
        "1895 "
       ]
      },
      {
       "output_type": "stream",
       "stream": "stdout",
       "text": [
        "1997 "
       ]
      },
      {
       "output_type": "stream",
       "stream": "stdout",
       "text": [
        "1766 "
       ]
      },
      {
       "output_type": "stream",
       "stream": "stdout",
       "text": [
        "1752 "
       ]
      },
      {
       "output_type": "stream",
       "stream": "stdout",
       "text": [
        "1904 "
       ]
      },
      {
       "output_type": "stream",
       "stream": "stdout",
       "text": [
        "1956 "
       ]
      },
      {
       "output_type": "stream",
       "stream": "stdout",
       "text": [
        "1725 "
       ]
      },
      {
       "output_type": "stream",
       "stream": "stdout",
       "text": [
        "2021 "
       ]
      },
      {
       "output_type": "stream",
       "stream": "stdout",
       "text": [
        "1758 "
       ]
      },
      {
       "output_type": "stream",
       "stream": "stdout",
       "text": [
        "1880 "
       ]
      },
      {
       "output_type": "stream",
       "stream": "stdout",
       "text": [
        "1824 "
       ]
      },
      {
       "output_type": "stream",
       "stream": "stdout",
       "text": [
        "2053 "
       ]
      },
      {
       "output_type": "stream",
       "stream": "stdout",
       "text": [
        "1696 "
       ]
      },
      {
       "output_type": "stream",
       "stream": "stdout",
       "text": [
        "1811 "
       ]
      },
      {
       "output_type": "stream",
       "stream": "stdout",
       "text": [
        "1941 "
       ]
      },
      {
       "output_type": "stream",
       "stream": "stdout",
       "text": [
        "1814 "
       ]
      },
      {
       "output_type": "stream",
       "stream": "stdout",
       "text": [
        "1918 "
       ]
      },
      {
       "output_type": "stream",
       "stream": "stdout",
       "text": [
        "1901 "
       ]
      },
      {
       "output_type": "stream",
       "stream": "stdout",
       "text": [
        "2039 "
       ]
      },
      {
       "output_type": "stream",
       "stream": "stdout",
       "text": [
        "1759 "
       ]
      },
      {
       "output_type": "stream",
       "stream": "stdout",
       "text": [
        "1912 "
       ]
      },
      {
       "output_type": "stream",
       "stream": "stdout",
       "text": [
        "1899 "
       ]
      },
      {
       "output_type": "stream",
       "stream": "stdout",
       "text": [
        "1695 "
       ]
      },
      {
       "output_type": "stream",
       "stream": "stdout",
       "text": [
        "1802 "
       ]
      },
      {
       "output_type": "stream",
       "stream": "stdout",
       "text": [
        "1817 "
       ]
      },
      {
       "output_type": "stream",
       "stream": "stdout",
       "text": [
        "1915 "
       ]
      },
      {
       "output_type": "stream",
       "stream": "stdout",
       "text": [
        "1708 "
       ]
      },
      {
       "output_type": "stream",
       "stream": "stdout",
       "text": [
        "1992 "
       ]
      },
      {
       "output_type": "stream",
       "stream": "stdout",
       "text": [
        "2008 "
       ]
      },
      {
       "output_type": "stream",
       "stream": "stdout",
       "text": [
        "1731 "
       ]
      },
      {
       "output_type": "stream",
       "stream": "stdout",
       "text": [
        "1730 "
       ]
      },
      {
       "output_type": "stream",
       "stream": "stdout",
       "text": [
        "1749 "
       ]
      },
      {
       "output_type": "stream",
       "stream": "stdout",
       "text": [
        "1748 "
       ]
      },
      {
       "output_type": "stream",
       "stream": "stdout",
       "text": [
        "1698 "
       ]
      },
      {
       "output_type": "stream",
       "stream": "stdout",
       "text": [
        "1838 "
       ]
      },
      {
       "output_type": "stream",
       "stream": "stdout",
       "text": [
        "1845 "
       ]
      },
      {
       "output_type": "stream",
       "stream": "stdout",
       "text": [
        "2055 "
       ]
      },
      {
       "output_type": "stream",
       "stream": "stdout",
       "text": [
        "1721 "
       ]
      },
      {
       "output_type": "stream",
       "stream": "stdout",
       "text": [
        "1751 "
       ]
      },
      {
       "output_type": "stream",
       "stream": "stdout",
       "text": [
        "1873 "
       ]
      },
      {
       "output_type": "stream",
       "stream": "stdout",
       "text": [
        "1994 "
       ]
      },
      {
       "output_type": "stream",
       "stream": "stdout",
       "text": [
        "1893 "
       ]
      },
      {
       "output_type": "stream",
       "stream": "stdout",
       "text": [
        "1926 "
       ]
      },
      {
       "output_type": "stream",
       "stream": "stdout",
       "text": [
        "1927 "
       ]
      },
      {
       "output_type": "stream",
       "stream": "stdout",
       "text": [
        "2010 "
       ]
      },
      {
       "output_type": "stream",
       "stream": "stdout",
       "text": [
        "1950 "
       ]
      },
      {
       "output_type": "stream",
       "stream": "stdout",
       "text": [
        "1930 "
       ]
      },
      {
       "output_type": "stream",
       "stream": "stdout",
       "text": [
        "1952 "
       ]
      },
      {
       "output_type": "stream",
       "stream": "stdout",
       "text": [
        "1919 "
       ]
      },
      {
       "output_type": "stream",
       "stream": "stdout",
       "text": [
        "1815 "
       ]
      },
      {
       "output_type": "stream",
       "stream": "stdout",
       "text": [
        "1932 "
       ]
      },
      {
       "output_type": "stream",
       "stream": "stdout",
       "text": [
        "1764 "
       ]
      },
      {
       "output_type": "stream",
       "stream": "stdout",
       "text": [
        "1767 "
       ]
      },
      {
       "output_type": "stream",
       "stream": "stdout",
       "text": [
        "1982 "
       ]
      },
      {
       "output_type": "stream",
       "stream": "stdout",
       "text": [
        "1842 "
       ]
      },
      {
       "output_type": "stream",
       "stream": "stdout",
       "text": [
        "1823 "
       ]
      },
      {
       "output_type": "stream",
       "stream": "stdout",
       "text": [
        "1848 "
       ]
      },
      {
       "output_type": "stream",
       "stream": "stdout",
       "text": [
        "2002 "
       ]
      },
      {
       "output_type": "stream",
       "stream": "stdout",
       "text": [
        "1791 "
       ]
      },
      {
       "output_type": "stream",
       "stream": "stdout",
       "text": [
        "1910 "
       ]
      },
      {
       "output_type": "stream",
       "stream": "stdout",
       "text": [
        "2071 "
       ]
      },
      {
       "output_type": "stream",
       "stream": "stdout",
       "text": [
        "1825 "
       ]
      },
      {
       "output_type": "stream",
       "stream": "stdout",
       "text": [
        "1967 "
       ]
      },
      {
       "output_type": "stream",
       "stream": "stdout",
       "text": [
        "1874 "
       ]
      },
      {
       "output_type": "stream",
       "stream": "stdout",
       "text": [
        "1726 "
       ]
      },
      {
       "output_type": "stream",
       "stream": "stdout",
       "text": [
        "1960 "
       ]
      },
      {
       "output_type": "stream",
       "stream": "stdout",
       "text": [
        "2046 "
       ]
      },
      {
       "output_type": "stream",
       "stream": "stdout",
       "text": [
        "2056 "
       ]
      },
      {
       "output_type": "stream",
       "stream": "stdout",
       "text": [
        "1900 "
       ]
      },
      {
       "output_type": "stream",
       "stream": "stdout",
       "text": [
        "1819 "
       ]
      },
      {
       "output_type": "stream",
       "stream": "stdout",
       "text": [
        "2035 "
       ]
      },
      {
       "output_type": "stream",
       "stream": "stdout",
       "text": [
        "1898 "
       ]
      },
      {
       "output_type": "stream",
       "stream": "stdout",
       "text": [
        "1953 "
       ]
      },
      {
       "output_type": "stream",
       "stream": "stdout",
       "text": [
        "1980 "
       ]
      },
      {
       "output_type": "stream",
       "stream": "stdout",
       "text": [
        "1902 "
       ]
      },
      {
       "output_type": "stream",
       "stream": "stdout",
       "text": [
        "1782 "
       ]
      },
      {
       "output_type": "stream",
       "stream": "stdout",
       "text": [
        "1920 "
       ]
      },
      {
       "output_type": "stream",
       "stream": "stdout",
       "text": [
        "2026 "
       ]
      },
      {
       "output_type": "stream",
       "stream": "stdout",
       "text": [
        "1704 "
       ]
      },
      {
       "output_type": "stream",
       "stream": "stdout",
       "text": [
        "1998 "
       ]
      },
      {
       "output_type": "stream",
       "stream": "stdout",
       "text": [
        "1987 "
       ]
      },
      {
       "output_type": "stream",
       "stream": "stdout",
       "text": [
        "1750 "
       ]
      },
      {
       "output_type": "stream",
       "stream": "stdout",
       "text": [
        "1875 "
       ]
      },
      {
       "output_type": "stream",
       "stream": "stdout",
       "text": [
        "1989 "
       ]
      },
      {
       "output_type": "stream",
       "stream": "stdout",
       "text": [
        "1784 "
       ]
      },
      {
       "output_type": "stream",
       "stream": "stdout",
       "text": [
        "1820 "
       ]
      },
      {
       "output_type": "stream",
       "stream": "stdout",
       "text": [
        "1888 "
       ]
      },
      {
       "output_type": "stream",
       "stream": "stdout",
       "text": [
        "1993 "
       ]
      },
      {
       "output_type": "stream",
       "stream": "stdout",
       "text": [
        "1746 "
       ]
      },
      {
       "output_type": "stream",
       "stream": "stdout",
       "text": [
        "1906 "
       ]
      },
      {
       "output_type": "stream",
       "stream": "stdout",
       "text": [
        "1945 "
       ]
      },
      {
       "output_type": "stream",
       "stream": "stdout",
       "text": [
        "2032 "
       ]
      },
      {
       "output_type": "stream",
       "stream": "stdout",
       "text": [
        "1716 "
       ]
      },
      {
       "output_type": "stream",
       "stream": "stdout",
       "text": [
        "1781 "
       ]
      },
      {
       "output_type": "stream",
       "stream": "stdout",
       "text": [
        "1805 "
       ]
      },
      {
       "output_type": "stream",
       "stream": "stdout",
       "text": [
        "2065 "
       ]
      },
      {
       "output_type": "stream",
       "stream": "stdout",
       "text": [
        "1771 "
       ]
      },
      {
       "output_type": "stream",
       "stream": "stdout",
       "text": [
        "1853 "
       ]
      },
      {
       "output_type": "stream",
       "stream": "stdout",
       "text": [
        "1881 "
       ]
      },
      {
       "output_type": "stream",
       "stream": "stdout",
       "text": [
        "1996 "
       ]
      },
      {
       "output_type": "stream",
       "stream": "stdout",
       "text": [
        "2068 "
       ]
      },
      {
       "output_type": "stream",
       "stream": "stdout",
       "text": [
        "1711 "
       ]
      },
      {
       "output_type": "stream",
       "stream": "stdout",
       "text": [
        "1872 "
       ]
      },
      {
       "output_type": "stream",
       "stream": "stdout",
       "text": [
        "1890 "
       ]
      },
      {
       "output_type": "stream",
       "stream": "stdout",
       "text": [
        "2018 "
       ]
      },
      {
       "output_type": "stream",
       "stream": "stdout",
       "text": [
        "1837 "
       ]
      },
      {
       "output_type": "stream",
       "stream": "stdout",
       "text": [
        "1868 "
       ]
      },
      {
       "output_type": "stream",
       "stream": "stdout",
       "text": [
        "1934 "
       ]
      },
      {
       "output_type": "stream",
       "stream": "stdout",
       "text": [
        "2041 "
       ]
      },
      {
       "output_type": "stream",
       "stream": "stdout",
       "text": [
        "1966 "
       ]
      },
      {
       "output_type": "stream",
       "stream": "stdout",
       "text": [
        "1807 "
       ]
      },
      {
       "output_type": "stream",
       "stream": "stdout",
       "text": [
        "1965 "
       ]
      },
      {
       "output_type": "stream",
       "stream": "stdout",
       "text": [
        "1733 "
       ]
      },
      {
       "output_type": "stream",
       "stream": "stdout",
       "text": [
        "1800 "
       ]
      },
      {
       "output_type": "stream",
       "stream": "stdout",
       "text": [
        "1713 "
       ]
      },
      {
       "output_type": "stream",
       "stream": "stdout",
       "text": [
        "1754 "
       ]
      },
      {
       "output_type": "stream",
       "stream": "stdout",
       "text": [
        "1701 "
       ]
      },
      {
       "output_type": "stream",
       "stream": "stdout",
       "text": [
        "1724 "
       ]
      },
      {
       "output_type": "stream",
       "stream": "stdout",
       "text": [
        "1768 "
       ]
      },
      {
       "output_type": "stream",
       "stream": "stdout",
       "text": [
        "1835 "
       ]
      },
      {
       "output_type": "stream",
       "stream": "stdout",
       "text": [
        "1984 "
       ]
      },
      {
       "output_type": "stream",
       "stream": "stdout",
       "text": [
        "1806 "
       ]
      },
      {
       "output_type": "stream",
       "stream": "stdout",
       "text": [
        "1830 "
       ]
      },
      {
       "output_type": "stream",
       "stream": "stdout",
       "text": [
        "1976 "
       ]
      },
      {
       "output_type": "stream",
       "stream": "stdout",
       "text": [
        "1981 "
       ]
      },
      {
       "output_type": "stream",
       "stream": "stdout",
       "text": [
        "1958 "
       ]
      },
      {
       "output_type": "stream",
       "stream": "stdout",
       "text": [
        "1796 "
       ]
      },
      {
       "output_type": "stream",
       "stream": "stdout",
       "text": [
        "2017 "
       ]
      },
      {
       "output_type": "stream",
       "stream": "stdout",
       "text": [
        "1954 "
       ]
      },
      {
       "output_type": "stream",
       "stream": "stdout",
       "text": [
        "1732 "
       ]
      },
      {
       "output_type": "stream",
       "stream": "stdout",
       "text": [
        "1700 "
       ]
      },
      {
       "output_type": "stream",
       "stream": "stdout",
       "text": [
        "1897 "
       ]
      },
      {
       "output_type": "stream",
       "stream": "stdout",
       "text": [
        "1913 "
       ]
      },
      {
       "output_type": "stream",
       "stream": "stdout",
       "text": [
        "1809 "
       ]
      },
      {
       "output_type": "stream",
       "stream": "stdout",
       "text": [
        "1933 "
       ]
      },
      {
       "output_type": "stream",
       "stream": "stdout",
       "text": [
        "1862 "
       ]
      },
      {
       "output_type": "stream",
       "stream": "stdout",
       "text": [
        "1931 "
       ]
      },
      {
       "output_type": "stream",
       "stream": "stdout",
       "text": [
        "1991 "
       ]
      },
      {
       "output_type": "stream",
       "stream": "stdout",
       "text": [
        "1882 "
       ]
      },
      {
       "output_type": "stream",
       "stream": "stdout",
       "text": [
        "1799 "
       ]
      },
      {
       "output_type": "stream",
       "stream": "stdout",
       "text": [
        "1789 "
       ]
      },
      {
       "output_type": "stream",
       "stream": "stdout",
       "text": [
        "1908 "
       ]
      },
      {
       "output_type": "stream",
       "stream": "stdout",
       "text": [
        "2072 "
       ]
      },
      {
       "output_type": "stream",
       "stream": "stdout",
       "text": [
        "1891 "
       ]
      },
      {
       "output_type": "stream",
       "stream": "stdout",
       "text": [
        "1975 "
       ]
      },
      {
       "output_type": "stream",
       "stream": "stdout",
       "text": [
        "1788 "
       ]
      },
      {
       "output_type": "stream",
       "stream": "stdout",
       "text": [
        "2043 "
       ]
      },
      {
       "output_type": "stream",
       "stream": "stdout",
       "text": [
        "1946 "
       ]
      },
      {
       "output_type": "stream",
       "stream": "stdout",
       "text": [
        "1885 "
       ]
      },
      {
       "output_type": "stream",
       "stream": "stdout",
       "text": [
        "1925 "
       ]
      },
      {
       "output_type": "stream",
       "stream": "stdout",
       "text": [
        "1821 "
       ]
      },
      {
       "output_type": "stream",
       "stream": "stdout",
       "text": [
        "2025 "
       ]
      },
      {
       "output_type": "stream",
       "stream": "stdout",
       "text": [
        "1847 "
       ]
      },
      {
       "output_type": "stream",
       "stream": "stdout",
       "text": [
        "1928 "
       ]
      },
      {
       "output_type": "stream",
       "stream": "stdout",
       "text": [
        "2067 "
       ]
      },
      {
       "output_type": "stream",
       "stream": "stdout",
       "text": [
        "2070 "
       ]
      },
      {
       "output_type": "stream",
       "stream": "stdout",
       "text": [
        "1736 "
       ]
      },
      {
       "output_type": "stream",
       "stream": "stdout",
       "text": [
        "1995 "
       ]
      },
      {
       "output_type": "stream",
       "stream": "stdout",
       "text": [
        "1905 "
       ]
      },
      {
       "output_type": "stream",
       "stream": "stdout",
       "text": [
        "1829 "
       ]
      },
      {
       "output_type": "stream",
       "stream": "stdout",
       "text": [
        "1851 "
       ]
      },
      {
       "output_type": "stream",
       "stream": "stdout",
       "text": [
        "1699 "
       ]
      },
      {
       "output_type": "stream",
       "stream": "stdout",
       "text": [
        "1714 "
       ]
      },
      {
       "output_type": "stream",
       "stream": "stdout",
       "text": [
        "1757 "
       ]
      },
      {
       "output_type": "stream",
       "stream": "stdout",
       "text": [
        "1833 "
       ]
      },
      {
       "output_type": "stream",
       "stream": "stdout",
       "text": [
        "2061 "
       ]
      },
      {
       "output_type": "stream",
       "stream": "stdout",
       "text": [
        "1846 "
       ]
      },
      {
       "output_type": "stream",
       "stream": "stdout",
       "text": [
        "1859 "
       ]
      },
      {
       "output_type": "stream",
       "stream": "stdout",
       "text": [
        "1879 "
       ]
      },
      {
       "output_type": "stream",
       "stream": "stdout",
       "text": [
        "1911 "
       ]
      },
      {
       "output_type": "stream",
       "stream": "stdout",
       "text": [
        "2069 "
       ]
      },
      {
       "output_type": "stream",
       "stream": "stdout",
       "text": [
        "1747 "
       ]
      },
      {
       "output_type": "stream",
       "stream": "stdout",
       "text": [
        "1962 "
       ]
      },
      {
       "output_type": "stream",
       "stream": "stdout",
       "text": [
        "1717 "
       ]
      },
      {
       "output_type": "stream",
       "stream": "stdout",
       "text": [
        "1818 "
       ]
      },
      {
       "output_type": "stream",
       "stream": "stdout",
       "text": [
        "1854 "
       ]
      },
      {
       "output_type": "stream",
       "stream": "stdout",
       "text": [
        "1937 "
       ]
      },
      {
       "output_type": "stream",
       "stream": "stdout",
       "text": [
        "1964 "
       ]
      },
      {
       "output_type": "stream",
       "stream": "stdout",
       "text": [
        "1970 "
       ]
      },
      {
       "output_type": "stream",
       "stream": "stdout",
       "text": [
        "2066 "
       ]
      },
      {
       "output_type": "stream",
       "stream": "stdout",
       "text": [
        "1827 "
       ]
      },
      {
       "output_type": "stream",
       "stream": "stdout",
       "text": [
        "1744 "
       ]
      },
      {
       "output_type": "stream",
       "stream": "stdout",
       "text": [
        "1929 "
       ]
      },
      {
       "output_type": "stream",
       "stream": "stdout",
       "text": [
        "1943 "
       ]
      },
      {
       "output_type": "stream",
       "stream": "stdout",
       "text": [
        "1978 "
       ]
      },
      {
       "output_type": "stream",
       "stream": "stdout",
       "text": [
        "1985 "
       ]
      },
      {
       "output_type": "stream",
       "stream": "stdout",
       "text": [
        "1840 "
       ]
      },
      {
       "output_type": "stream",
       "stream": "stdout",
       "text": [
        "1942 "
       ]
      },
      {
       "output_type": "stream",
       "stream": "stdout",
       "text": [
        "2000 "
       ]
      },
      {
       "output_type": "stream",
       "stream": "stdout",
       "text": [
        "2009 "
       ]
      },
      {
       "output_type": "stream",
       "stream": "stdout",
       "text": [
        "1892 "
       ]
      },
      {
       "output_type": "stream",
       "stream": "stdout",
       "text": [
        "1741 "
       ]
      },
      {
       "output_type": "stream",
       "stream": "stdout",
       "text": [
        "1765 "
       ]
      },
      {
       "output_type": "stream",
       "stream": "stdout",
       "text": [
        "1804 "
       ]
      },
      {
       "output_type": "stream",
       "stream": "stdout",
       "text": [
        "1971 "
       ]
      },
      {
       "output_type": "stream",
       "stream": "stdout",
       "text": [
        "2019 "
       ]
      },
      {
       "output_type": "stream",
       "stream": "stdout",
       "text": [
        "2012 "
       ]
      },
      {
       "output_type": "stream",
       "stream": "stdout",
       "text": [
        "2029 "
       ]
      },
      {
       "output_type": "stream",
       "stream": "stdout",
       "text": [
        "1794 "
       ]
      },
      {
       "output_type": "stream",
       "stream": "stdout",
       "text": [
        "1924 "
       ]
      },
      {
       "output_type": "stream",
       "stream": "stdout",
       "text": [
        "1864 "
       ]
      },
      {
       "output_type": "stream",
       "stream": "stdout",
       "text": [
        "2004 "
       ]
      },
      {
       "output_type": "stream",
       "stream": "stdout",
       "text": [
        "2052 "
       ]
      },
      {
       "output_type": "stream",
       "stream": "stdout",
       "text": [
        "1722 "
       ]
      },
      {
       "output_type": "stream",
       "stream": "stdout",
       "text": [
        "1844 "
       ]
      },
      {
       "output_type": "stream",
       "stream": "stdout",
       "text": [
        "1884 "
       ]
      },
      {
       "output_type": "stream",
       "stream": "stdout",
       "text": [
        "2040 "
       ]
      },
      {
       "output_type": "stream",
       "stream": "stdout",
       "text": [
        "1743 "
       ]
      },
      {
       "output_type": "stream",
       "stream": "stdout",
       "text": [
        "1986 "
       ]
      },
      {
       "output_type": "stream",
       "stream": "stdout",
       "text": [
        "1877 "
       ]
      },
      {
       "output_type": "stream",
       "stream": "stdout",
       "text": [
        "1922 "
       ]
      },
      {
       "output_type": "stream",
       "stream": "stdout",
       "text": [
        "1706 "
       ]
      },
      {
       "output_type": "stream",
       "stream": "stdout",
       "text": [
        "1775 "
       ]
      },
      {
       "output_type": "stream",
       "stream": "stdout",
       "text": [
        "2016 "
       ]
      },
      {
       "output_type": "stream",
       "stream": "stdout",
       "text": [
        "1770 "
       ]
      },
      {
       "output_type": "stream",
       "stream": "stdout",
       "text": [
        "1973 "
       ]
      },
      {
       "output_type": "stream",
       "stream": "stdout",
       "text": [
        "1999 "
       ]
      },
      {
       "output_type": "stream",
       "stream": "stdout",
       "text": [
        "2059 "
       ]
      },
      {
       "output_type": "stream",
       "stream": "stdout",
       "text": [
        "1707 "
       ]
      },
      {
       "output_type": "stream",
       "stream": "stdout",
       "text": [
        "1909 "
       ]
      },
      {
       "output_type": "stream",
       "stream": "stdout",
       "text": [
        "2054 "
       ]
      },
      {
       "output_type": "stream",
       "stream": "stdout",
       "text": [
        "1894 "
       ]
      },
      {
       "output_type": "stream",
       "stream": "stdout",
       "text": [
        "2013 "
       ]
      },
      {
       "output_type": "stream",
       "stream": "stdout",
       "text": [
        "1808 "
       ]
      },
      {
       "output_type": "stream",
       "stream": "stdout",
       "text": [
        "1843 "
       ]
      },
      {
       "output_type": "stream",
       "stream": "stdout",
       "text": [
        "1947 "
       ]
      },
      {
       "output_type": "stream",
       "stream": "stdout",
       "text": [
        "1878 "
       ]
      },
      {
       "output_type": "stream",
       "stream": "stdout",
       "text": [
        "1727 "
       ]
      },
      {
       "output_type": "stream",
       "stream": "stdout",
       "text": [
        "1712 "
       ]
      },
      {
       "output_type": "stream",
       "stream": "stdout",
       "text": [
        "1959 "
       ]
      },
      {
       "output_type": "stream",
       "stream": "stdout",
       "text": [
        "2020 "
       ]
      },
      {
       "output_type": "stream",
       "stream": "stdout",
       "text": [
        "1957 "
       ]
      },
      {
       "output_type": "stream",
       "stream": "stdout",
       "text": [
        "1703 "
       ]
      },
      {
       "output_type": "stream",
       "stream": "stdout",
       "text": [
        "1797 "
       ]
      },
      {
       "output_type": "stream",
       "stream": "stdout",
       "text": [
        "1850 "
       ]
      },
      {
       "output_type": "stream",
       "stream": "stdout",
       "text": [
        "1763 "
       ]
      },
      {
       "output_type": "stream",
       "stream": "stdout",
       "text": [
        "2028 "
       ]
      },
      {
       "output_type": "stream",
       "stream": "stdout",
       "text": [
        "1723 "
       ]
      },
      {
       "output_type": "stream",
       "stream": "stdout",
       "text": [
        "1812 "
       ]
      },
      {
       "output_type": "stream",
       "stream": "stdout",
       "text": [
        "1828 "
       ]
      },
      {
       "output_type": "stream",
       "stream": "stdout",
       "text": [
        "1769 "
       ]
      },
      {
       "output_type": "stream",
       "stream": "stdout",
       "text": [
        "1972 "
       ]
      },
      {
       "output_type": "stream",
       "stream": "stdout",
       "text": [
        "1813 "
       ]
      },
      {
       "output_type": "stream",
       "stream": "stdout",
       "text": [
        "2015 "
       ]
      },
      {
       "output_type": "stream",
       "stream": "stdout",
       "text": [
        "1883 "
       ]
      },
      {
       "output_type": "stream",
       "stream": "stdout",
       "text": [
        "1705 "
       ]
      },
      {
       "output_type": "stream",
       "stream": "stdout",
       "text": [
        "1951 "
       ]
      },
      {
       "output_type": "stream",
       "stream": "stdout",
       "text": [
        "1718 "
       ]
      },
      {
       "output_type": "stream",
       "stream": "stdout",
       "text": [
        "1728 "
       ]
      },
      {
       "output_type": "stream",
       "stream": "stdout",
       "text": [
        "2024 "
       ]
      },
      {
       "output_type": "stream",
       "stream": "stdout",
       "text": [
        "2058 "
       ]
      },
      {
       "output_type": "stream",
       "stream": "stdout",
       "text": [
        "1839 "
       ]
      },
      {
       "output_type": "stream",
       "stream": "stdout",
       "text": [
        "1841 "
       ]
      },
      {
       "output_type": "stream",
       "stream": "stdout",
       "text": [
        "1734 "
       ]
      },
      {
       "output_type": "stream",
       "stream": "stdout",
       "text": [
        "1785 "
       ]
      },
      {
       "output_type": "stream",
       "stream": "stdout",
       "text": [
        "1940 "
       ]
      },
      {
       "output_type": "stream",
       "stream": "stdout",
       "text": [
        "2023 "
       ]
      },
      {
       "output_type": "stream",
       "stream": "stdout",
       "text": [
        "1702 "
       ]
      },
      {
       "output_type": "stream",
       "stream": "stdout",
       "text": [
        "1776 "
       ]
      },
      {
       "output_type": "stream",
       "stream": "stdout",
       "text": [
        "1936 "
       ]
      },
      {
       "output_type": "stream",
       "stream": "stdout",
       "text": [
        "2048 "
       ]
      },
      {
       "output_type": "stream",
       "stream": "stdout",
       "text": [
        "1792 "
       ]
      },
      {
       "output_type": "stream",
       "stream": "stdout",
       "text": [
        "1697 "
       ]
      },
      {
       "output_type": "stream",
       "stream": "stdout",
       "text": [
        "1761 "
       ]
      },
      {
       "output_type": "stream",
       "stream": "stdout",
       "text": [
        "1790 "
       ]
      },
      {
       "output_type": "stream",
       "stream": "stdout",
       "text": [
        "1780 "
       ]
      },
      {
       "output_type": "stream",
       "stream": "stdout",
       "text": [
        "2042 "
       ]
      },
      {
       "output_type": "stream",
       "stream": "stdout",
       "text": [
        "2030 "
       ]
      },
      {
       "output_type": "stream",
       "stream": "stdout",
       "text": [
        "1798 "
       ]
      },
      {
       "output_type": "stream",
       "stream": "stdout",
       "text": [
        "1948 "
       ]
      },
      {
       "output_type": "stream",
       "stream": "stdout",
       "text": [
        "1715 "
       ]
      },
      {
       "output_type": "stream",
       "stream": "stdout",
       "text": [
        "1867 "
       ]
      },
      {
       "output_type": "stream",
       "stream": "stdout",
       "text": [
        "2044 "
       ]
      },
      {
       "output_type": "stream",
       "stream": "stdout",
       "text": [
        "1762 "
       ]
      },
      {
       "output_type": "stream",
       "stream": "stdout",
       "text": [
        "1935 "
       ]
      },
      {
       "output_type": "stream",
       "stream": "stdout",
       "text": [
        "1856 "
       ]
      },
      {
       "output_type": "stream",
       "stream": "stdout",
       "text": [
        "1871 "
       ]
      },
      {
       "output_type": "stream",
       "stream": "stdout",
       "text": [
        "2005 "
       ]
      },
      {
       "output_type": "stream",
       "stream": "stdout",
       "text": [
        "1955 "
       ]
      },
      {
       "output_type": "stream",
       "stream": "stdout",
       "text": [
        "2063 "
       ]
      },
      {
       "output_type": "stream",
       "stream": "stdout",
       "text": [
        "1826 "
       ]
      },
      {
       "output_type": "stream",
       "stream": "stdout",
       "text": [
        "1988 "
       ]
      },
      {
       "output_type": "stream",
       "stream": "stdout",
       "text": [
        "1773 "
       ]
      },
      {
       "output_type": "stream",
       "stream": "stdout",
       "text": [
        "1870 "
       ]
      },
      {
       "output_type": "stream",
       "stream": "stdout",
       "text": [
        "1857 "
       ]
      },
      {
       "output_type": "stream",
       "stream": "stdout",
       "text": [
        "1977 "
       ]
      },
      {
       "output_type": "stream",
       "stream": "stdout",
       "text": [
        "1979 "
       ]
      },
      {
       "output_type": "stream",
       "stream": "stdout",
       "text": [
        "1803 "
       ]
      },
      {
       "output_type": "stream",
       "stream": "stdout",
       "text": [
        "1923 "
       ]
      },
      {
       "output_type": "stream",
       "stream": "stdout",
       "text": [
        "1866 "
       ]
      },
      {
       "output_type": "stream",
       "stream": "stdout",
       "text": [
        "1903 "
       ]
      },
      {
       "output_type": "stream",
       "stream": "stdout",
       "text": [
        "1963 "
       ]
      },
      {
       "output_type": "stream",
       "stream": "stdout",
       "text": [
        "1737 "
       ]
      },
      {
       "output_type": "stream",
       "stream": "stdout",
       "text": [
        "1917 "
       ]
      },
      {
       "output_type": "stream",
       "stream": "stdout",
       "text": [
        "2034 "
       ]
      },
      {
       "output_type": "stream",
       "stream": "stdout",
       "text": [
        "1921 "
       ]
      },
      {
       "output_type": "stream",
       "stream": "stdout",
       "text": [
        "1774 "
       ]
      },
      {
       "output_type": "stream",
       "stream": "stdout",
       "text": [
        "1990 "
       ]
      },
      {
       "output_type": "stream",
       "stream": "stdout",
       "text": [
        "1860 "
       ]
      },
      {
       "output_type": "stream",
       "stream": "stdout",
       "text": [
        "1914 "
       ]
      },
      {
       "output_type": "stream",
       "stream": "stdout",
       "text": [
        "1777 "
       ]
      },
      {
       "output_type": "stream",
       "stream": "stdout",
       "text": [
        "1783 "
       ]
      },
      {
       "output_type": "stream",
       "stream": "stdout",
       "text": [
        "1834 "
       ]
      },
      {
       "output_type": "stream",
       "stream": "stdout",
       "text": [
        "2037 "
       ]
      },
      {
       "output_type": "stream",
       "stream": "stdout",
       "text": [
        "1739 "
       ]
      },
      {
       "output_type": "stream",
       "stream": "stdout",
       "text": [
        "1961 "
       ]
      },
      {
       "output_type": "stream",
       "stream": "stdout",
       "text": [
        "2001 "
       ]
      },
      {
       "output_type": "stream",
       "stream": "stdout",
       "text": [
        "2047 "
       ]
      },
      {
       "output_type": "stream",
       "stream": "stdout",
       "text": [
        "1735 "
       ]
      },
      {
       "output_type": "stream",
       "stream": "stdout",
       "text": [
        "2011 "
       ]
      },
      {
       "output_type": "stream",
       "stream": "stdout",
       "text": [
        "1810 "
       ]
      },
      {
       "output_type": "stream",
       "stream": "stdout",
       "text": [
        "1832 "
       ]
      },
      {
       "output_type": "stream",
       "stream": "stdout",
       "text": [
        "1755 "
       ]
      },
      {
       "output_type": "stream",
       "stream": "stdout",
       "text": [
        "1720 "
       ]
      },
      {
       "output_type": "stream",
       "stream": "stdout",
       "text": [
        "1787 "
       ]
      },
      {
       "output_type": "stream",
       "stream": "stdout",
       "text": [
        "1939 "
       ]
      },
      {
       "output_type": "stream",
       "stream": "stdout",
       "text": [
        "2051 "
       ]
      },
      {
       "output_type": "stream",
       "stream": "stdout",
       "text": [
        "1793 "
       ]
      },
      {
       "output_type": "stream",
       "stream": "stdout",
       "text": [
        "1849 "
       ]
      },
      {
       "output_type": "stream",
       "stream": "stdout",
       "text": [
        "2045 "
       ]
      },
      {
       "output_type": "stream",
       "stream": "stdout",
       "text": [
        "1949 "
       ]
      },
      {
       "output_type": "stream",
       "stream": "stdout",
       "text": [
        "1896 "
       ]
      },
      {
       "output_type": "stream",
       "stream": "stdout",
       "text": [
        "1889 "
       ]
      },
      {
       "output_type": "stream",
       "stream": "stdout",
       "text": [
        "1916 "
       ]
      },
      {
       "output_type": "stream",
       "stream": "stdout",
       "text": [
        "1974 "
       ]
      },
      {
       "output_type": "stream",
       "stream": "stdout",
       "text": [
        "2064 "
       ]
      },
      {
       "output_type": "stream",
       "stream": "stdout",
       "text": [
        "1710 "
       ]
      },
      {
       "output_type": "stream",
       "stream": "stdout",
       "text": [
        "1772 "
       ]
      },
      {
       "output_type": "stream",
       "stream": "stdout",
       "text": [
        "1801 "
       ]
      },
      {
       "output_type": "stream",
       "stream": "stdout",
       "text": [
        "1944 "
       ]
      },
      {
       "output_type": "stream",
       "stream": "stdout",
       "text": [
        "1786 "
       ]
      },
      {
       "output_type": "stream",
       "stream": "stdout",
       "text": [
        "1861 "
       ]
      },
      {
       "output_type": "stream",
       "stream": "stdout",
       "text": [
        "1887 "
       ]
      },
      {
       "output_type": "stream",
       "stream": "stdout",
       "text": [
        "1760 "
       ]
      },
      {
       "output_type": "stream",
       "stream": "stdout",
       "text": [
        "2033 "
       ]
      },
      {
       "output_type": "stream",
       "stream": "stdout",
       "text": [
        "1778 "
       ]
      },
      {
       "output_type": "stream",
       "stream": "stdout",
       "text": [
        "1863 "
       ]
      },
      {
       "output_type": "stream",
       "stream": "stdout",
       "text": [
        "2006\n"
       ]
      }
     ],
     "prompt_number": 31
    },
    {
     "cell_type": "code",
     "collapsed": false,
     "input": [
      "def get_cm(host, token, comepnsation_id):\n",
      "    cm = rest.get_compensation(host, token, comepnsation_id)['data']['matrix_text']\n",
      "    cm = 'Foo\\n<\t>\\n' + cm\n",
      "    open('cm.txt', 'w').write(cm)\n",
      "    sidx, spill = fcm.load_compensate_matrix('cm.txt')\n",
      "    return sidx, spill"
     ],
     "language": "python",
     "metadata": {},
     "outputs": [
      {
       "output_type": "stream",
       "stream": "stdout",
       "text": [
        "\n"
       ]
      }
     ],
     "prompt_number": 35
    },
    {
     "cell_type": "code",
     "collapsed": false,
     "input": [
      "# transform and compensate data\n",
      "fs = glob.glob(os.path.join(base_dir, 'samples', '*fcs'))\n",
      "for f in fs:\n",
      "    path, filename = os.path.split(f)\n",
      "    sample_pk, ext= os.path.splitext(filename)\n",
      "    print sample_pk,\n",
      "    if os.path.exists(os.path.join(base_dir, 'samples', '%s.npy' % sample_pk)):\n",
      "        continue\n",
      "    sample = rest.get_sample(host, token, sample_pk)['data']\n",
      "    site = sample['site']\n",
      "    # if site != '034':\n",
      "    #     continue\n",
      "    site_panel_pk = sample['site_panel']\n",
      "    try:\n",
      "        compensation_pk = rest.get_compensations(host, token, site_panel_pk=site_panel_pk)['data'][0]['id']\n",
      "    except Exception, e:\n",
      "        print\n",
      "        print sample_pk, '=>', e\n",
      "        continue\n",
      "    sidx, spill = get_cm(host, token, compensation_pk)\n",
      "    try:\n",
      "        xs = fcm.loadFCS(f, sidx=sidx, spill=spill, transform='logicle')\n",
      "        np.save(os.path.join(base_dir, 'samples', '%s.npy' % sample_pk), xs)\n",
      "    except Exception, e:\n",
      "        print \n",
      "        print sample_pk,  '=>', e\n",
      "print"
     ],
     "language": "python",
     "metadata": {},
     "outputs": [
      {
       "output_type": "stream",
       "stream": "stdout",
       "text": [
        "1771 "
       ]
      },
      {
       "output_type": "stream",
       "stream": "stdout",
       "text": [
        "1711 "
       ]
      },
      {
       "output_type": "stream",
       "stream": "stdout",
       "text": [
        "1748 "
       ]
      },
      {
       "output_type": "stream",
       "stream": "stdout",
       "text": [
        "1952 "
       ]
      },
      {
       "output_type": "stream",
       "stream": "stdout",
       "text": [
        "1749 "
       ]
      },
      {
       "output_type": "stream",
       "stream": "stdout",
       "text": [
        "1720 "
       ]
      },
      {
       "output_type": "stream",
       "stream": "stdout",
       "text": [
        "1974 "
       ]
      },
      {
       "output_type": "stream",
       "stream": "stdout",
       "text": [
        "1731 "
       ]
      },
      {
       "output_type": "stream",
       "stream": "stdout",
       "text": [
        "1775 "
       ]
      },
      {
       "output_type": "stream",
       "stream": "stdout",
       "text": [
        "1951 "
       ]
      },
      {
       "output_type": "stream",
       "stream": "stdout",
       "text": [
        "1926 "
       ]
      },
      {
       "output_type": "stream",
       "stream": "stdout",
       "text": [
        "1713 "
       ]
      },
      {
       "output_type": "stream",
       "stream": "stdout",
       "text": [
        "1992 "
       ]
      },
      {
       "output_type": "stream",
       "stream": "stdout",
       "text": [
        "2033 "
       ]
      },
      {
       "output_type": "stream",
       "stream": "stdout",
       "text": [
        "2015 "
       ]
      },
      {
       "output_type": "stream",
       "stream": "stdout",
       "text": [
        "1946 "
       ]
      },
      {
       "output_type": "stream",
       "stream": "stdout",
       "text": [
        "2041 "
       ]
      },
      {
       "output_type": "stream",
       "stream": "stdout",
       "text": [
        "1941 "
       ]
      },
      {
       "output_type": "stream",
       "stream": "stdout",
       "text": [
        "1868 "
       ]
      },
      {
       "output_type": "stream",
       "stream": "stdout",
       "text": [
        "1723 "
       ]
      },
      {
       "output_type": "stream",
       "stream": "stdout",
       "text": [
        "2047 "
       ]
      },
      {
       "output_type": "stream",
       "stream": "stdout",
       "text": [
        "1878 "
       ]
      },
      {
       "output_type": "stream",
       "stream": "stdout",
       "text": [
        "1766 "
       ]
      },
      {
       "output_type": "stream",
       "stream": "stdout",
       "text": [
        "2061 "
       ]
      },
      {
       "output_type": "stream",
       "stream": "stdout",
       "text": [
        "1735 "
       ]
      },
      {
       "output_type": "stream",
       "stream": "stdout",
       "text": [
        "1712 "
       ]
      },
      {
       "output_type": "stream",
       "stream": "stdout",
       "text": [
        "1990 "
       ]
      },
      {
       "output_type": "stream",
       "stream": "stdout",
       "text": [
        "2044 "
       ]
      },
      {
       "output_type": "stream",
       "stream": "stdout",
       "text": [
        "1820 "
       ]
      },
      {
       "output_type": "stream",
       "stream": "stdout",
       "text": [
        "1977 "
       ]
      },
      {
       "output_type": "stream",
       "stream": "stdout",
       "text": [
        "1890 "
       ]
      },
      {
       "output_type": "stream",
       "stream": "stdout",
       "text": [
        "2053 "
       ]
      },
      {
       "output_type": "stream",
       "stream": "stdout",
       "text": [
        "1752 "
       ]
      },
      {
       "output_type": "stream",
       "stream": "stdout",
       "text": [
        "1774 "
       ]
      },
      {
       "output_type": "stream",
       "stream": "stdout",
       "text": [
        "2011 "
       ]
      },
      {
       "output_type": "stream",
       "stream": "stdout",
       "text": [
        "1891 "
       ]
      },
      {
       "output_type": "stream",
       "stream": "stdout",
       "text": [
        "1845 "
       ]
      },
      {
       "output_type": "stream",
       "stream": "stdout",
       "text": [
        "1846 "
       ]
      },
      {
       "output_type": "stream",
       "stream": "stdout",
       "text": [
        "2036 "
       ]
      },
      {
       "output_type": "stream",
       "stream": "stdout",
       "text": [
        "2003 "
       ]
      },
      {
       "output_type": "stream",
       "stream": "stdout",
       "text": [
        "1703 "
       ]
      },
      {
       "output_type": "stream",
       "stream": "stdout",
       "text": [
        "1701 "
       ]
      },
      {
       "output_type": "stream",
       "stream": "stdout",
       "text": [
        "1915 "
       ]
      },
      {
       "output_type": "stream",
       "stream": "stdout",
       "text": [
        "2031 "
       ]
      },
      {
       "output_type": "stream",
       "stream": "stdout",
       "text": [
        "1876 "
       ]
      },
      {
       "output_type": "stream",
       "stream": "stdout",
       "text": [
        "2034 "
       ]
      },
      {
       "output_type": "stream",
       "stream": "stdout",
       "text": [
        "1755 "
       ]
      },
      {
       "output_type": "stream",
       "stream": "stdout",
       "text": [
        "1758 "
       ]
      },
      {
       "output_type": "stream",
       "stream": "stdout",
       "text": [
        "2063 "
       ]
      },
      {
       "output_type": "stream",
       "stream": "stdout",
       "text": [
        "1828 "
       ]
      },
      {
       "output_type": "stream",
       "stream": "stdout",
       "text": [
        "1855 "
       ]
      },
      {
       "output_type": "stream",
       "stream": "stdout",
       "text": [
        "2039 "
       ]
      },
      {
       "output_type": "stream",
       "stream": "stdout",
       "text": [
        "2013 "
       ]
      },
      {
       "output_type": "stream",
       "stream": "stdout",
       "text": [
        "1843 "
       ]
      },
      {
       "output_type": "stream",
       "stream": "stdout",
       "text": [
        "1768 "
       ]
      },
      {
       "output_type": "stream",
       "stream": "stdout",
       "text": [
        "1957 "
       ]
      },
      {
       "output_type": "stream",
       "stream": "stdout",
       "text": [
        "2026 "
       ]
      },
      {
       "output_type": "stream",
       "stream": "stdout",
       "text": [
        "1897 "
       ]
      },
      {
       "output_type": "stream",
       "stream": "stdout",
       "text": [
        "1742 "
       ]
      },
      {
       "output_type": "stream",
       "stream": "stdout",
       "text": [
        "2006 "
       ]
      },
      {
       "output_type": "stream",
       "stream": "stdout",
       "text": [
        "1718 "
       ]
      },
      {
       "output_type": "stream",
       "stream": "stdout",
       "text": [
        "1824 "
       ]
      },
      {
       "output_type": "stream",
       "stream": "stdout",
       "text": [
        "1894 "
       ]
      },
      {
       "output_type": "stream",
       "stream": "stdout",
       "text": [
        "1900 "
       ]
      },
      {
       "output_type": "stream",
       "stream": "stdout",
       "text": [
        "1881 "
       ]
      },
      {
       "output_type": "stream",
       "stream": "stdout",
       "text": [
        "1782 "
       ]
      },
      {
       "output_type": "stream",
       "stream": "stdout",
       "text": [
        "1874 "
       ]
      },
      {
       "output_type": "stream",
       "stream": "stdout",
       "text": [
        "1971 "
       ]
      },
      {
       "output_type": "stream",
       "stream": "stdout",
       "text": [
        "1841 "
       ]
      },
      {
       "output_type": "stream",
       "stream": "stdout",
       "text": [
        "1760 "
       ]
      },
      {
       "output_type": "stream",
       "stream": "stdout",
       "text": [
        "1898 "
       ]
      },
      {
       "output_type": "stream",
       "stream": "stdout",
       "text": [
        "1908 "
       ]
      },
      {
       "output_type": "stream",
       "stream": "stdout",
       "text": [
        "1961 "
       ]
      },
      {
       "output_type": "stream",
       "stream": "stdout",
       "text": [
        "2009 "
       ]
      },
      {
       "output_type": "stream",
       "stream": "stdout",
       "text": [
        "1776 "
       ]
      },
      {
       "output_type": "stream",
       "stream": "stdout",
       "text": [
        "1902 "
       ]
      },
      {
       "output_type": "stream",
       "stream": "stdout",
       "text": [
        "1761 "
       ]
      },
      {
       "output_type": "stream",
       "stream": "stdout",
       "text": [
        "1865 "
       ]
      },
      {
       "output_type": "stream",
       "stream": "stdout",
       "text": [
        "1959 "
       ]
      },
      {
       "output_type": "stream",
       "stream": "stdout",
       "text": [
        "1861 "
       ]
      },
      {
       "output_type": "stream",
       "stream": "stdout",
       "text": [
        "1927 "
       ]
      },
      {
       "output_type": "stream",
       "stream": "stdout",
       "text": [
        "1784 "
       ]
      },
      {
       "output_type": "stream",
       "stream": "stdout",
       "text": [
        "1763 "
       ]
      },
      {
       "output_type": "stream",
       "stream": "stdout",
       "text": [
        "1879 "
       ]
      },
      {
       "output_type": "stream",
       "stream": "stdout",
       "text": [
        "1962 "
       ]
      },
      {
       "output_type": "stream",
       "stream": "stdout",
       "text": [
        "1934 "
       ]
      },
      {
       "output_type": "stream",
       "stream": "stdout",
       "text": [
        "2014 "
       ]
      },
      {
       "output_type": "stream",
       "stream": "stdout",
       "text": [
        "1943 "
       ]
      },
      {
       "output_type": "stream",
       "stream": "stdout",
       "text": [
        "1920 "
       ]
      },
      {
       "output_type": "stream",
       "stream": "stdout",
       "text": [
        "1738 "
       ]
      },
      {
       "output_type": "stream",
       "stream": "stdout",
       "text": [
        "1930 "
       ]
      },
      {
       "output_type": "stream",
       "stream": "stdout",
       "text": [
        "1862 "
       ]
      },
      {
       "output_type": "stream",
       "stream": "stdout",
       "text": [
        "1707 "
       ]
      },
      {
       "output_type": "stream",
       "stream": "stdout",
       "text": [
        "1830 "
       ]
      },
      {
       "output_type": "stream",
       "stream": "stdout",
       "text": [
        "1872 "
       ]
      },
      {
       "output_type": "stream",
       "stream": "stdout",
       "text": [
        "1714 "
       ]
      },
      {
       "output_type": "stream",
       "stream": "stdout",
       "text": [
        "1751 "
       ]
      },
      {
       "output_type": "stream",
       "stream": "stdout",
       "text": [
        "1914 "
       ]
      },
      {
       "output_type": "stream",
       "stream": "stdout",
       "text": [
        "1981 "
       ]
      },
      {
       "output_type": "stream",
       "stream": "stdout",
       "text": [
        "1859 "
       ]
      },
      {
       "output_type": "stream",
       "stream": "stdout",
       "text": [
        "1895 "
       ]
      },
      {
       "output_type": "stream",
       "stream": "stdout",
       "text": [
        "1958 "
       ]
      },
      {
       "output_type": "stream",
       "stream": "stdout",
       "text": [
        "1813 "
       ]
      },
      {
       "output_type": "stream",
       "stream": "stdout",
       "text": [
        "1724 "
       ]
      },
      {
       "output_type": "stream",
       "stream": "stdout",
       "text": [
        "1919 "
       ]
      },
      {
       "output_type": "stream",
       "stream": "stdout",
       "text": [
        "1818 "
       ]
      },
      {
       "output_type": "stream",
       "stream": "stdout",
       "text": [
        "1816 "
       ]
      },
      {
       "output_type": "stream",
       "stream": "stdout",
       "text": [
        "1808 "
       ]
      },
      {
       "output_type": "stream",
       "stream": "stdout",
       "text": [
        "1863 "
       ]
      },
      {
       "output_type": "stream",
       "stream": "stdout",
       "text": [
        "1769 "
       ]
      },
      {
       "output_type": "stream",
       "stream": "stdout",
       "text": [
        "1954 "
       ]
      },
      {
       "output_type": "stream",
       "stream": "stdout",
       "text": [
        "1860 "
       ]
      },
      {
       "output_type": "stream",
       "stream": "stdout",
       "text": [
        "2059 "
       ]
      },
      {
       "output_type": "stream",
       "stream": "stdout",
       "text": [
        "1770 "
       ]
      },
      {
       "output_type": "stream",
       "stream": "stdout",
       "text": [
        "1948 "
       ]
      },
      {
       "output_type": "stream",
       "stream": "stdout",
       "text": [
        "1945 "
       ]
      },
      {
       "output_type": "stream",
       "stream": "stdout",
       "text": [
        "1849 "
       ]
      },
      {
       "output_type": "stream",
       "stream": "stdout",
       "text": [
        "1937 "
       ]
      },
      {
       "output_type": "stream",
       "stream": "stdout",
       "text": [
        "2037 "
       ]
      },
      {
       "output_type": "stream",
       "stream": "stdout",
       "text": [
        "2067 "
       ]
      },
      {
       "output_type": "stream",
       "stream": "stdout",
       "text": [
        "1877 "
       ]
      },
      {
       "output_type": "stream",
       "stream": "stdout",
       "text": [
        "1777 "
       ]
      },
      {
       "output_type": "stream",
       "stream": "stdout",
       "text": [
        "2060 "
       ]
      },
      {
       "output_type": "stream",
       "stream": "stdout",
       "text": [
        "1835 "
       ]
      },
      {
       "output_type": "stream",
       "stream": "stdout",
       "text": [
        "1783 "
       ]
      },
      {
       "output_type": "stream",
       "stream": "stdout",
       "text": [
        "1778 "
       ]
      },
      {
       "output_type": "stream",
       "stream": "stdout",
       "text": [
        "2000 "
       ]
      },
      {
       "output_type": "stream",
       "stream": "stdout",
       "text": [
        "1773 "
       ]
      },
      {
       "output_type": "stream",
       "stream": "stdout",
       "text": [
        "1906 "
       ]
      },
      {
       "output_type": "stream",
       "stream": "stdout",
       "text": [
        "1985 "
       ]
      },
      {
       "output_type": "stream",
       "stream": "stdout",
       "text": [
        "1975 "
       ]
      },
      {
       "output_type": "stream",
       "stream": "stdout",
       "text": [
        "2012 "
       ]
      },
      {
       "output_type": "stream",
       "stream": "stdout",
       "text": [
        "1916 "
       ]
      },
      {
       "output_type": "stream",
       "stream": "stdout",
       "text": [
        "1848 "
       ]
      },
      {
       "output_type": "stream",
       "stream": "stdout",
       "text": [
        "1947 "
       ]
      },
      {
       "output_type": "stream",
       "stream": "stdout",
       "text": [
        "1942 "
       ]
      },
      {
       "output_type": "stream",
       "stream": "stdout",
       "text": [
        "1730 "
       ]
      },
      {
       "output_type": "stream",
       "stream": "stdout",
       "text": [
        "1733 "
       ]
      },
      {
       "output_type": "stream",
       "stream": "stdout",
       "text": [
        "1787 "
       ]
      },
      {
       "output_type": "stream",
       "stream": "stdout",
       "text": [
        "1721 "
       ]
      },
      {
       "output_type": "stream",
       "stream": "stdout",
       "text": [
        "1740 "
       ]
      },
      {
       "output_type": "stream",
       "stream": "stdout",
       "text": [
        "1737 "
       ]
      },
      {
       "output_type": "stream",
       "stream": "stdout",
       "text": [
        "2055 "
       ]
      },
      {
       "output_type": "stream",
       "stream": "stdout",
       "text": [
        "1969 "
       ]
      },
      {
       "output_type": "stream",
       "stream": "stdout",
       "text": [
        "1798 "
       ]
      },
      {
       "output_type": "stream",
       "stream": "stdout",
       "text": [
        "1803 "
       ]
      },
      {
       "output_type": "stream",
       "stream": "stdout",
       "text": [
        "1918 "
       ]
      },
      {
       "output_type": "stream",
       "stream": "stdout",
       "text": [
        "1715 "
       ]
      },
      {
       "output_type": "stream",
       "stream": "stdout",
       "text": [
        "1936 "
       ]
      },
      {
       "output_type": "stream",
       "stream": "stdout",
       "text": [
        "1815 "
       ]
      },
      {
       "output_type": "stream",
       "stream": "stdout",
       "text": [
        "1767 "
       ]
      },
      {
       "output_type": "stream",
       "stream": "stdout",
       "text": [
        "1886 "
       ]
      },
      {
       "output_type": "stream",
       "stream": "stdout",
       "text": [
        "1871 "
       ]
      },
      {
       "output_type": "stream",
       "stream": "stdout",
       "text": [
        "1725 "
       ]
      },
      {
       "output_type": "stream",
       "stream": "stdout",
       "text": [
        "1873 "
       ]
      },
      {
       "output_type": "stream",
       "stream": "stdout",
       "text": [
        "1905 "
       ]
      },
      {
       "output_type": "stream",
       "stream": "stdout",
       "text": [
        "1864 "
       ]
      },
      {
       "output_type": "stream",
       "stream": "stdout",
       "text": [
        "2050 "
       ]
      },
      {
       "output_type": "stream",
       "stream": "stdout",
       "text": [
        "1964 "
       ]
      },
      {
       "output_type": "stream",
       "stream": "stdout",
       "text": [
        "1901 "
       ]
      },
      {
       "output_type": "stream",
       "stream": "stdout",
       "text": [
        "2064 "
       ]
      },
      {
       "output_type": "stream",
       "stream": "stdout",
       "text": [
        "1788 "
       ]
      },
      {
       "output_type": "stream",
       "stream": "stdout",
       "text": [
        "1979 "
       ]
      },
      {
       "output_type": "stream",
       "stream": "stdout",
       "text": [
        "1839 "
       ]
      },
      {
       "output_type": "stream",
       "stream": "stdout",
       "text": [
        "2068 "
       ]
      },
      {
       "output_type": "stream",
       "stream": "stdout",
       "text": [
        "1805 "
       ]
      },
      {
       "output_type": "stream",
       "stream": "stdout",
       "text": [
        "2066 "
       ]
      },
      {
       "output_type": "stream",
       "stream": "stdout",
       "text": [
        "1976 "
       ]
      },
      {
       "output_type": "stream",
       "stream": "stdout",
       "text": [
        "1844 "
       ]
      },
      {
       "output_type": "stream",
       "stream": "stdout",
       "text": [
        "1779 "
       ]
      },
      {
       "output_type": "stream",
       "stream": "stdout",
       "text": [
        "1852 "
       ]
      },
      {
       "output_type": "stream",
       "stream": "stdout",
       "text": [
        "1702 "
       ]
      },
      {
       "output_type": "stream",
       "stream": "stdout",
       "text": [
        "1950 "
       ]
      },
      {
       "output_type": "stream",
       "stream": "stdout",
       "text": [
        "1965 "
       ]
      },
      {
       "output_type": "stream",
       "stream": "stdout",
       "text": [
        "1834 "
       ]
      },
      {
       "output_type": "stream",
       "stream": "stdout",
       "text": [
        "1925 "
       ]
      },
      {
       "output_type": "stream",
       "stream": "stdout",
       "text": [
        "1772 "
       ]
      },
      {
       "output_type": "stream",
       "stream": "stdout",
       "text": [
        "1911 "
       ]
      },
      {
       "output_type": "stream",
       "stream": "stdout",
       "text": [
        "1991 "
       ]
      },
      {
       "output_type": "stream",
       "stream": "stdout",
       "text": [
        "1780 "
       ]
      },
      {
       "output_type": "stream",
       "stream": "stdout",
       "text": [
        "1856 "
       ]
      },
      {
       "output_type": "stream",
       "stream": "stdout",
       "text": [
        "1899 "
       ]
      },
      {
       "output_type": "stream",
       "stream": "stdout",
       "text": [
        "1697 "
       ]
      },
      {
       "output_type": "stream",
       "stream": "stdout",
       "text": [
        "1953 "
       ]
      },
      {
       "output_type": "stream",
       "stream": "stdout",
       "text": [
        "1789 "
       ]
      },
      {
       "output_type": "stream",
       "stream": "stdout",
       "text": [
        "2016 "
       ]
      },
      {
       "output_type": "stream",
       "stream": "stdout",
       "text": [
        "1821 "
       ]
      },
      {
       "output_type": "stream",
       "stream": "stdout",
       "text": [
        "2071 "
       ]
      },
      {
       "output_type": "stream",
       "stream": "stdout",
       "text": [
        "2028 "
       ]
      },
      {
       "output_type": "stream",
       "stream": "stdout",
       "text": [
        "1980 "
       ]
      },
      {
       "output_type": "stream",
       "stream": "stdout",
       "text": [
        "1795 "
       ]
      },
      {
       "output_type": "stream",
       "stream": "stdout",
       "text": [
        "1940 "
       ]
      },
      {
       "output_type": "stream",
       "stream": "stdout",
       "text": [
        "1796 "
       ]
      },
      {
       "output_type": "stream",
       "stream": "stdout",
       "text": [
        "1972 "
       ]
      },
      {
       "output_type": "stream",
       "stream": "stdout",
       "text": [
        "1722 "
       ]
      },
      {
       "output_type": "stream",
       "stream": "stdout",
       "text": [
        "1923 "
       ]
      },
      {
       "output_type": "stream",
       "stream": "stdout",
       "text": [
        "2072 "
       ]
      },
      {
       "output_type": "stream",
       "stream": "stdout",
       "text": [
        "1726 "
       ]
      },
      {
       "output_type": "stream",
       "stream": "stdout",
       "text": [
        "1866 "
       ]
      },
      {
       "output_type": "stream",
       "stream": "stdout",
       "text": [
        "2062 "
       ]
      },
      {
       "output_type": "stream",
       "stream": "stdout",
       "text": [
        "1785 "
       ]
      },
      {
       "output_type": "stream",
       "stream": "stdout",
       "text": [
        "1983 "
       ]
      },
      {
       "output_type": "stream",
       "stream": "stdout",
       "text": [
        "1822 "
       ]
      },
      {
       "output_type": "stream",
       "stream": "stdout",
       "text": [
        "1792 "
       ]
      },
      {
       "output_type": "stream",
       "stream": "stdout",
       "text": [
        "1880 "
       ]
      },
      {
       "output_type": "stream",
       "stream": "stdout",
       "text": [
        "1799 "
       ]
      },
      {
       "output_type": "stream",
       "stream": "stdout",
       "text": [
        "1931 "
       ]
      },
      {
       "output_type": "stream",
       "stream": "stdout",
       "text": [
        "1736 "
       ]
      },
      {
       "output_type": "stream",
       "stream": "stdout",
       "text": [
        "1989 "
       ]
      },
      {
       "output_type": "stream",
       "stream": "stdout",
       "text": [
        "1806 "
       ]
      },
      {
       "output_type": "stream",
       "stream": "stdout",
       "text": [
        "1747 "
       ]
      },
      {
       "output_type": "stream",
       "stream": "stdout",
       "text": [
        "1750 "
       ]
      },
      {
       "output_type": "stream",
       "stream": "stdout",
       "text": [
        "1995 "
       ]
      },
      {
       "output_type": "stream",
       "stream": "stdout",
       "text": [
        "1932 "
       ]
      },
      {
       "output_type": "stream",
       "stream": "stdout",
       "text": [
        "2002 "
       ]
      },
      {
       "output_type": "stream",
       "stream": "stdout",
       "text": [
        "2056 "
       ]
      },
      {
       "output_type": "stream",
       "stream": "stdout",
       "text": [
        "1826 "
       ]
      },
      {
       "output_type": "stream",
       "stream": "stdout",
       "text": [
        "2070 "
       ]
      },
      {
       "output_type": "stream",
       "stream": "stdout",
       "text": [
        "1704 "
       ]
      },
      {
       "output_type": "stream",
       "stream": "stdout",
       "text": [
        "1800 "
       ]
      },
      {
       "output_type": "stream",
       "stream": "stdout",
       "text": [
        "1924 "
       ]
      },
      {
       "output_type": "stream",
       "stream": "stdout",
       "text": [
        "2004 "
       ]
      },
      {
       "output_type": "stream",
       "stream": "stdout",
       "text": [
        "2035 "
       ]
      },
      {
       "output_type": "stream",
       "stream": "stdout",
       "text": [
        "1904 "
       ]
      },
      {
       "output_type": "stream",
       "stream": "stdout",
       "text": [
        "1794 "
       ]
      },
      {
       "output_type": "stream",
       "stream": "stdout",
       "text": [
        "1836 "
       ]
      },
      {
       "output_type": "stream",
       "stream": "stdout",
       "text": [
        "1719 "
       ]
      },
      {
       "output_type": "stream",
       "stream": "stdout",
       "text": [
        "2069 "
       ]
      },
      {
       "output_type": "stream",
       "stream": "stdout",
       "text": [
        "1998 "
       ]
      },
      {
       "output_type": "stream",
       "stream": "stdout",
       "text": [
        "1781 "
       ]
      },
      {
       "output_type": "stream",
       "stream": "stdout",
       "text": [
        "1867 "
       ]
      },
      {
       "output_type": "stream",
       "stream": "stdout",
       "text": [
        "1717 "
       ]
      },
      {
       "output_type": "stream",
       "stream": "stdout",
       "text": [
        "1939 "
       ]
      },
      {
       "output_type": "stream",
       "stream": "stdout",
       "text": [
        "1831 "
       ]
      },
      {
       "output_type": "stream",
       "stream": "stdout",
       "text": [
        "2046 "
       ]
      },
      {
       "output_type": "stream",
       "stream": "stdout",
       "text": [
        "1699 "
       ]
      },
      {
       "output_type": "stream",
       "stream": "stdout",
       "text": [
        "1838 "
       ]
      },
      {
       "output_type": "stream",
       "stream": "stdout",
       "text": [
        "1968 "
       ]
      },
      {
       "output_type": "stream",
       "stream": "stdout",
       "text": [
        "1987 "
       ]
      },
      {
       "output_type": "stream",
       "stream": "stdout",
       "text": [
        "2051 "
       ]
      },
      {
       "output_type": "stream",
       "stream": "stdout",
       "text": [
        "1978 "
       ]
      },
      {
       "output_type": "stream",
       "stream": "stdout",
       "text": [
        "2054 "
       ]
      },
      {
       "output_type": "stream",
       "stream": "stdout",
       "text": [
        "1832 "
       ]
      },
      {
       "output_type": "stream",
       "stream": "stdout",
       "text": [
        "1793 "
       ]
      },
      {
       "output_type": "stream",
       "stream": "stdout",
       "text": [
        "1885 "
       ]
      },
      {
       "output_type": "stream",
       "stream": "stdout",
       "text": [
        "1744 "
       ]
      },
      {
       "output_type": "stream",
       "stream": "stdout",
       "text": [
        "1870 "
       ]
      },
      {
       "output_type": "stream",
       "stream": "stdout",
       "text": [
        "1887 "
       ]
      },
      {
       "output_type": "stream",
       "stream": "stdout",
       "text": [
        "1956 "
       ]
      },
      {
       "output_type": "stream",
       "stream": "stdout",
       "text": [
        "2007 "
       ]
      },
      {
       "output_type": "stream",
       "stream": "stdout",
       "text": [
        "1710 "
       ]
      },
      {
       "output_type": "stream",
       "stream": "stdout",
       "text": [
        "1917 "
       ]
      },
      {
       "output_type": "stream",
       "stream": "stdout",
       "text": [
        "1883 "
       ]
      },
      {
       "output_type": "stream",
       "stream": "stdout",
       "text": [
        "1754 "
       ]
      },
      {
       "output_type": "stream",
       "stream": "stdout",
       "text": [
        "1802 "
       ]
      },
      {
       "output_type": "stream",
       "stream": "stdout",
       "text": [
        "2049 "
       ]
      },
      {
       "output_type": "stream",
       "stream": "stdout",
       "text": [
        "2058 "
       ]
      },
      {
       "output_type": "stream",
       "stream": "stdout",
       "text": [
        "1938 "
       ]
      },
      {
       "output_type": "stream",
       "stream": "stdout",
       "text": [
        "1807 "
       ]
      },
      {
       "output_type": "stream",
       "stream": "stdout",
       "text": [
        "1764 "
       ]
      },
      {
       "output_type": "stream",
       "stream": "stdout",
       "text": [
        "1698 "
       ]
      },
      {
       "output_type": "stream",
       "stream": "stdout",
       "text": [
        "2038 "
       ]
      },
      {
       "output_type": "stream",
       "stream": "stdout",
       "text": [
        "1913 "
       ]
      },
      {
       "output_type": "stream",
       "stream": "stdout",
       "text": [
        "1817 "
       ]
      },
      {
       "output_type": "stream",
       "stream": "stdout",
       "text": [
        "1705 "
       ]
      },
      {
       "output_type": "stream",
       "stream": "stdout",
       "text": [
        "1949 "
       ]
      },
      {
       "output_type": "stream",
       "stream": "stdout",
       "text": [
        "1809 "
       ]
      },
      {
       "output_type": "stream",
       "stream": "stdout",
       "text": [
        "2023 "
       ]
      },
      {
       "output_type": "stream",
       "stream": "stdout",
       "text": [
        "1695 "
       ]
      },
      {
       "output_type": "stream",
       "stream": "stdout",
       "text": [
        "1812 "
       ]
      },
      {
       "output_type": "stream",
       "stream": "stdout",
       "text": [
        "1896 "
       ]
      },
      {
       "output_type": "stream",
       "stream": "stdout",
       "text": [
        "1912 "
       ]
      },
      {
       "output_type": "stream",
       "stream": "stdout",
       "text": [
        "1986 "
       ]
      },
      {
       "output_type": "stream",
       "stream": "stdout",
       "text": [
        "1875 "
       ]
      },
      {
       "output_type": "stream",
       "stream": "stdout",
       "text": [
        "1893 "
       ]
      },
      {
       "output_type": "stream",
       "stream": "stdout",
       "text": [
        "2040 "
       ]
      },
      {
       "output_type": "stream",
       "stream": "stdout",
       "text": [
        "1825 "
       ]
      },
      {
       "output_type": "stream",
       "stream": "stdout",
       "text": [
        "1708 "
       ]
      },
      {
       "output_type": "stream",
       "stream": "stdout",
       "text": [
        "1727 "
       ]
      },
      {
       "output_type": "stream",
       "stream": "stdout",
       "text": [
        "1791 "
       ]
      },
      {
       "output_type": "stream",
       "stream": "stdout",
       "text": [
        "1851 "
       ]
      },
      {
       "output_type": "stream",
       "stream": "stdout",
       "text": [
        "1928 "
       ]
      },
      {
       "output_type": "stream",
       "stream": "stdout",
       "text": [
        "1786 "
       ]
      },
      {
       "output_type": "stream",
       "stream": "stdout",
       "text": [
        "1790 "
       ]
      },
      {
       "output_type": "stream",
       "stream": "stdout",
       "text": [
        "1921 "
       ]
      },
      {
       "output_type": "stream",
       "stream": "stdout",
       "text": [
        "1746 "
       ]
      },
      {
       "output_type": "stream",
       "stream": "stdout",
       "text": [
        "1933 "
       ]
      },
      {
       "output_type": "stream",
       "stream": "stdout",
       "text": [
        "1759 "
       ]
      },
      {
       "output_type": "stream",
       "stream": "stdout",
       "text": [
        "1903 "
       ]
      },
      {
       "output_type": "stream",
       "stream": "stdout",
       "text": [
        "2065 "
       ]
      },
      {
       "output_type": "stream",
       "stream": "stdout",
       "text": [
        "1716 "
       ]
      },
      {
       "output_type": "stream",
       "stream": "stdout",
       "text": [
        "2017 "
       ]
      },
      {
       "output_type": "stream",
       "stream": "stdout",
       "text": [
        "1743 "
       ]
      },
      {
       "output_type": "stream",
       "stream": "stdout",
       "text": [
        "1700 "
       ]
      },
      {
       "output_type": "stream",
       "stream": "stdout",
       "text": [
        "1753 "
       ]
      },
      {
       "output_type": "stream",
       "stream": "stdout",
       "text": [
        "1814 "
       ]
      },
      {
       "output_type": "stream",
       "stream": "stdout",
       "text": [
        "1892 "
       ]
      },
      {
       "output_type": "stream",
       "stream": "stdout",
       "text": [
        "1955 "
       ]
      },
      {
       "output_type": "stream",
       "stream": "stdout",
       "text": [
        "1854 "
       ]
      },
      {
       "output_type": "stream",
       "stream": "stdout",
       "text": [
        "1970 "
       ]
      },
      {
       "output_type": "stream",
       "stream": "stdout",
       "text": [
        "2045 "
       ]
      },
      {
       "output_type": "stream",
       "stream": "stdout",
       "text": [
        "1840 "
       ]
      },
      {
       "output_type": "stream",
       "stream": "stdout",
       "text": [
        "1819 "
       ]
      },
      {
       "output_type": "stream",
       "stream": "stdout",
       "text": [
        "1967 "
       ]
      },
      {
       "output_type": "stream",
       "stream": "stdout",
       "text": [
        "1884 "
       ]
      },
      {
       "output_type": "stream",
       "stream": "stdout",
       "text": [
        "1994 "
       ]
      },
      {
       "output_type": "stream",
       "stream": "stdout",
       "text": [
        "1888 "
       ]
      },
      {
       "output_type": "stream",
       "stream": "stdout",
       "text": [
        "1993 "
       ]
      },
      {
       "output_type": "stream",
       "stream": "stdout",
       "text": [
        "1910 "
       ]
      },
      {
       "output_type": "stream",
       "stream": "stdout",
       "text": [
        "2048 "
       ]
      },
      {
       "output_type": "stream",
       "stream": "stdout",
       "text": [
        "1833 "
       ]
      },
      {
       "output_type": "stream",
       "stream": "stdout",
       "text": [
        "1858 "
       ]
      },
      {
       "output_type": "stream",
       "stream": "stdout",
       "text": [
        "1823 "
       ]
      },
      {
       "output_type": "stream",
       "stream": "stdout",
       "text": [
        "2057 "
       ]
      },
      {
       "output_type": "stream",
       "stream": "stdout",
       "text": [
        "1984 "
       ]
      },
      {
       "output_type": "stream",
       "stream": "stdout",
       "text": [
        "1935 "
       ]
      },
      {
       "output_type": "stream",
       "stream": "stdout",
       "text": [
        "1869 "
       ]
      },
      {
       "output_type": "stream",
       "stream": "stdout",
       "text": [
        "2008 "
       ]
      },
      {
       "output_type": "stream",
       "stream": "stdout",
       "text": [
        "1811 "
       ]
      },
      {
       "output_type": "stream",
       "stream": "stdout",
       "text": [
        "1973 "
       ]
      },
      {
       "output_type": "stream",
       "stream": "stdout",
       "text": [
        "2019 "
       ]
      },
      {
       "output_type": "stream",
       "stream": "stdout",
       "text": [
        "2010 "
       ]
      },
      {
       "output_type": "stream",
       "stream": "stdout",
       "text": [
        "2005 "
       ]
      },
      {
       "output_type": "stream",
       "stream": "stdout",
       "text": [
        "2024 "
       ]
      },
      {
       "output_type": "stream",
       "stream": "stdout",
       "text": [
        "1696 "
       ]
      },
      {
       "output_type": "stream",
       "stream": "stdout",
       "text": [
        "1966 "
       ]
      },
      {
       "output_type": "stream",
       "stream": "stdout",
       "text": [
        "1810 "
       ]
      },
      {
       "output_type": "stream",
       "stream": "stdout",
       "text": [
        "2032 "
       ]
      },
      {
       "output_type": "stream",
       "stream": "stdout",
       "text": [
        "2052 "
       ]
      },
      {
       "output_type": "stream",
       "stream": "stdout",
       "text": [
        "1741 "
       ]
      },
      {
       "output_type": "stream",
       "stream": "stdout",
       "text": [
        "1756 "
       ]
      },
      {
       "output_type": "stream",
       "stream": "stdout",
       "text": [
        "1732 "
       ]
      },
      {
       "output_type": "stream",
       "stream": "stdout",
       "text": [
        "2030 "
       ]
      },
      {
       "output_type": "stream",
       "stream": "stdout",
       "text": [
        "1929 "
       ]
      },
      {
       "output_type": "stream",
       "stream": "stdout",
       "text": [
        "2029 "
       ]
      },
      {
       "output_type": "stream",
       "stream": "stdout",
       "text": [
        "1829 "
       ]
      },
      {
       "output_type": "stream",
       "stream": "stdout",
       "text": [
        "1999 "
       ]
      },
      {
       "output_type": "stream",
       "stream": "stdout",
       "text": [
        "2025 "
       ]
      },
      {
       "output_type": "stream",
       "stream": "stdout",
       "text": [
        "1739 "
       ]
      },
      {
       "output_type": "stream",
       "stream": "stdout",
       "text": [
        "1837 "
       ]
      },
      {
       "output_type": "stream",
       "stream": "stdout",
       "text": [
        "1963 "
       ]
      },
      {
       "output_type": "stream",
       "stream": "stdout",
       "text": [
        "1762 "
       ]
      },
      {
       "output_type": "stream",
       "stream": "stdout",
       "text": [
        "1765 "
       ]
      },
      {
       "output_type": "stream",
       "stream": "stdout",
       "text": [
        "2042 "
       ]
      },
      {
       "output_type": "stream",
       "stream": "stdout",
       "text": [
        "1988 "
       ]
      },
      {
       "output_type": "stream",
       "stream": "stdout",
       "text": [
        "1996 "
       ]
      },
      {
       "output_type": "stream",
       "stream": "stdout",
       "text": [
        "1907 "
       ]
      },
      {
       "output_type": "stream",
       "stream": "stdout",
       "text": [
        "1706 "
       ]
      },
      {
       "output_type": "stream",
       "stream": "stdout",
       "text": [
        "1922 "
       ]
      },
      {
       "output_type": "stream",
       "stream": "stdout",
       "text": [
        "2027 "
       ]
      },
      {
       "output_type": "stream",
       "stream": "stdout",
       "text": [
        "1709 "
       ]
      },
      {
       "output_type": "stream",
       "stream": "stdout",
       "text": [
        "1729 "
       ]
      },
      {
       "output_type": "stream",
       "stream": "stdout",
       "text": [
        "1909 "
       ]
      },
      {
       "output_type": "stream",
       "stream": "stdout",
       "text": [
        "2020 "
       ]
      },
      {
       "output_type": "stream",
       "stream": "stdout",
       "text": [
        "1889 "
       ]
      },
      {
       "output_type": "stream",
       "stream": "stdout",
       "text": [
        "1804 "
       ]
      },
      {
       "output_type": "stream",
       "stream": "stdout",
       "text": [
        "1801 "
       ]
      },
      {
       "output_type": "stream",
       "stream": "stdout",
       "text": [
        "1842 "
       ]
      },
      {
       "output_type": "stream",
       "stream": "stdout",
       "text": [
        "1857 "
       ]
      },
      {
       "output_type": "stream",
       "stream": "stdout",
       "text": [
        "1853 "
       ]
      },
      {
       "output_type": "stream",
       "stream": "stdout",
       "text": [
        "1944 "
       ]
      },
      {
       "output_type": "stream",
       "stream": "stdout",
       "text": [
        "1982 "
       ]
      },
      {
       "output_type": "stream",
       "stream": "stdout",
       "text": [
        "1997 "
       ]
      },
      {
       "output_type": "stream",
       "stream": "stdout",
       "text": [
        "2021 "
       ]
      },
      {
       "output_type": "stream",
       "stream": "stdout",
       "text": [
        "1728 "
       ]
      },
      {
       "output_type": "stream",
       "stream": "stdout",
       "text": [
        "1734 "
       ]
      },
      {
       "output_type": "stream",
       "stream": "stdout",
       "text": [
        "1757 "
       ]
      },
      {
       "output_type": "stream",
       "stream": "stdout",
       "text": [
        "1960 "
       ]
      },
      {
       "output_type": "stream",
       "stream": "stdout",
       "text": [
        "1827 "
       ]
      },
      {
       "output_type": "stream",
       "stream": "stdout",
       "text": [
        "2001 "
       ]
      },
      {
       "output_type": "stream",
       "stream": "stdout",
       "text": [
        "1850 "
       ]
      },
      {
       "output_type": "stream",
       "stream": "stdout",
       "text": [
        "2043 "
       ]
      },
      {
       "output_type": "stream",
       "stream": "stdout",
       "text": [
        "2022 "
       ]
      },
      {
       "output_type": "stream",
       "stream": "stdout",
       "text": [
        "1882 "
       ]
      },
      {
       "output_type": "stream",
       "stream": "stdout",
       "text": [
        "2018 "
       ]
      },
      {
       "output_type": "stream",
       "stream": "stdout",
       "text": [
        "1745 "
       ]
      },
      {
       "output_type": "stream",
       "stream": "stdout",
       "text": [
        "1797 "
       ]
      },
      {
       "output_type": "stream",
       "stream": "stdout",
       "text": [
        "1847\n"
       ]
      }
     ],
     "prompt_number": 41
    },
    {
     "cell_type": "code",
     "collapsed": false,
     "input": [
      "sites = ['001', '003', '004', '006', '007', '008', '010', '011', '012', '013', '031', '034', '036', '101']\n",
      "\n",
      "if visit=='EP4':\n",
      "    subject = 'F6904LWG'\n",
      "elif visit == 'EP5':\n",
      "    subject = 'B69038FC'\n",
      "    \n",
      "\n",
      "project_pk = rest.get_projects(host, token, project)['data'][0]['id']\n",
      "visit_pk = rest.get_visit_types(host, token, visit_type_name=visit, project_pk=project_pk)['data'][0]['id']\n",
      "project_panel_pk = rest.get_project_panels(host, token, project_pk=project_pk, panel_name=project_panel)['data'][0]['id']\n",
      "stimulation_pk = rest.get_stimulations(host, token, project_pk=project_pk, stimulation_name='CMVpp65')['data'][0]['id']\n",
      "subject_pk = rest.get_subjects(host, token, project_pk=project_pk, subject_code=subject)['data'][0]['id']\n",
      "sample_dict = {}\n",
      "for site in sites:\n",
      "    site_pk = rest.get_sites(host, token, site_name=site)['data'][0]['id']\n",
      "    samples = rest.get_samples(host, token, site_pk=site_pk, visit_pk=visit_pk, project_panel_pk=project_panel_pk, stimulation_pk=stimulation_pk, subject_pk=subject_pk)['data']\n",
      "    sample_pks = [sample['id'] for sample in samples]\n",
      "    if sample_pks:\n",
      "        sample_dict[site] = sample_pks[0]\n",
      "sample_dict"
     ],
     "language": "python",
     "metadata": {},
     "outputs": [
      {
       "output_type": "pyout",
       "prompt_number": 39,
       "text": [
        "{'001': 1698,\n",
        " '003': 1727,\n",
        " '004': 1754,\n",
        " '006': 1779,\n",
        " '007': 1808,\n",
        " '008': 1833,\n",
        " '010': 1862,\n",
        " '011': 1889,\n",
        " '012': 1914,\n",
        " '013': 1942,\n",
        " '031': 1969,\n",
        " '034': 1995,\n",
        " '036': 2022,\n",
        " '101': 2050}"
       ]
      }
     ],
     "prompt_number": 39
    },
    {
     "cell_type": "code",
     "collapsed": false,
     "input": [
      "markers = ['FCM_APC-H7_CD3_A', 'VIA_AquaAmine__A', 'FCM_PE-Cy7_CD4_A', 'FCM_PerCP-Cy5.5_CD8_A', 'FCM_APC_IFNg_A', 'FCM_BV421_IL2_A', 'FCM_FITC_TNFa_A', 'FCM_PE_CD107a_A']\n",
      "dims = [(0,1), (2,3), (0,4)]\n",
      "nevents = 10000\n",
      "\n",
      "for site in sites:\n",
      "    try:\n",
      "        site_panel_pk = rest.get_sample(host, token, sample_pk=sample_dict[site])['data']['site_panel']\n",
      "    except:\n",
      "        continue\n",
      "    if os.path.exists(os.path.join(base_dir, 'samples', '%s_%s_small.npy' % (site, sample_dict[site]))):\n",
      "        continue        \n",
      "    site_panel = rest.get_site_panel(host, token, site_panel_pk=site_panel_pk)['data']\n",
      "    mapper = dict([('_'.join((s['parameter_type'], s['fluorochrome']['fluorochrome_abbreviation'] if s['fluorochrome'] else '',  '-'.join(_['name'] for _ in s['markers']), s['parameter_value_type'])), \n",
      "        s['fcs_number']-1) \n",
      "        for s in site_panel['parameters']])\n",
      "    cols = [mapper[marker] for marker in markers]\n",
      "    data = np.load(os.path.join(base_dir, 'samples', '%s.npy' % sample_dict[site]))\n",
      "\n",
      "    idx = np.random.choice(len(data), nevents)\n",
      "    xs = data[idx, :]\n",
      "    xs = xs[:, cols]\n",
      "    np.save(os.path.join(base_dir, 'samples', '%s_%s_small.npy' % (site, sample_dict[site])), xs)"
     ],
     "language": "python",
     "metadata": {},
     "outputs": [],
     "prompt_number": 40
    },
    {
     "cell_type": "code",
     "collapsed": false,
     "input": [],
     "language": "python",
     "metadata": {},
     "outputs": []
    }
   ],
   "metadata": {}
  }
 ]
}