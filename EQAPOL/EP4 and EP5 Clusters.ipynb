{
 "metadata": {
  "name": "EP4 and EP5 Clusters"
 },
 "nbformat": 3,
 "nbformat_minor": 0,
 "worksheets": [
  {
   "cells": [
    {
     "cell_type": "code",
     "collapsed": false,
     "input": [
      "import reflowrestclient.utils as rest\n",
      "import os, sys, glob\n",
      "import utils\n",
      "import json\n",
      "import fcm\n",
      "from fcm.graphics import bilinear_interpolate\n",
      "from matplotlib.path import Path\n",
      "import reflowrestclient.utils as rest"
     ],
     "language": "python",
     "metadata": {},
     "outputs": [],
     "prompt_number": 53
    },
    {
     "cell_type": "code",
     "collapsed": false,
     "input": [
      "host = '54.225.76.82'\n",
      "token = u'4fc9c7b56c195325e6488225e93aff777383d672'"
     ],
     "language": "python",
     "metadata": {},
     "outputs": [],
     "prompt_number": 54
    },
    {
     "cell_type": "code",
     "collapsed": false,
     "input": [
      "base_dir = '/home/cliburn/Dropbox/Inbox/Data/EP/Proceses'\n",
      "# pr_pks = range(51, 67) # EP5\n",
      "pr_pks = range(88, 104) # EP5"
     ],
     "language": "python",
     "metadata": {},
     "outputs": [],
     "prompt_number": 55
    },
    {
     "cell_type": "code",
     "collapsed": false,
     "input": [
      "class Gate(object):\n",
      "    def __init__(self, name, parent, dim, chan, vert):\n",
      "        self.name = name\n",
      "        self.parent = parent\n",
      "        self.dim = dim\n",
      "        self.chan = chan\n",
      "        self.vert = vert\n",
      "        \n",
      "    def __str__(self):\n",
      "        return self.name"
     ],
     "language": "python",
     "metadata": {},
     "outputs": [],
     "prompt_number": 56
    },
    {
     "cell_type": "code",
     "collapsed": false,
     "input": [
      "def get_gates(meta, markers):\n",
      "    \"\"\" Extract gating information from FlowJo metadata. \"\"\"\n",
      "    gates = {}\n",
      "    for m in meta:\n",
      "        c = m.gate.chan\n",
      "        dim = (markers.index(c[0]), markers.index(c[1]))\n",
      "        v = np.array(m.gate.vert)\n",
      "        if not (('FSC' in c[0]) or ('SSC' in c[0]) or ('Time' in c[0])):\n",
      "            v[:,0] = fcm.core.transforms._logicle(v[:,0], 262144, 4.5, None, 0.5)\n",
      "        if not (('FSC' in c[1]) or ('SSC' in c[1]) or ('Time' in c[1])):\n",
      "            v[:,1] = fcm.core.transforms._logicle(v[:,1], 262144, 4.5, None, 0.5)\n",
      "        key = m.gate.name.split('::')[-1]\n",
      "        gates[key] = Gate(m.gate.name, m.parent, dim, c, v)\n",
      "    return gates"
     ],
     "language": "python",
     "metadata": {},
     "outputs": [],
     "prompt_number": 57
    },
    {
     "cell_type": "code",
     "collapsed": false,
     "input": [
      "def get_sample(results, sample_pk=None):\n",
      "    samples = results['metadata']['samples']\n",
      "    if sample_pk is None:\n",
      "        sample_pk = samples.keys()[0]\n",
      "    sample = samples[sample_pk]\n",
      "    return sample_pk, sample"
     ],
     "language": "python",
     "metadata": {},
     "outputs": [],
     "prompt_number": 58
    },
    {
     "cell_type": "code",
     "collapsed": false,
     "input": [
      "def get_xml(base_dir, visit, sample_pk):\n",
      "    site_name = rest.get_sample(host, token, sample_pk)['data']['site_name']\n",
      "    return os.path.join(base_dir, 'xml', 'EQAPOL%s_Site%s_8CICS.xml' % (visit, site_name))"
     ],
     "language": "python",
     "metadata": {},
     "outputs": [],
     "prompt_number": 59
    },
    {
     "cell_type": "code",
     "collapsed": false,
     "input": [
      "def get_ordered_parameters(host, token, site_panel_pk):\n",
      "    \"\"\"Return original channel names in the original order.\"\"\"\n",
      "    params = rest.get_site_panel(host, token, site_panel_pk)['data']['parameters']\n",
      "    idx = [p['fcs_number'] for p in params]\n",
      "    names = [p['fcs_text'] for p in params]\n",
      "    if names[0] == 'Time':\n",
      "        names[:-1], names[-1] = names[1:], names[0]\n",
      "    return [names[i] for i in argsort(idx)]"
     ],
     "language": "python",
     "metadata": {},
     "outputs": [],
     "prompt_number": 60
    },
    {
     "cell_type": "code",
     "collapsed": false,
     "input": [
      "def _get_subsets(results, visit, sample_pk, site_panel_pk):\n",
      "    \"\"\"Helper function to return dictionary of (gated_subset, cluster_idxs) given sample_pk and site_panel_pk.\"\"\"\n",
      "    \n",
      "    print \"@@@\", site_panel_pk\n",
      "    \n",
      "    sample_pk, sample = get_sample(results, sample_pk)\n",
      "    col_idx = results['metadata']['panel_maps'][site_panel_pk]\n",
      "    mus = array(results['results']['mus'])\n",
      "    mus = mus[:, argsort(col_idx)]\n",
      "    xml = get_xml(base_dir, visit, sample_pk)\n",
      "    ws = fcm.load_flowjo_xml(xml)\n",
      "    try:\n",
      "        meta = ws.flat_gates()[sample['filename']]\n",
      "    except:\n",
      "        filename = [s['value'] for s in rest.get_sample_metadata(host, token, sample_pk)['data'] if s['key'] == 'fil'][0]\n",
      "        try:\n",
      "            meta = ws.flat_gates()[filename]\n",
      "        except:\n",
      "            print filename\n",
      "            print ws.flat_gates().keys()\n",
      "            sys.exit()\n",
      "    params = get_ordered_parameters(host, token, sample['site_panel'])\n",
      "    gates = get_gates(meta, params)\n",
      "    cidx_dict = {}\n",
      "    for subset in gates:\n",
      "        gate_seq = [g for g in gates[subset].name.split('::')]\n",
      "        cidx = ones(len(mus), 'bool')\n",
      "        for key in gate_seq:\n",
      "            gate = gates[key]\n",
      "            if 'Time' in gate.chan:\n",
      "                continue\n",
      "            dim = array(gate.dim)\n",
      "            centers = mus[:, dim]\n",
      "            p = Path(gate.vert)\n",
      "            cidx &= p.contains_points(centers)\n",
      "        cidx_dict[subset] = cidx\n",
      "    return cidx_dict\n",
      "\n",
      "def get_sample_subsets(results, visit, sample_pk=None):\n",
      "    \"\"\"Returns return dictionary of (gated_subset, cluster_idxs) given the resluts dictionary and sample_pk. \n",
      "    If sample_pk is None, use first sample in results\"\"\"\n",
      "    sample_pk, sample = get_sample(results, sample_pk)\n",
      "    site_panel_pk = str(sample['site_panel'])\n",
      "    return _get_subsets(results, visit, sample_pk, site_panel_pk)\n",
      "\n",
      "def get_site_panel_subsets(results, site_panel_pk=None):\n",
      "    \"\"\"Returns return dictionary of (gated_subset, cluster_idxs) given the resluts dictionary and site_panel_pk. \n",
      "    If site_panel_pk is None, use first site_panel in results\"\"\"\n",
      "    if site_panel_pk is None:\n",
      "        site_panel_pk = results['metadata']['panel_maps'].keys()[0]\n",
      "    samples = results['metadata']['samples']\n",
      "    sample_pk = None\n",
      "    for key in samples:\n",
      "        if samples[key]['site_panel'] == site_panel_pk:\n",
      "            sample_pk = key\n",
      "            break\n",
      "    return _get_subsets(results, sample_pk, site_panel_pk)"
     ],
     "language": "python",
     "metadata": {},
     "outputs": [],
     "prompt_number": 61
    },
    {
     "cell_type": "code",
     "collapsed": false,
     "input": [
      "def get_cluster_mus(results, cidx_dict, subset):\n",
      "    idx = cidx_dict[subset]\n",
      "    mus = array(results['results']['mus'])\n",
      "    return mus[idx]\n",
      "\n",
      "def get_cluster_sigmas(results, cidx_dict, subset):\n",
      "    idx = cidx_dict[subset]\n",
      "    sigmas = array(results['results']['sigmas'])\n",
      "    return sigmas[idx]"
     ],
     "language": "python",
     "metadata": {},
     "outputs": [],
     "prompt_number": 62
    },
    {
     "cell_type": "code",
     "collapsed": false,
     "input": [
      "if not os.path.exists(base_dir):\n",
      "    os.makedirs(base_dir)\n",
      "for pr_pk in pr_pks:\n",
      "    pr = rest.get_process_request(host, token, process_request_pk=pr_pk)['data']\n",
      "    inputs = pr['inputs']\n",
      "    try:\n",
      "        site_pk = [i['value'] for i in inputs if i['key'] == 'site'][0]\n",
      "    except:\n",
      "        continue\n",
      "    print site_pk,\n",
      "    outputs = pr['outputs']\n",
      "    try:\n",
      "        po_pk = [o['id'] for o in outputs if o['key'] == 'averaged_results.json'][0]\n",
      "        if not os.path.exists(os.path.join(base_dir, '%s_process_output' % site_pk)):\n",
      "            rest.download_process_output(host, token, process_output_pk=po_pk, directory=base_dir)\n",
      "    except:\n",
      "        continue\n",
      "    print"
     ],
     "language": "python",
     "metadata": {},
     "outputs": [
      {
       "output_type": "stream",
       "stream": "stdout",
       "text": [
        "22\n"
       ]
      },
      {
       "output_type": "stream",
       "stream": "stdout",
       "text": [
        "23\n"
       ]
      },
      {
       "output_type": "stream",
       "stream": "stdout",
       "text": [
        "24\n"
       ]
      },
      {
       "output_type": "stream",
       "stream": "stdout",
       "text": [
        "25\n"
       ]
      },
      {
       "output_type": "stream",
       "stream": "stdout",
       "text": [
        "26\n"
       ]
      },
      {
       "output_type": "stream",
       "stream": "stdout",
       "text": [
        "27\n"
       ]
      },
      {
       "output_type": "stream",
       "stream": "stdout",
       "text": [
        "28\n"
       ]
      },
      {
       "output_type": "stream",
       "stream": "stdout",
       "text": [
        "29\n"
       ]
      },
      {
       "output_type": "stream",
       "stream": "stdout",
       "text": [
        "30\n"
       ]
      },
      {
       "output_type": "stream",
       "stream": "stdout",
       "text": [
        "31\n"
       ]
      },
      {
       "output_type": "stream",
       "stream": "stdout",
       "text": [
        "32\n"
       ]
      },
      {
       "output_type": "stream",
       "stream": "stdout",
       "text": [
        "33 "
       ]
      },
      {
       "output_type": "stream",
       "stream": "stdout",
       "text": [
        "34\n"
       ]
      },
      {
       "output_type": "stream",
       "stream": "stdout",
       "text": [
        "35\n"
       ]
      },
      {
       "output_type": "stream",
       "stream": "stdout",
       "text": [
        "36\n"
       ]
      },
      {
       "output_type": "stream",
       "stream": "stdout",
       "text": [
        "37\n"
       ]
      }
     ],
     "prompt_number": 51
    },
    {
     "cell_type": "code",
     "collapsed": false,
     "input": [
      "# dims = [(9,8), (13,10), (1,10), (2,3)] \n",
      "\n",
      "for p in sorted(glob.glob(os.path.join(base_dir, '*process_output')))[:]:\n",
      "    data = json.load(open(p))\n",
      "    \n",
      "    results = data['results']\n",
      "    meta = data['metadata']\n",
      "    \n",
      "    s_pk = results['samples'][0]['sample_id']\n",
      "    sample = rest.get_sample(host, token, sample_pk=s_pk)['data']\n",
      "    site = sample['site_name']\n",
      "    visit = sample['visit_name']\n",
      "    \n",
      "    target_dir = os.path.join(base_dir, visit)\n",
      "    if not os.path.exists(target_dir):\n",
      "        os.makedirs(target_dir)\n",
      "    mus = array(results['mus'])\n",
      "    np.savetxt(os.path.join(target_dir, '%s_mus.txt' % site), mus)       \n",
      "    np.savetxt(os.path.join(target_dir, '%s_parameter_map.txt' % site), meta['panel_maps'].values()[0])\n",
      "    np.savetxt(os.path.join(target_dir, '%s_parameters.txt' % site),  meta['fcs_parameters'], fmt='%s')\n",
      "    \n",
      "    continue\n",
      "    \n",
      "    cdict = get_sample_subsets(data, visit)\n",
      "    params = meta['fcs_parameters']\n",
      "    for key in cdict:\n",
      "        mus = get_cluster_mus(data, cdict, key)\n",
      "        np.savetxt(os.path.join(target_dir, '%s_%s_mus.txt' % (site, key)), mus)\n",
      "    \n",
      "#    ncols = len(dims)\n",
      "#    nrows = 1\n",
      "#    sz = 3\n",
      "#    figure(figsize=(ncols*sz, nrows*sz))\n",
      "#    for k, dim in enumerate(dims):\n",
      "#        subplot(nrows, ncols, k+1)\n",
      "#        try:\n",
      "#            scatter(mus[:, dim[0]], mus[:, dim[1]], s=50, c='yellow')\n",
      "#        except:\n",
      "#            pass\n",
      "#        xlab, ylab = params[dim[0]], params[dim[1]]\n",
      "#        xlabel(xlab)\n",
      "#        ylabel(ylab)\n",
      "#        if 'FSC' in xlab or 'SSC' in xlab:\n",
      "#            xlim([0, 265000])\n",
      "#        elif 'Time' in xlab:\n",
      "#            pass\n",
      "#        else:\n",
      "#            xlim([-0.1, 1])\n",
      "#        if 'FSC' in ylab or 'SSC' in ylab:\n",
      "#            ylim([0, 265000])\n",
      "#        elif 'Time' in ylab:\n",
      "#            pass\n",
      "#        else:\n",
      "#            ylim([-0.1, 1])\n",
      "#        xticks([])\n",
      "#        yticks([])\n",
      "#    tight_layout()\n",
      "    \n",
      "#    break"
     ],
     "language": "python",
     "metadata": {},
     "outputs": [],
     "prompt_number": 65
    },
    {
     "cell_type": "code",
     "collapsed": false,
     "input": [
      "cdict.keys()"
     ],
     "language": "python",
     "metadata": {},
     "outputs": [
      {
       "output_type": "pyout",
       "prompt_number": 33,
       "text": [
        "['DN',\n",
        " 'CD8+IFNg+',\n",
        " 'Singlets',\n",
        " 'CD8+TNFa+',\n",
        " 'DP',\n",
        " 'DN IL2+',\n",
        " 'DP IL2+',\n",
        " 'CD8+',\n",
        " 'CD4+CD107+',\n",
        " 'CD4+IL2+',\n",
        " 'DN TNFa+',\n",
        " 'SSC vs aAmine-',\n",
        " 'DN IFNg+',\n",
        " 'CD4+',\n",
        " 'CD8+IL2+',\n",
        " 'DP IFNg+',\n",
        " 'DP TNFa+',\n",
        " 'DP CD107+',\n",
        " 'CD8+CD107+',\n",
        " 'CD4+IFNg+',\n",
        " 'CD4+TNFa+',\n",
        " 'Time vs FSC',\n",
        " 'SSC vs CD3+',\n",
        " 'DN CD107+']"
       ]
      }
     ],
     "prompt_number": 33
    },
    {
     "cell_type": "code",
     "collapsed": false,
     "input": [],
     "language": "python",
     "metadata": {},
     "outputs": []
    }
   ],
   "metadata": {}
  }
 ]
}