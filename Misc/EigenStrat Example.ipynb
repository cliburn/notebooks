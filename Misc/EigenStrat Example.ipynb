{
 "metadata": {
  "name": "EigenStrat Example"
 },
 "nbformat": 3,
 "nbformat_minor": 0,
 "worksheets": [
  {
   "cells": [
    {
     "cell_type": "code",
     "collapsed": false,
     "input": [
      "gs = array([\n",
      "            [1,1,1,0,0],\n",
      "            [0,1,2,1,2],\n",
      "            [2,1,1,0,1],\n",
      "            [0,0,1,2,2],\n",
      "            [2,1,1,0,0],\n",
      "            [0,0,1,1,1],\n",
      "            [2,2,1,1,0]])"
     ],
     "language": "python",
     "metadata": {},
     "outputs": [],
     "prompt_number": 39
    },
    {
     "cell_type": "code",
     "collapsed": false,
     "input": [
      "sgs = (gs - gs.mean(0))"
     ],
     "language": "python",
     "metadata": {},
     "outputs": [],
     "prompt_number": 40
    },
    {
     "cell_type": "code",
     "collapsed": false,
     "input": [
      "eigenvectors, eigenvalues, V = np.linalg.svd(sgs.T, full_matrices=True)\n",
      "print eigenvectors\n",
      "print eigenvalues"
     ],
     "language": "python",
     "metadata": {},
     "outputs": [
      {
       "output_type": "stream",
       "stream": "stdout",
       "text": [
        "[[ 0.6383335   0.27326821 -0.0820035   0.6515655   0.29426629]\n",
        " [ 0.34942591  0.70013248  0.05150238 -0.42548936 -0.45168833]\n",
        " [-0.10825644  0.3187163   0.4687136  -0.30988724  0.75563081]\n",
        " [-0.40029797  0.42072252 -0.7752233   0.00592409  0.24849112]\n",
        " [-0.5463277   0.39566587  0.41226124  0.54621973 -0.27687406]]\n",
        "[ 3.62167921  1.45241188  1.25715985  1.06582045  0.23982345]\n"
       ]
      }
     ],
     "prompt_number": 41
    },
    {
     "cell_type": "code",
     "collapsed": false,
     "input": [
      "snp = matrix([2,2,1,1,0])\n",
      "phenotype = matrix([1,1,0,0,0])"
     ],
     "language": "python",
     "metadata": {},
     "outputs": [],
     "prompt_number": 27
    },
    {
     "cell_type": "code",
     "collapsed": false,
     "input": [
      "snp.shape"
     ],
     "language": "python",
     "metadata": {},
     "outputs": [
      {
       "output_type": "pyout",
       "prompt_number": 31,
       "text": [
        "(1, 5)"
       ]
      }
     ],
     "prompt_number": 31
    },
    {
     "cell_type": "code",
     "collapsed": false,
     "input": [
      "v.shape"
     ],
     "language": "python",
     "metadata": {},
     "outputs": [
      {
       "output_type": "pyout",
       "prompt_number": 32,
       "text": [
        "(1, 5)"
       ]
      }
     ],
     "prompt_number": 32
    },
    {
     "cell_type": "code",
     "collapsed": false,
     "input": [
      "v.T * snp"
     ],
     "language": "python",
     "metadata": {},
     "outputs": [
      {
       "output_type": "pyout",
       "prompt_number": 33,
       "text": [
        "matrix([[ 1.4,  1.4,  0.7,  0.7,  0. ],\n",
        "        [ 0.8,  0.8,  0.4,  0.4,  0. ],\n",
        "        [-0.2, -0.2, -0.1, -0.1,  0. ],\n",
        "        [-0.8, -0.8, -0.4, -0.4,  0. ],\n",
        "        [-1. , -1. , -0.5, -0.5,  0. ]])"
       ]
      }
     ],
     "prompt_number": 33
    },
    {
     "cell_type": "code",
     "collapsed": false,
     "input": [],
     "language": "python",
     "metadata": {},
     "outputs": []
    }
   ],
   "metadata": {}
  }
 ]
}