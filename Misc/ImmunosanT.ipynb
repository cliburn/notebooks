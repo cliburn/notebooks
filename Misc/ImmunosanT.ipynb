{
 "metadata": {
  "name": "ImmunosanT"
 },
 "nbformat": 3,
 "nbformat_minor": 0,
 "worksheets": [
  {
   "cells": [
    {
     "cell_type": "code",
     "collapsed": false,
     "input": [
      "import csv\n",
      "import os, sys"
     ],
     "language": "python",
     "metadata": {},
     "outputs": [],
     "prompt_number": 13
    },
    {
     "cell_type": "code",
     "collapsed": false,
     "input": [
      "base_dir = '/home/cliburn/Dropbox/Inbox/Projects/ImmunosanT2/'"
     ],
     "language": "python",
     "metadata": {},
     "outputs": [],
     "prompt_number": 34
    },
    {
     "cell_type": "code",
     "collapsed": false,
     "input": [
      "# look for duplicates\n",
      "ft_dict = {}\n",
      "fb = open(os.path.join(base_dir, 'ImmusanT ReExport-Batch_Analysis_BNK_je edit.csv'), 'rU')\n",
      "ft = open(os.path.join(base_dir, 'ImmusanT ReExport-Batch_Analysis_4_8_je edit.csv'), 'rU')\n",
      "\n",
      "keyst = []\n",
      "reader = csv.reader(ft)\n",
      "i = 0\n",
      "for row in reader:\n",
      "    i += 1\n",
      "    if row[0] == '':\n",
      "        continue\n",
      "    else:\n",
      "        header = row\n",
      "        vals = reader.next()\n",
      "        i += 1\n",
      "        key = '_'.join(vals[:2] + vals[8:10])\n",
      "        keyst.append(key)\n",
      "        \n",
      "keysb = []\n",
      "reader = csv.reader(fb)\n",
      "i = 0\n",
      "for row in reader:\n",
      "    i += 1\n",
      "    if row[0] == '':\n",
      "        continue\n",
      "    else:\n",
      "        header = row\n",
      "        vals = reader.next()\n",
      "        i += 1\n",
      "        key = '_'.join(vals[:2] + vals[8:10])\n",
      "        keysb.append(key)"
     ],
     "language": "python",
     "metadata": {},
     "outputs": [],
     "prompt_number": 26
    },
    {
     "cell_type": "code",
     "collapsed": false,
     "input": [
      "db = {}\n",
      "keys = keysb\n",
      "\n",
      "for k1 in keys:\n",
      "    db[k1] = db.get(k1, 0) + 1\n",
      "    \n",
      "for k in db:\n",
      "    if db[k] > 1:\n",
      "        print k"
     ],
     "language": "python",
     "metadata": {},
     "outputs": [
      {
       "output_type": "stream",
       "stream": "stdout",
       "text": [
        "ImmusanT 17Mar14 Re EXport_003_S0200506_V4_02Feb13_Nexvax2-1002 _PBMC \n",
        "ImmusanT 18Mar14 Re Export_001_S0200509_V26_18Apr13_Nexvax2-1002 _PBMC \n"
       ]
      }
     ],
     "prompt_number": 33
    },
    {
     "cell_type": "code",
     "collapsed": false,
     "input": [
      "ft_dict = {}\n",
      "targets = ['CD45+ #Events', 'CD45+ %Parent', 'Q2 %Parent', 'Q4 %Parent', 'Q2-1 %Parent', 'Q4-1 %Parent']\n",
      "ft = open(os.path.join(base_dir, 'ImmusanT ReExport-Batch_Analysis_4_8_je edit.csv'), 'rU')\n",
      "reader = csv.reader(ft)\n",
      "for row in reader:\n",
      "    if row[0] == '':\n",
      "        continue\n",
      "    else:\n",
      "        header = row\n",
      "        vals = reader.next()\n",
      "        key = '_'.join(vals[:2] + vals[8:10])\n",
      "        cols = [header.index(s) for s in targets]\n",
      "                \n",
      "        sponsor_idx = header.index('Sponsor')\n",
      "        if 'CFAR' in vals[sponsor_idx]:\n",
      "            continue\n",
      "                \n",
      "                \n",
      "        ft_dict[key] = header[:13], vals[:13], array([vals[i] for i in cols]).astype('float')\n",
      "len(ft_dict)"
     ],
     "language": "python",
     "metadata": {},
     "outputs": [
      {
       "output_type": "pyout",
       "prompt_number": 42,
       "text": [
        "312"
       ]
      }
     ],
     "prompt_number": 42
    },
    {
     "cell_type": "code",
     "collapsed": false,
     "input": [
      "fb_dict = {}\n",
      "targets = ['CD45+ #Events', 'CD45+ %Parent', 'Q2 %Parent', 'Q4 %Parent', 'Q2-1 %Parent', 'Q4-1 %Parent', 'Q1 %Parent', 'Q1-1 %Parent']\n",
      "fb = open(os.path.join(base_dir, 'ImmusanT ReExport-Batch_Analysis_BNK_je edit.csv'), 'rU')\n",
      "reader = csv.reader(fb)\n",
      "for row in reader:\n",
      "    if row[0] == '':\n",
      "        continue\n",
      "    else:\n",
      "        header = row\n",
      "        vals = reader.next()\n",
      "        key = '_'.join(vals[:2] + vals[8:10])\n",
      "        cols = [header.index(s) for s in targets]\n",
      "        \n",
      "        sponsor_idx = header.index('Sponsor')\n",
      "        if 'CFAR' in vals[sponsor_idx]:\n",
      "            continue\n",
      "        \n",
      "        fb_dict[key] = header[:13], vals[:13], array([vals[i] for i in cols]).astype('float')\n",
      "len(fb_dict)"
     ],
     "language": "python",
     "metadata": {},
     "outputs": [
      {
       "output_type": "pyout",
       "prompt_number": 43,
       "text": [
        "312"
       ]
      }
     ],
     "prompt_number": 43
    },
    {
     "cell_type": "code",
     "collapsed": false,
     "input": [
      "extras = ['% Average Live CD45+', '% Average Live CD3+', 'CD45+ #Events (4_8)', '% CD3+ CD4+', \n",
      "          '% CD3+ CD8+', 'CD45+ #Events (BNK)', '% CD3- CD19+', '% CD3- CD16+56+']\n",
      "\n",
      "\n",
      "with open(os.path.join(base_dir, 'results.csv'), 'wb') as f:\n",
      "    writer = csv.writer(f)\n",
      "    writer.writerow(header[:13] + extras)\n",
      "    for key in ft_dict:\n",
      "        if key in fb_dict:\n",
      "            ht, st, vt = ft_dict[key]\n",
      "            hb, sb, vb = fb_dict[key]\n",
      "            calc = [(vt[1] + vb[1])/2.0, sum(vt[2:6] + vb[2:6])/4.0, vt[0], vt[2], vt[4], vb[0], vb[6], vb[7]] \n",
      "            writer.writerow(st + calc)"
     ],
     "language": "python",
     "metadata": {},
     "outputs": [],
     "prompt_number": 44
    },
    {
     "cell_type": "code",
     "collapsed": false,
     "input": [
      "nerr = 0\n",
      "nmatch = 0\n",
      "for key in fb_dict:\n",
      "    try:\n",
      "        bvals = fb_dict[key]\n",
      "        tvals = ft_dict[key]\n",
      "    except KeyError, e:\n",
      "        print e\n",
      "        print key\n",
      "        sys.exit()\n",
      "        nerr += 1\n",
      "        continue\n",
      "    nmatch += 1\n",
      "print nmatch, nerr"
     ],
     "language": "python",
     "metadata": {},
     "outputs": [
      {
       "ename": "SystemExit",
       "evalue": "",
       "output_type": "pyerr",
       "traceback": [
        "An exception has occurred, use %tb to see the full traceback.\n",
        "\u001b[1;31mSystemExit\u001b[0m\n"
       ]
      },
      {
       "output_type": "stream",
       "stream": "stdout",
       "text": [
        "'ImmusanT 17Mar14 Re EXport_S0200308_V6_21Dec12_Nexvax2-1002 _PBMC '\n",
        "ImmusanT 17Mar14 Re EXport_S0200308_V6_21Dec12_Nexvax2-1002 _PBMC \n"
       ]
      },
      {
       "output_type": "stream",
       "stream": "stderr",
       "text": [
        "To exit: use 'exit', 'quit', or Ctrl-D."
       ]
      }
     ],
     "prompt_number": 18
    },
    {
     "cell_type": "code",
     "collapsed": false,
     "input": [
      "fkeys = fb_dict.keys() + ft_dict.keys()\n",
      "for s in set(fb_dict.keys()) - set(ft_dict.keys()):\n",
      "    print '%s is in BNK but not in 4_8' % s\n",
      "for s in set(ft_dict.keys()) - set(fb_dict.keys()):\n",
      "    print '%s is in 4_8 but not in BNK' % s"
     ],
     "language": "python",
     "metadata": {},
     "outputs": [
      {
       "output_type": "stream",
       "stream": "stdout",
       "text": [
        "ImmusanT 19Mar14 Re Export_S0200515_V6_21May13_Nexvax2-1002 _PBMC  is in BNK but not in 4_8\n",
        "ImmusanT 17Mar14 Re EXport_S0200308_V6_21Dec12_Nexvax2-1002 _PBMC  is in BNK but not in 4_8\n",
        "ImmusanT 19Mar14 Re Export_S0200515_V8_28May13_Nexvax2-1002 _PBMC  is in 4_8 but not in BNK\n",
        "ImmusanT 18Mar14 Re Export_S0200509_V26_18Apr13_Nexvax2-1002 _PBMC  is in 4_8 but not in BNK\n",
        "ImmusanT 19Mar14 Re Export_S0200514_V13_14Jun13_Nexvax2-1002 _PBMC  is in 4_8 but not in BNK\n"
       ]
      }
     ],
     "prompt_number": 74
    },
    {
     "cell_type": "code",
     "collapsed": false,
     "input": [],
     "language": "python",
     "metadata": {},
     "outputs": []
    }
   ],
   "metadata": {}
  }
 ]
}