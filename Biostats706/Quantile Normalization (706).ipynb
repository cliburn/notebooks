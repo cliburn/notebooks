{
 "metadata": {
  "name": ""
 },
 "nbformat": 3,
 "nbformat_minor": 0,
 "worksheets": [
  {
   "cells": [
    {
     "cell_type": "code",
     "collapsed": false,
     "input": [
      "from scipy.stats import rankdata\n",
      "from functools import partial"
     ],
     "language": "python",
     "metadata": {},
     "outputs": [],
     "prompt_number": 55
    },
    {
     "cell_type": "code",
     "collapsed": false,
     "input": [
      "ar = array([[5,4,3],[2,1,4],[3,4,6],[4,2,8]])\n",
      "ar"
     ],
     "language": "python",
     "metadata": {},
     "outputs": [
      {
       "metadata": {},
       "output_type": "pyout",
       "prompt_number": 80,
       "text": [
        "array([[5, 4, 3],\n",
        "       [2, 1, 4],\n",
        "       [3, 4, 6],\n",
        "       [4, 2, 8]])"
       ]
      }
     ],
     "prompt_number": 80
    },
    {
     "cell_type": "code",
     "collapsed": false,
     "input": [
      "ranked_ar = np.apply_along_axis(partial(rankdata, method='ordinal'), 0, ar)\n",
      "ranked_ar -= 1\n",
      "ranked_ar = ranked_ar.astype('int')\n",
      "ranked_ar"
     ],
     "language": "python",
     "metadata": {},
     "outputs": [
      {
       "metadata": {},
       "output_type": "pyout",
       "prompt_number": 81,
       "text": [
        "array([[3, 2, 0],\n",
        "       [0, 0, 1],\n",
        "       [1, 3, 2],\n",
        "       [2, 1, 3]])"
       ]
      }
     ],
     "prompt_number": 81
    },
    {
     "cell_type": "code",
     "collapsed": false,
     "input": [
      "sorted_ar = np.sort(ar, 0)\n",
      "sorted_ar"
     ],
     "language": "python",
     "metadata": {},
     "outputs": [
      {
       "metadata": {},
       "output_type": "pyout",
       "prompt_number": 82,
       "text": [
        "array([[2, 1, 3],\n",
        "       [3, 2, 4],\n",
        "       [4, 4, 6],\n",
        "       [5, 4, 8]])"
       ]
      }
     ],
     "prompt_number": 82
    },
    {
     "cell_type": "code",
     "collapsed": false,
     "input": [
      "normed_vals = sorted_ar.mean(1)\n",
      "normed_vals"
     ],
     "language": "python",
     "metadata": {},
     "outputs": [
      {
       "metadata": {},
       "output_type": "pyout",
       "prompt_number": 83,
       "text": [
        "array([ 2.        ,  3.        ,  4.66666667,  5.66666667])"
       ]
      }
     ],
     "prompt_number": 83
    },
    {
     "cell_type": "code",
     "collapsed": false,
     "input": [
      "normed_vals[ranked_ar]"
     ],
     "language": "python",
     "metadata": {},
     "outputs": [
      {
       "metadata": {},
       "output_type": "pyout",
       "prompt_number": 84,
       "text": [
        "array([[ 5.66666667,  4.66666667,  2.        ],\n",
        "       [ 2.        ,  2.        ,  3.        ],\n",
        "       [ 3.        ,  5.66666667,  4.66666667],\n",
        "       [ 4.66666667,  3.        ,  5.66666667]])"
       ]
      }
     ],
     "prompt_number": 84
    },
    {
     "cell_type": "code",
     "collapsed": false,
     "input": [
      "def quantile_normalization(xs):\n",
      "    ranked_ar = np.apply_along_axis(partial(rankdata, method='ordinal'), 0, xs).astype('int') - 1\n",
      "    normed_vals = np.sort(xs, 0).mean(1)\n",
      "    return normed_vals[ranked_ar]"
     ],
     "language": "python",
     "metadata": {},
     "outputs": [],
     "prompt_number": 90
    },
    {
     "cell_type": "code",
     "collapsed": false,
     "input": [
      "ar"
     ],
     "language": "python",
     "metadata": {},
     "outputs": [
      {
       "metadata": {},
       "output_type": "pyout",
       "prompt_number": 91,
       "text": [
        "array([[5, 4, 3],\n",
        "       [2, 1, 4],\n",
        "       [3, 4, 6],\n",
        "       [4, 2, 8]])"
       ]
      }
     ],
     "prompt_number": 91
    },
    {
     "cell_type": "code",
     "collapsed": false,
     "input": [
      "quantile_normalization(ar)"
     ],
     "language": "python",
     "metadata": {},
     "outputs": [
      {
       "metadata": {},
       "output_type": "pyout",
       "prompt_number": 136,
       "text": [
        "array([[ 5.66666667,  4.66666667,  2.        ],\n",
        "       [ 2.        ,  2.        ,  3.        ],\n",
        "       [ 3.        ,  5.66666667,  4.66666667],\n",
        "       [ 4.66666667,  3.        ,  5.66666667]])"
       ]
      }
     ],
     "prompt_number": 136
    },
    {
     "cell_type": "code",
     "collapsed": false,
     "input": [
      "xs = np.array([np.random.normal(mu, sigma, 1000) for (mu, sigma) in zip([0, 5, 10], [1,2,3])]).T\n",
      "hist(xs[:], 25, histtype='step');"
     ],
     "language": "python",
     "metadata": {},
     "outputs": [
      {
       "metadata": {},
       "output_type": "display_data",
       "png": "[encoded data removed]",
       "text": [
        "<matplotlib.figure.Figure at 0x10f178550>"
       ]
      }
     ],
     "prompt_number": 110
    },
    {
     "cell_type": "code",
     "collapsed": false,
     "input": [
      "qxs = quantile_normalization(xs)\n",
      "hist(qxs + [0,0.1,0.2], 25, histtype='step');"
     ],
     "language": "python",
     "metadata": {},
     "outputs": [
      {
       "metadata": {},
       "output_type": "display_data",
       "png": "[encoded data removed]",
       "text": [
        "<matplotlib.figure.Figure at 0x10ee8cd90>"
       ]
      }
     ],
     "prompt_number": 115
    },
    {
     "cell_type": "code",
     "collapsed": false,
     "input": [
      "subplot(121)\n",
      "imshow(xs[:10,:], interpolation='nearest')\n",
      "xticks([0,1,2], ['Chip %d' % i for i in range(1, 4)], rotation=90)\n",
      "yticks(range(10), ['Gene %d' % i for i in range(1,11)])\n",
      "title('Before QN', fontsize=14)\n",
      "subplot(122)\n",
      "imshow(qxs[:10,:], interpolation='nearest')\n",
      "xticks([0,1,2], ['Chip %d' % i for i in range(1, 4)], rotation=90)\n",
      "yticks(range(10), ['Gene %d' % i for i in range(1,11)])\n",
      "title('After QN', fontsize=14);"
     ],
     "language": "python",
     "metadata": {},
     "outputs": [
      {
       "metadata": {},
       "output_type": "display_data",
       "png": "[encoded data removed]",
       "text": [
        "<matplotlib.figure.Figure at 0x111013550>"
       ]
      }
     ],
     "prompt_number": 134
    },
    {
     "cell_type": "code",
     "collapsed": false,
     "input": [],
     "language": "python",
     "metadata": {},
     "outputs": []
    }
   ],
   "metadata": {}
  }
 ]
}