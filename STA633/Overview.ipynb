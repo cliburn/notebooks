{
 "metadata": {
  "name": ""
 },
 "nbformat": 3,
 "nbformat_minor": 0,
 "worksheets": [
  {
   "cells": [
    {
     "cell_type": "markdown",
     "metadata": {},
     "source": [
      "STA 633 Course ideas\n",
      "----\n",
      "\n",
      "Data examples from https://www.kaggle.com including electronic health care records.\n",
      "More data examples http://www.quandl.com/help/packages/python\n"
     ]
    },
    {
     "cell_type": "code",
     "collapsed": false,
     "input": [],
     "language": "python",
     "metadata": {},
     "outputs": []
    }
   ],
   "metadata": {}
  }
 ]
}